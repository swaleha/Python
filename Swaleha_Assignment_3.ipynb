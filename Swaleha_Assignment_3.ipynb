{
  "nbformat": 4,
  "nbformat_minor": 0,
  "metadata": {
    "colab": {
      "name": "Swaleha_Assignment 3.ipynb",
      "provenance": [],
      "collapsed_sections": [],
      "include_colab_link": true
    },
    "kernelspec": {
      "name": "python3",
      "display_name": "Python 3"
    }
  },
  "cells": [
    {
      "cell_type": "markdown",
      "metadata": {
        "id": "view-in-github",
        "colab_type": "text"
      },
      "source": [
        "<a href=\"https://colab.research.google.com/github/swaleha/Python/blob/master/Swaleha_Assignment_3.ipynb\" target=\"_parent\"><img src=\"https://colab.research.google.com/assets/colab-badge.svg\" alt=\"Open In Colab\"/></a>"
      ]
    },
    {
      "cell_type": "markdown",
      "metadata": {
        "id": "YCKRJLaYcrOU",
        "colab_type": "text"
      },
      "source": [
        "#Q. Even Sum\n",
        "Write a function that takes an argument ```n``` and returns sum of all even numbers $2, 4, \\ldots$ upto $n$"
      ]
    },
    {
      "cell_type": "code",
      "metadata": {
        "id": "GbbyVwn_k1YW",
        "colab_type": "code",
        "outputId": "c0730d1a-9d9f-433f-b861-13b641faab97",
        "colab": {
          "base_uri": "https://localhost:8080/",
          "height": 34
        }
      },
      "source": [
        "def sum_of_evens (n):\n",
        "  '''\n",
        "  This function that calculates the sum of even numbers.\n",
        "  Input(s):\n",
        "  n:Int\n",
        "\n",
        "  Output(s):\n",
        "  sum_:Int, sum of even numbers upto n\n",
        "  '''\n",
        "  sum_ = 0\n",
        "  for i in range(n):\n",
        "    if(i % 2 == 0):\n",
        "      sum_ += i\n",
        "  \n",
        "  return sum_"
      ],
      "execution_count": 0,
      "outputs": [
        {
          "output_type": "stream",
          "text": [
            "2450\n"
          ],
          "name": "stdout"
        }
      ]
    },
    {
      "cell_type": "markdown",
      "metadata": {
        "id": "OmWQSgEbc9Tj",
        "colab_type": "text"
      },
      "source": [
        "#Q. Intersection\n",
        "Write a function that takes two lists ```l1``` and ```l2``` as arguments and returns a list containing elements that are common to both lists without containing any duplicates."
      ]
    },
    {
      "cell_type": "code",
      "metadata": {
        "id": "jw6MAM8hdTzI",
        "colab_type": "code",
        "outputId": "fe57f66c-5176-45b8-ec77-d83cfc379fe5",
        "colab": {
          "base_uri": "https://localhost:8080/",
          "height": 34
        }
      },
      "source": [
        "def intersection(l1, l2):\n",
        "  '''\n",
        "  This functions returns common elements in the two lists without any duplicates\n",
        "\n",
        "  Input(s):\n",
        "  l1:first list\n",
        "  l2:second list\n",
        "\n",
        "  Output(s):\n",
        "  res: output list, contains common elements from l1 and l2 without \n",
        "  '''\n",
        "  \n",
        "  res = []\n",
        "\n",
        "  for i in l1:\n",
        "    for j in l2:\n",
        "      if i == j:\n",
        "        if (i not in res) :\n",
        "          res.append(i)\n",
        "  return res"
      ],
      "execution_count": 0,
      "outputs": [
        {
          "output_type": "stream",
          "text": [
            "['a', 1, 2, 5, 8, 'b', 'c']\n"
          ],
          "name": "stdout"
        }
      ]
    },
    {
      "cell_type": "markdown",
      "metadata": {
        "id": "yWcvFuaNdSs-",
        "colab_type": "text"
      },
      "source": [
        "#Q. Primality\n",
        "Write a function that takes a number ```n``` as argument and returns ```True``` if the number is prime and ```False``` otherwise."
      ]
    },
    {
      "cell_type": "code",
      "metadata": {
        "id": "FqZmuu-FdtnR",
        "colab_type": "code",
        "outputId": "07d95dce-e8ef-459d-e47a-55f34b8077fc",
        "colab": {
          "base_uri": "https://localhost:8080/",
          "height": 34
        }
      },
      "source": [
        "def isPrime(n):\n",
        "  '''\n",
        "  This function checks whether a number is prime or not prime\n",
        "  Input(s):\n",
        "  n:Int\n",
        "\n",
        "  Output(s):\n",
        "  Boolean, True if n is prime or False otherwise\n",
        "  '''\n",
        "  if (n > 1):\n",
        "    for i in range(2, (n // 2) + 1):\n",
        "      if(n % i == 0):\n",
        "        return False\n",
        "    else:\n",
        "      return True \n",
        "  else:\n",
        "     return False\n",
        "\n"
      ],
      "execution_count": 0,
      "outputs": [
        {
          "output_type": "stream",
          "text": [
            "True\n"
          ],
          "name": "stdout"
        }
      ]
    },
    {
      "cell_type": "markdown",
      "metadata": {
        "id": "5oNKdGnQdvwb",
        "colab_type": "text"
      },
      "source": [
        "#Q. Digit Count and Sum\n",
        "Write a function that takes a number ```n``` as input and returns a tuple of two values - the number of digits in that number and sum of digits in that number."
      ]
    },
    {
      "cell_type": "code",
      "metadata": {
        "id": "qXYtFx4ueOpq",
        "colab_type": "code",
        "outputId": "f997334d-cbee-4240-b1aa-b577a0af3f9c",
        "colab": {
          "base_uri": "https://localhost:8080/",
          "height": 34
        }
      },
      "source": [
        "def digit_count_sum(n):\n",
        "  '''\n",
        "  This function displays the number of digits and sum of digits in a number as a tuple\n",
        "  Input(s):\n",
        "  n:Int\n",
        "\n",
        "  Output(s):\n",
        "  T:Int, tuple of two values i.e count and sum of digits for n\n",
        "  '''\n",
        "  count_ = 0\n",
        "  sum_ = 0\n",
        "\n",
        "  while (n > 0):\n",
        "     count_ += 1\n",
        "     sum_ = sum_ + n % 10\n",
        "     n = int(n / 10)\n",
        "\n",
        "  T = (count_, sum_)\n",
        "  return T\n"
      ],
      "execution_count": 0,
      "outputs": [
        {
          "output_type": "stream",
          "text": [
            "(4, 18)\n"
          ],
          "name": "stdout"
        }
      ]
    },
    {
      "cell_type": "markdown",
      "metadata": {
        "id": "3gjiztaOeSNg",
        "colab_type": "text"
      },
      "source": [
        "#Q. Reverse Word Order\n",
        "Write a function that takes as argument a string containing multiple words and returns a string containing the same words in reverse order. \\\\\n",
        "Eg., ```input = 'India is a democracy'; output = 'democracy a is India' ```"
      ]
    },
    {
      "cell_type": "code",
      "metadata": {
        "id": "-R6gbrxceePP",
        "colab_type": "code",
        "outputId": "503ed5b4-c8b3-4d76-b1ee-b0d41dced772",
        "colab": {
          "base_uri": "https://localhost:8080/",
          "height": 34
        }
      },
      "source": [
        "def reverse_word_order(my_str):\n",
        "  '''\n",
        "  This function returns reverse order of same words in a string\n",
        "  Input(s):\n",
        "  my_str:String\n",
        "\n",
        "  Output(s):\n",
        "  reverse_str:String, reverse order of my_str string\n",
        "  '''\n",
        "  \n",
        "  l = my_str.split(' ')\n",
        "  reverse_list = l[::-1]\n",
        "  reverse_str = (' ').join(reverse_list)\n",
        "\n",
        "  return reverse_str"
      ],
      "execution_count": 0,
      "outputs": [
        {
          "output_type": "execute_result",
          "data": {
            "text/plain": [
              "'democracy a is India'"
            ]
          },
          "metadata": {
            "tags": []
          },
          "execution_count": 100
        }
      ]
    },
    {
      "cell_type": "markdown",
      "metadata": {
        "id": "MIUKUUWxe-i_",
        "colab_type": "text"
      },
      "source": [
        "#Q. Palindromes\n",
        "Write a function that takes as argument a string and returns ```True``` if the string is a palindrome and ```False``` otherwise. \\\\\n",
        "A palindrome is a string that reads the same backwards and forwards. \\\\\n",
        "Eg., ```'aabbaa'``` and ```'aacbbcaa'``` are palindromes. ```'aacca'``` and ```'acab'``` are not. \\\\\n",
        "(Ignore whitespace inside strings. For eg., ```'Was It A Rat I Saw'``` is a palindrome)"
      ]
    },
    {
      "cell_type": "code",
      "metadata": {
        "id": "auXCyggugIFp",
        "colab_type": "code",
        "outputId": "a0073b26-014e-44e8-9925-1754ec59dbed",
        "colab": {
          "base_uri": "https://localhost:8080/",
          "height": 34
        }
      },
      "source": [
        "def isPalindrome(str1):\n",
        "  '''\n",
        "  This function checks whether a string is a palindrome or not a palindrome\n",
        "  Input(s):\n",
        "  my_str:String\n",
        "\n",
        "  Output(s):\n",
        "  Boolean, True if the string 'str1' is a palindrome or False otherwise \n",
        "  '''\n",
        "\n",
        "  str1 = str1.lower()\n",
        "  if(' ' in str1):\n",
        "       str1 = str1.split(' ')\n",
        "       str1 = ('').join(str1)\n",
        "  str2 = str1[::-1]\n",
        "\n",
        "  if str1 == str2:\n",
        "    return True\n",
        "  else:\n",
        "    return False \n"
      ],
      "execution_count": 0,
      "outputs": [
        {
          "output_type": "execute_result",
          "data": {
            "text/plain": [
              "True"
            ]
          },
          "metadata": {
            "tags": []
          },
          "execution_count": 122
        }
      ]
    },
    {
      "cell_type": "markdown",
      "metadata": {
        "id": "F7faqFS4gob3",
        "colab_type": "text"
      },
      "source": [
        "#Q. Pascal Triangle\n",
        "Write a function that takes an argument n as input and returns a string containing a pascal triangle of n rows. (https://en.wikipedia.org/wiki/Pascal%27s_triangle)"
      ]
    },
    {
      "cell_type": "code",
      "metadata": {
        "id": "tVTmDoF-howj",
        "colab_type": "code",
        "outputId": "50e6ac04-8f95-4f98-b392-67b2dc32a806",
        "colab": {
          "base_uri": "https://localhost:8080/",
          "height": 119
        }
      },
      "source": [
        "import math\n",
        "import string\n",
        "def pascal_formula(n, k):\n",
        "\n",
        "  if n==0 or k==0:\n",
        "  \n",
        "     return str(1)\n",
        "\n",
        "  else:\n",
        "\n",
        "    return int(math.factorial(n)/(math.factorial(k) * math.factorial(n - k)))\n",
        "\n",
        "def pascal_triangle(n):\n",
        "  '''\n",
        "  This function creates Pascal's triangle of n rows\n",
        "  Input(s):\n",
        "  n: Int\n",
        "\n",
        "  Output(s):\n",
        "  my_str: String, Pascal's traingle of n rows\n",
        "  '''\n",
        "  row = \"\"\n",
        "  for r in range(n):\n",
        "       res = \"\"\n",
        "       for c in range(r + 1):\n",
        "\n",
        "          row = row + str(pascal_formula(r, c)) + \" \"\n",
        "       \n",
        "       row = row + \"\\n\"\n",
        "       res = res + row\n",
        "  return res\n",
        "  \n",
        "\n"
      ],
      "execution_count": 0,
      "outputs": [
        {
          "output_type": "stream",
          "text": [
            "1 \n",
            "1 1 \n",
            "1 2 1 \n",
            "1 3 3 1 \n",
            "1 4 6 4 1 \n",
            "\n"
          ],
          "name": "stdout"
        }
      ]
    },
    {
      "cell_type": "markdown",
      "metadata": {
        "id": "in3pF1jeiOyV",
        "colab_type": "text"
      },
      "source": [
        ""
      ]
    }
  ]
}