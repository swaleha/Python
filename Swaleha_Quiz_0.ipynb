{
  "nbformat": 4,
  "nbformat_minor": 0,
  "metadata": {
    "colab": {
      "name": "Swaleha_Quiz 0.ipynb",
      "provenance": [],
      "collapsed_sections": [],
      "include_colab_link": true
    },
    "kernelspec": {
      "name": "python3",
      "display_name": "Python 3"
    }
  },
  "cells": [
    {
      "cell_type": "markdown",
      "metadata": {
        "id": "view-in-github",
        "colab_type": "text"
      },
      "source": [
        "<a href=\"https://colab.research.google.com/github/swaleha/Python/blob/master/Swaleha_Quiz_0.ipynb\" target=\"_parent\"><img src=\"https://colab.research.google.com/assets/colab-badge.svg\" alt=\"Open In Colab\"/></a>"
      ]
    },
    {
      "cell_type": "markdown",
      "metadata": {
        "id": "Lv5G81Y0e0Va",
        "colab_type": "text"
      },
      "source": [
        "# Q. Type Compare\n",
        "Write a function that takes any two python objects $a$ and $b$ and returns boolean value ```True``` if they are of the same type and returns ```False``` otherwise"
      ]
    },
    {
      "cell_type": "code",
      "metadata": {
        "id": "Azk7sJ74eeCo",
        "colab_type": "code",
        "colab": {}
      },
      "source": [
        "def type_comparator(a, b):\n",
        "  \"\"\"\n",
        "  Inputs:\n",
        "    a: any python object\n",
        "    b: any python object\n",
        "\n",
        "  Outputs:\n",
        "    z: boolean value, True if type of a and type of b are equal; False otherwise\n",
        "  \"\"\"\n",
        "  if (type(a) == type(b)):\n",
        "   return True\n",
        "  else:\n",
        "   return False "
      ],
      "execution_count": 0,
      "outputs": []
    },
    {
      "cell_type": "markdown",
      "metadata": {
        "id": "UJ62IBmilirG",
        "colab_type": "text"
      },
      "source": [
        "#Q. Radioactive Decay\n",
        "$m(t) = m_0 e^{-\\lambda t}$ is the expression to compute mass at time t of a radioactive isotope that decays with average lifetime $\\tau$. \\\\\n",
        "Also $\\tau = \\frac{1}{\\lambda}$\n",
        "Given $m_0, \\tau$ and $t$ write a function that computes $m(t)$"
      ]
    },
    {
      "cell_type": "code",
      "metadata": {
        "id": "a0T1Amhyq9Pl",
        "colab_type": "code",
        "colab": {}
      },
      "source": [
        "def m_t_rad_decay(m_0, tau, t):\n",
        "  \"\"\"\n",
        "  Inputs:\n",
        "    m_0 : Float, mass of initial radioactive material in g\n",
        "    tau : Float, average lifetime in seconds\n",
        "    t : Time elapsed in seconds\n",
        "\n",
        "  Output:\n",
        "    m_t : Float, mass of radioactive material at time t\n",
        "  \"\"\"\n",
        "\n",
        "  m_t = m_0 * math.exp(-t / tau)\n",
        "\n",
        "  return m_t\n"
      ],
      "execution_count": 0,
      "outputs": []
    },
    {
      "cell_type": "markdown",
      "metadata": {
        "id": "QUDRS0GKjGUn",
        "colab_type": "text"
      },
      "source": [
        "#Q. Parametrized Pattern\n",
        "Write a function that takes a character ```s```, number of rows and number of columns and returns a string that when printed looks like this (Here, the string ```s``` is ```'a'```, number of rows is 4, number of columns is 3)  \\\\\n",
        "<img src = \"https://drive.google.com/uc?id=1KYkpsrztLbScMmNc9q_lDiTEM-kK03zX\">"
      ]
    },
    {
      "cell_type": "code",
      "metadata": {
        "id": "VXkit39Jelv8",
        "colab_type": "code",
        "colab": {}
      },
      "source": [
        "def pattern_gen(s, rows, cols):\n",
        "  \"\"\"\n",
        "  Inputs:\n",
        "    s : string of length 1, character that will be repeated in the pattern\n",
        "    rows: int, Number of cells in a row\n",
        "    cos : int, Number of cells in a column\n",
        "  \n",
        "  Outputs:\n",
        "    pattern: string, contains the pattern string\n",
        "  \"\"\"\n",
        "  \n",
        "  s1 = '|'\n",
        "  s2 = '-' * 4\n",
        "  s3 = s1 + s2\n",
        "  s4 = s1 + (s * 4)\n",
        "  s5 = (s3 * cols) + s1 + '\\n'\n",
        "  s6 = (((s4 * cols) + s1) + '\\n') * 2\n",
        "  pattern = (s5 + s6) * rows + s5\n",
        " \n",
        "  return pattern\n",
        "  "
      ],
      "execution_count": 0,
      "outputs": []
    },
    {
      "cell_type": "code",
      "metadata": {
        "id": "wWp0bS01UQpH",
        "colab_type": "code",
        "colab": {}
      },
      "source": [
        ""
      ],
      "execution_count": 0,
      "outputs": []
    }
  ]
}