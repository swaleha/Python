{
  "nbformat": 4,
  "nbformat_minor": 0,
  "metadata": {
    "kernelspec": {
      "display_name": "Python 3",
      "language": "python",
      "name": "python3"
    },
    "language_info": {
      "codemirror_mode": {
        "name": "ipython",
        "version": 3
      },
      "file_extension": ".py",
      "mimetype": "text/x-python",
      "name": "python",
      "nbconvert_exporter": "python",
      "pygments_lexer": "ipython3",
      "version": "3.6.9"
    },
    "colab": {
      "name": "Swaleha_More Lists and Tuples",
      "provenance": [],
      "collapsed_sections": [
        "81QhRSaR6dmU",
        "Po9P8B-Y6dml",
        "yw-1_RyQxdpT"
      ],
      "include_colab_link": true
    }
  },
  "cells": [
    {
      "cell_type": "markdown",
      "metadata": {
        "id": "view-in-github",
        "colab_type": "text"
      },
      "source": [
        "<a href=\"https://colab.research.google.com/github/swaleha/Python/blob/master/Swaleha_More_Lists_and_Tuples.ipynb\" target=\"_parent\"><img src=\"https://colab.research.google.com/assets/colab-badge.svg\" alt=\"Open In Colab\"/></a>"
      ]
    },
    {
      "cell_type": "markdown",
      "metadata": {
        "id": "6S8_PvXY6dly",
        "colab_type": "text"
      },
      "source": [
        "## Lists - 2"
      ]
    },
    {
      "cell_type": "markdown",
      "metadata": {
        "id": "-DBIbg_86dl0",
        "colab_type": "text"
      },
      "source": [
        "### Len function\n",
        "- The ```len``` function is used to get the length of a list"
      ]
    },
    {
      "cell_type": "code",
      "metadata": {
        "id": "SXRiN_Td6dl1",
        "colab_type": "code",
        "outputId": "a7c6646b-850d-4c59-97ac-3d0341fcb880",
        "colab": {
          "base_uri": "https://localhost:8080/",
          "height": 50
        }
      },
      "source": [
        "## Eg., of using len function\n",
        "my_list = [1, 'Hari', 2, 3, 4]\n",
        "print(len(my_list))\n",
        "\n",
        "print(len([1,2,3,4,5,6,7,8,11,23,4445,787]))"
      ],
      "execution_count": 0,
      "outputs": [
        {
          "output_type": "stream",
          "text": [
            "5\n",
            "12\n"
          ],
          "name": "stdout"
        }
      ]
    },
    {
      "cell_type": "markdown",
      "metadata": {
        "id": "hLnQAaJv6dl5",
        "colab_type": "text"
      },
      "source": [
        "### Removing items from list\n",
        "- The ```del``` statement can be used to delete items at an index in a list.\n",
        "- All the items in the list after the deleted item will be moved up one index"
      ]
    },
    {
      "cell_type": "code",
      "metadata": {
        "id": "iTfLLz8l6dl6",
        "colab_type": "code",
        "outputId": "426ec051-4fdd-46ee-de7a-1dbb5acb2d13",
        "colab": {
          "base_uri": "https://localhost:8080/",
          "height": 50
        }
      },
      "source": [
        "my_list = [1, 'ram', 2, 'shyam']\n",
        "\n",
        "\n",
        "del my_list[0]\n",
        "\n",
        "print(\"List after 1st deletion is {}\".format(my_list))\n",
        "\n",
        "del my_list[2]\n",
        "\n",
        "print(\"List after 2nd deletion is {}\".format(my_list))"
      ],
      "execution_count": 0,
      "outputs": [
        {
          "output_type": "stream",
          "text": [
            "List after 1st deletion is ['ram', 2, 'shyam']\n",
            "List after 2nd deletion is ['ram', 2]\n"
          ],
          "name": "stdout"
        }
      ]
    },
    {
      "cell_type": "markdown",
      "metadata": {
        "id": "zHCMq46i6dl-",
        "colab_type": "text"
      },
      "source": [
        "### Iterating over lists using ```for``` loops\n"
      ]
    },
    {
      "cell_type": "markdown",
      "metadata": {
        "id": "wV-VZFHS6dl_",
        "colab_type": "text"
      },
      "source": [
        "- We have used ```for``` loop to execute a block of code a certain number of times\n",
        "- Technically a ```for``` loop repeats a block of code once for each item in a list value"
      ]
    },
    {
      "cell_type": "code",
      "metadata": {
        "id": "qw66ZG0ZOzyq",
        "colab_type": "code",
        "outputId": "88e4f047-0774-4c3f-aa8a-7f0cce8316b4",
        "colab": {
          "base_uri": "https://localhost:8080/",
          "height": 100
        }
      },
      "source": [
        "for i in range(5):\n",
        "  print(\"Hello Mickey!\")"
      ],
      "execution_count": 0,
      "outputs": [
        {
          "output_type": "stream",
          "text": [
            "Hello Mickey!\n",
            "Hello Mickey!\n",
            "Hello Mickey!\n",
            "Hello Mickey!\n",
            "Hello Mickey!\n"
          ],
          "name": "stdout"
        }
      ]
    },
    {
      "cell_type": "code",
      "metadata": {
        "id": "j6rIQ_wF6dmA",
        "colab_type": "code",
        "outputId": "b1b390f6-c9ce-46b8-e65b-b2d027a24fae",
        "colab": {
          "base_uri": "https://localhost:8080/",
          "height": 33
        }
      },
      "source": [
        "print(type(range(5)))"
      ],
      "execution_count": 0,
      "outputs": [
        {
          "output_type": "stream",
          "text": [
            "<class 'range'>\n"
          ],
          "name": "stdout"
        }
      ]
    },
    {
      "cell_type": "markdown",
      "metadata": {
        "id": "ElBr31cX6dmD",
        "colab_type": "text"
      },
      "source": [
        "- ```range``` function returns a range object that is similar to a list\n",
        "- For eg., range(4) is similar to the list $[0, 1, 2, 3]$"
      ]
    },
    {
      "cell_type": "code",
      "metadata": {
        "id": "Kee6l4zx6dmE",
        "colab_type": "code",
        "outputId": "21ae644f-cab9-4f0a-de39-a1a433a02d5f",
        "colab": {
          "base_uri": "https://localhost:8080/",
          "height": 83
        }
      },
      "source": [
        "for i in range(4):\n",
        "  print(i)"
      ],
      "execution_count": 0,
      "outputs": [
        {
          "output_type": "stream",
          "text": [
            "0\n",
            "1\n",
            "2\n",
            "3\n"
          ],
          "name": "stdout"
        }
      ]
    },
    {
      "cell_type": "code",
      "metadata": {
        "id": "B7bZoQkX6dmH",
        "colab_type": "code",
        "outputId": "f323644c-bd55-40b3-9425-e33b1f6f8047",
        "colab": {
          "base_uri": "https://localhost:8080/",
          "height": 133
        }
      },
      "source": [
        "l = [1,2,3,4,5,6,7]\n",
        "for i in l:\n",
        "  print(i)\n",
        "\n",
        "  "
      ],
      "execution_count": 0,
      "outputs": [
        {
          "output_type": "stream",
          "text": [
            "1\n",
            "2\n",
            "3\n",
            "4\n",
            "5\n",
            "6\n",
            "7\n"
          ],
          "name": "stdout"
        }
      ]
    },
    {
      "cell_type": "code",
      "metadata": {
        "id": "cJtInsQl6dmK",
        "colab_type": "code",
        "outputId": "825860fb-8753-41a3-a0db-209331bfc600",
        "colab": {
          "base_uri": "https://localhost:8080/",
          "height": 116
        }
      },
      "source": [
        "fruit_juice_menu = ['Apple', 'Mango', 'Orange', 'Guava', 'Chikku', 'Strawberry' ]\n",
        "for fruit in fruit_juice_menu:\n",
        "  print(\"I serve {} juice\".format(fruit))"
      ],
      "execution_count": 0,
      "outputs": [
        {
          "output_type": "stream",
          "text": [
            "I serve Apple juice\n",
            "I serve Mango juice\n",
            "I serve Orange juice\n",
            "I serve Guava juice\n",
            "I serve Chikku juice\n",
            "I serve Strawberry juice\n"
          ],
          "name": "stdout"
        }
      ]
    },
    {
      "cell_type": "code",
      "metadata": {
        "id": "LCqrVrYN6dmN",
        "colab_type": "code",
        "outputId": "7425b102-df10-407f-fb21-ef32b4cb88b2",
        "colab": {
          "base_uri": "https://localhost:8080/",
          "height": 33
        }
      },
      "source": [
        "## Example of using for loop with lists\n",
        "## Find the maximum number in a list of numbers\n",
        "def max(l):\n",
        "  max_num = l[0]  ## initialize variable here ## holds the maximum of all numbers seen till now\n",
        "    ## initialize variable to the first number in the list\n",
        "  for number in l:  ## look at each number in the list l and compare it with the maximum_number. \n",
        "    if number > max_num:   \n",
        "       max_num = number ## If the number is greater than maximum_number then update the maximum_number.\n",
        "  return max_num\n",
        "  \n",
        "\n",
        "print(max([1, 12, 123, 5, 789, 110, 1024, 222]))"
      ],
      "execution_count": 0,
      "outputs": [
        {
          "output_type": "stream",
          "text": [
            "1024\n"
          ],
          "name": "stdout"
        }
      ]
    },
    {
      "cell_type": "markdown",
      "metadata": {
        "id": "t3IWZ5YJ6dmQ",
        "colab_type": "text"
      },
      "source": [
        "##### Practice problem"
      ]
    },
    {
      "cell_type": "code",
      "metadata": {
        "id": "bGNPrGk_6dmR",
        "colab_type": "code",
        "outputId": "08f4d8f3-84a8-431f-b7f2-b3f0962f18e8",
        "colab": {
          "base_uri": "https://localhost:8080/",
          "height": 33
        }
      },
      "source": [
        "## Practice problem ##\n",
        "## Find the average value of a list of numbers\n",
        "def average(l):\n",
        " total = 0\n",
        "\n",
        " for num in l:\n",
        "  total = total + num\n",
        " total_avg = total / num\n",
        " return (total_avg)\n",
        "\n",
        "l = [1, 2, 3, 4, 5] ## average(l) should return 3\n",
        "print(average(l))"
      ],
      "execution_count": 0,
      "outputs": [
        {
          "output_type": "stream",
          "text": [
            "3.0\n"
          ],
          "name": "stdout"
        }
      ]
    },
    {
      "cell_type": "markdown",
      "metadata": {
        "id": "81QhRSaR6dmU",
        "colab_type": "text"
      },
      "source": [
        "#### Combining ```len``` and ```range``` - a common technique"
      ]
    },
    {
      "cell_type": "code",
      "metadata": {
        "id": "9qO2YaMk6dmV",
        "colab_type": "code",
        "outputId": "8fe8ee7c-ae8a-4d99-b6a9-e599bd33fb12",
        "colab": {
          "base_uri": "https://localhost:8080/",
          "height": 83
        }
      },
      "source": [
        "names = ['Hari', 'Madhav', 'Govind', 'Ram']\n",
        "for i in range(len(names)):\n",
        "  print(\"The name {} is present at position {}\".format(names[i], i+1))"
      ],
      "execution_count": 0,
      "outputs": [
        {
          "output_type": "stream",
          "text": [
            "The name Hari is present at position 1\n",
            "The name Madhav is present at position 2\n",
            "The name Govind is present at position 3\n",
            "The name Ram is present at position 4\n"
          ],
          "name": "stdout"
        }
      ]
    },
    {
      "cell_type": "code",
      "metadata": {
        "id": "QUAddorsVKsz",
        "colab_type": "code",
        "outputId": "f4aff09b-153b-49d4-8124-623e373101e9",
        "colab": {
          "base_uri": "https://localhost:8080/",
          "height": 83
        }
      },
      "source": [
        "for i in names:\n",
        "  print(i)\n",
        "  "
      ],
      "execution_count": 0,
      "outputs": [
        {
          "output_type": "stream",
          "text": [
            "Hari\n",
            "Madhav\n",
            "Govind\n",
            "Ram\n"
          ],
          "name": "stdout"
        }
      ]
    },
    {
      "cell_type": "code",
      "metadata": {
        "id": "7CQmMayKVRoT",
        "colab_type": "code",
        "outputId": "3594aac7-4c08-4a19-9a43-47c23ac46d12",
        "colab": {
          "base_uri": "https://localhost:8080/",
          "height": 83
        }
      },
      "source": [
        "for i in range(len(names)):\n",
        "  print(i)"
      ],
      "execution_count": 0,
      "outputs": [
        {
          "output_type": "stream",
          "text": [
            "0\n",
            "1\n",
            "2\n",
            "3\n"
          ],
          "name": "stdout"
        }
      ]
    },
    {
      "cell_type": "code",
      "metadata": {
        "id": "yti0GIP56dmY",
        "colab_type": "code",
        "outputId": "8897ce39-b0c8-4697-b3ae-a2307d0ef428",
        "colab": {
          "base_uri": "https://localhost:8080/",
          "height": 33
        }
      },
      "source": [
        "## Example - Find the index in a list where an item is repeating\n",
        "l = [1, 2, 3, 5, 6, 6, 8]\n",
        "def repeating_index(l):\n",
        "  r = None\n",
        "  for i in range(1, len(l)): ## i loops over the index values - 0, 1, 2\n",
        "    if(l[i] == l[i-1]):\n",
        "      r = i-1 ## r holds the index where an item is repeating\n",
        "      break\n",
        "  return r\n",
        "\n",
        "print(repeating_index(l))"
      ],
      "execution_count": 0,
      "outputs": [
        {
          "output_type": "stream",
          "text": [
            "4\n"
          ],
          "name": "stdout"
        }
      ]
    },
    {
      "cell_type": "markdown",
      "metadata": {
        "id": "ZHJF5uxU6dmb",
        "colab_type": "text"
      },
      "source": [
        "##### Practice problem"
      ]
    },
    {
      "cell_type": "code",
      "metadata": {
        "id": "UUFGgZMC6dmc",
        "colab_type": "code",
        "outputId": "d9818e3f-1b8a-486f-cdc2-6c4dbb197b2a",
        "colab": {
          "base_uri": "https://localhost:8080/",
          "height": 33
        }
      },
      "source": [
        "## Example - Find the indices in a list where the item is a multiple of 7\n",
        "def multiple_7(l):\n",
        "\n",
        "  indices_7 = []\n",
        "\n",
        "  for i in range(len(l)):\n",
        "    if(l[i] % 7 == 0):\n",
        "      indices_7 = indices_7 + [i]\n",
        "  return indices_7 ## list of all indices where the item is a multiple of 7\n",
        "\n",
        "l = [2, 3, 7, 4, 14, 9] ## multiple_7 should return [2, 4]\n",
        "\n",
        "print(multiple_7(l))\n"
      ],
      "execution_count": 0,
      "outputs": [
        {
          "output_type": "stream",
          "text": [
            "[2, 4]\n"
          ],
          "name": "stdout"
        }
      ]
    },
    {
      "cell_type": "markdown",
      "metadata": {
        "id": "Po9P8B-Y6dml",
        "colab_type": "text"
      },
      "source": [
        "#### ```in``` and ```not in``` operators"
      ]
    },
    {
      "cell_type": "markdown",
      "metadata": {
        "id": "QAex3pgq6dmm",
        "colab_type": "text"
      },
      "source": [
        "- ```in``` and ```not in``` are binary operators\n",
        "- They connect two values - an item to search for and a list in which that item may be found\n",
        "- The expression evaluates to True if the item is present in the list and it evaluates to False if the item is not present in the list"
      ]
    },
    {
      "cell_type": "code",
      "metadata": {
        "id": "YcrtfAaU6dmn",
        "colab_type": "code",
        "outputId": "dfc28f1f-d80e-4be5-c055-50ea5d434502",
        "colab": {
          "base_uri": "https://localhost:8080/",
          "height": 34
        }
      },
      "source": [
        "##Examples of usage of in and not in\n",
        "names = ['Hari', 'Govinda', 'Madhava', 'Damodara']\n",
        "# print('Govinda' in names)\n",
        "# print('Rama' in names)\n",
        "\n",
        "# print('Shyama' not in names)\n",
        "# print('Damodara' not in names)"
      ],
      "execution_count": 0,
      "outputs": [
        {
          "output_type": "stream",
          "text": [
            "False\n"
          ],
          "name": "stdout"
        }
      ]
    },
    {
      "cell_type": "code",
      "metadata": {
        "id": "EzFQzJV36dmq",
        "colab_type": "code",
        "outputId": "5ce27a76-a58d-47f6-f0a4-adb80ff9579d",
        "colab": {
          "base_uri": "https://localhost:8080/",
          "height": 34
        }
      },
      "source": [
        "## Solved problem\n",
        "## Take a list. Create a list of numbers which are not in that list\n",
        "l = [2, 5, 9, 11, 13]\n",
        "\n",
        "## Task - create a list of all numbers from 1 to 20 which are not in l\n",
        "notl = [] ## initialize to empty list\n",
        "for num in range(1, 21):\n",
        "  if(num not in l):\n",
        "    notl = notl + [num]\n",
        "\n",
        "print(notl)"
      ],
      "execution_count": 0,
      "outputs": [
        {
          "output_type": "stream",
          "text": [
            "[1, 3, 4, 6, 7, 8, 10, 12, 14, 15, 16, 17, 18, 19, 20]\n"
          ],
          "name": "stdout"
        }
      ]
    },
    {
      "cell_type": "markdown",
      "metadata": {
        "id": "gH7nBF0pweAt",
        "colab_type": "text"
      },
      "source": [
        "## Methods on Lists\n",
        "- A method is the same as a function, except it is \"called on\" a value\n",
        "- The method call comes after a value and is separated by a ```.``` (fullstop/period)"
      ]
    },
    {
      "cell_type": "code",
      "metadata": {
        "id": "5sJ0Xq6fYzDs",
        "colab_type": "code",
        "outputId": "79969303-5591-4231-ef06-7554989de22c",
        "colab": {
          "base_uri": "https://localhost:8080/",
          "height": 33
        }
      },
      "source": [
        "l1 = ['a', 'b', 'c', 'd']\n",
        "l1.index('c')"
      ],
      "execution_count": 0,
      "outputs": [
        {
          "output_type": "execute_result",
          "data": {
            "text/plain": [
              "2"
            ]
          },
          "metadata": {
            "tags": []
          },
          "execution_count": 88
        }
      ]
    },
    {
      "cell_type": "markdown",
      "metadata": {
        "id": "cLS5co36w2X0",
        "colab_type": "text"
      },
      "source": [
        "##### Finding elements with ```index``` method\n",
        "- Returns the index of an item in a list if it is present in the list\n",
        "- If the item is not present in the list, it throws an error ValueError"
      ]
    },
    {
      "cell_type": "code",
      "metadata": {
        "id": "IwiWjIV6wTMT",
        "colab_type": "code",
        "outputId": "0f69a7ac-8e35-45ce-9400-0213fdaf0c22",
        "colab": {
          "base_uri": "https://localhost:8080/",
          "height": 33
        }
      },
      "source": [
        "## Example using index method\n",
        "names = ['Hari', 'Govinda', 'Madhava', 'Damodara']\n",
        "# names.index('Govinda')\n",
        "# names.index('Damodara')\n",
        "names.index('Madhava')\n"
      ],
      "execution_count": 0,
      "outputs": [
        {
          "output_type": "execute_result",
          "data": {
            "text/plain": [
              "2"
            ]
          },
          "metadata": {
            "tags": []
          },
          "execution_count": 91
        }
      ]
    },
    {
      "cell_type": "markdown",
      "metadata": {
        "id": "WrK16TCo058j",
        "colab_type": "text"
      },
      "source": [
        "- Finds the first instance if multiple items of the same value are present"
      ]
    },
    {
      "cell_type": "code",
      "metadata": {
        "id": "-pXNKAV70-0z",
        "colab_type": "code",
        "outputId": "a13e42ef-d6b7-47e4-dacc-9f322e0c2600",
        "colab": {
          "base_uri": "https://localhost:8080/",
          "height": 33
        }
      },
      "source": [
        "##Example\n",
        "l = [1, 2, 3, 3,4 , 6 , 7.0 , 7]\n",
        "l.index(7)"
      ],
      "execution_count": 0,
      "outputs": [
        {
          "output_type": "execute_result",
          "data": {
            "text/plain": [
              "6"
            ]
          },
          "metadata": {
            "tags": []
          },
          "execution_count": 93
        }
      ]
    },
    {
      "cell_type": "markdown",
      "metadata": {
        "id": "yw-1_RyQxdpT",
        "colab_type": "text"
      },
      "source": [
        "#### Adding values to list with ```append()``` and ```insert()``` methods\n",
        "- ```append``` method adds an item at the end of a list\n",
        "- ```insert``` method can be used to add an item at any index of a list"
      ]
    },
    {
      "cell_type": "code",
      "metadata": {
        "id": "s6GzMlPBxdUR",
        "colab_type": "code",
        "outputId": "7dcf4d8a-b918-4099-b06d-6175ed61bd6c",
        "colab": {
          "base_uri": "https://localhost:8080/",
          "height": 33
        }
      },
      "source": [
        "names = ['Hari', 'Govinda', 'Madhava', 'Damodara']\n",
        "names.append('Laxman')\n",
        "print(names)"
      ],
      "execution_count": 0,
      "outputs": [
        {
          "output_type": "stream",
          "text": [
            "['Hari', 'Govinda', 'Madhava', 'Damodara', 'Laxman']\n"
          ],
          "name": "stdout"
        }
      ]
    },
    {
      "cell_type": "code",
      "metadata": {
        "id": "XdYWroUryR_3",
        "colab_type": "code",
        "outputId": "94236dd4-bd8c-4b75-b03f-55a24205dcd6",
        "colab": {
          "base_uri": "https://localhost:8080/",
          "height": 33
        }
      },
      "source": [
        "names.insert(3, 'Ram')\n",
        "print(names)"
      ],
      "execution_count": 0,
      "outputs": [
        {
          "output_type": "stream",
          "text": [
            "['Hari', 'Govinda', 'Madhava', 'Ram', 'Damodara', 'Laxman']\n"
          ],
          "name": "stdout"
        }
      ]
    },
    {
      "cell_type": "markdown",
      "metadata": {
        "id": "nQ5o5pui0Kul",
        "colab_type": "text"
      },
      "source": [
        "- Modifying lists in place vs creating a new list"
      ]
    },
    {
      "cell_type": "code",
      "metadata": {
        "id": "4CqjS4XpyaUT",
        "colab_type": "code",
        "outputId": "617e7a1d-b6e0-43b7-9f43-51d0925eb237",
        "colab": {
          "base_uri": "https://localhost:8080/",
          "height": 33
        }
      },
      "source": [
        "## append and insert functions do not return anything. They return None value. They change the lists in place.\n",
        "# names = names.append('Rama') ## Do not do this\n",
        "print(names)\n",
        "#names = names + ['Rama']"
      ],
      "execution_count": 0,
      "outputs": [
        {
          "output_type": "stream",
          "text": [
            "['Hari', 'Govinda', 'Madhava', 'Ram', 'Damodara', 'Laxman', 'Rama']\n"
          ],
          "name": "stdout"
        }
      ]
    },
    {
      "cell_type": "code",
      "metadata": {
        "id": "ZgUjG9YIabkP",
        "colab_type": "code",
        "outputId": "3093d281-4f58-43eb-ed56-6495623a54f5",
        "colab": {
          "base_uri": "https://localhost:8080/",
          "height": 66
        }
      },
      "source": [
        "names = ['Hari', 'Govinda', 'Madhava', 'Damodara']\n",
        "names.append('Rama')\n",
        "print(names)\n",
        "\n",
        "names = names + ['Rama']  ## in this case an entire new list is created and assigned to names\n",
        "names = names + ['Shyama']\n",
        "print(names)\n",
        "\n",
        "names.reverse()\n",
        "print(names)"
      ],
      "execution_count": 0,
      "outputs": [
        {
          "output_type": "stream",
          "text": [
            "['Hari', 'Govinda', 'Madhava', 'Damodara', 'Rama']\n",
            "['Hari', 'Govinda', 'Madhava', 'Damodara', 'Rama', 'Rama', 'Shyama']\n",
            "['Shyama', 'Rama', 'Rama', 'Damodara', 'Madhava', 'Govinda', 'Hari']\n"
          ],
          "name": "stdout"
        }
      ]
    },
    {
      "cell_type": "markdown",
      "metadata": {
        "id": "bnhnTtt71My0",
        "colab_type": "text"
      },
      "source": [
        "- Reversing values using ```reverse()``` method"
      ]
    },
    {
      "cell_type": "code",
      "metadata": {
        "id": "ptxR-RdI1FeG",
        "colab_type": "code",
        "outputId": "fe713b14-554d-4d51-d7e7-2e88138b70dd",
        "colab": {
          "base_uri": "https://localhost:8080/",
          "height": 50
        }
      },
      "source": [
        "## Example\n",
        "l = [1, 2, 3, 4]\n",
        "l.reverse()\n",
        "print(l)  ## reverse changes list in place. So do not use assignment operation on top of it\n",
        "l = l.reverse()  ## Do not do this\n",
        "print(l)"
      ],
      "execution_count": 0,
      "outputs": [
        {
          "output_type": "stream",
          "text": [
            "[4, 3, 2, 1]\n",
            "None\n"
          ],
          "name": "stdout"
        }
      ]
    },
    {
      "cell_type": "code",
      "metadata": {
        "id": "cDxxp7k23p_l",
        "colab_type": "code",
        "outputId": "0a8526da-4b11-40d3-a73c-2f903be5f5f3",
        "colab": {
          "base_uri": "https://localhost:8080/",
          "height": 34
        }
      },
      "source": [
        "## Example problem\n",
        "## List contains numbers. Create a list of even numbers from that list\n",
        "l = [1, 2, 3, 4, 6, 9, 11, 24]\n",
        "evens = []\n",
        "\n",
        "## look at each item in l and if it is even add it to evens list\n",
        "for i in l:\n",
        "  if(i % 2 == 0):\n",
        "    evens.append(i)\n",
        "\n",
        "print(evens)"
      ],
      "execution_count": 0,
      "outputs": [
        {
          "output_type": "stream",
          "text": [
            "[2, 4, 6, 24]\n"
          ],
          "name": "stdout"
        }
      ]
    },
    {
      "cell_type": "markdown",
      "metadata": {
        "id": "f64Qgieo3yyQ",
        "colab_type": "text"
      },
      "source": [
        "###### Practice problem"
      ]
    },
    {
      "cell_type": "code",
      "metadata": {
        "id": "HxIgtfG23x7d",
        "colab_type": "code",
        "outputId": "a48139f9-70d3-4917-eabb-79467db2e2f8",
        "colab": {
          "base_uri": "https://localhost:8080/",
          "height": 33
        }
      },
      "source": [
        "## Example \n",
        "## List contatins lists. Create a list of all lists with length greater than or equal to 3\n",
        "def list_func(l):\n",
        "  m = []\n",
        "  for i in range(len(l)):\n",
        "    for j in range(len(l[i])):\n",
        "      if (j >= 2):\n",
        "       m.append(l[i])\n",
        "       break\n",
        "  return m\n",
        "\n",
        "l = [[1, 2, 3], ['ram'], ['a', 'b'], [4, 5, 6, 7]]\n",
        "list_func(l)\n"
      ],
      "execution_count": 0,
      "outputs": [
        {
          "output_type": "execute_result",
          "data": {
            "text/plain": [
              "[[1, 2, 3], [4, 5, 6, 7]]"
            ]
          },
          "metadata": {
            "tags": []
          },
          "execution_count": 190
        }
      ]
    },
    {
      "cell_type": "code",
      "metadata": {
        "id": "IKQO0j6wxDjn",
        "colab_type": "code",
        "outputId": "94227dbb-d3fa-4477-d0df-1ca51d56758e",
        "colab": {
          "base_uri": "https://localhost:8080/",
          "height": 100
        }
      },
      "source": [
        "for i in range(5):\n",
        "  print(i)"
      ],
      "execution_count": 0,
      "outputs": [
        {
          "output_type": "stream",
          "text": [
            "0\n",
            "1\n",
            "2\n",
            "3\n",
            "4\n"
          ],
          "name": "stdout"
        }
      ]
    },
    {
      "cell_type": "markdown",
      "metadata": {
        "id": "grIaEMIQ1gM7",
        "colab_type": "text"
      },
      "source": [
        "## Tuple data type\n",
        "- Behaves exactly like list datatype\n",
        "- Use parantheses to define instead of square brackets\n",
        "- Immutable datatype"
      ]
    },
    {
      "cell_type": "code",
      "metadata": {
        "id": "ihwDs5k31dgp",
        "colab_type": "code",
        "colab": {}
      },
      "source": [
        "l = [1, 2] ## list of two numbers\n",
        "t = (1, 2, 3, 4, 5) ## tuple of two numbers "
      ],
      "execution_count": 0,
      "outputs": []
    },
    {
      "cell_type": "code",
      "metadata": {
        "id": "LRBixWuKcupb",
        "colab_type": "code",
        "outputId": "5b3410a8-bf3c-49af-a49c-bfc3ba82f571",
        "colab": {
          "base_uri": "https://localhost:8080/",
          "height": 50
        }
      },
      "source": [
        "l[1] = 3\n",
        "print(l)\n",
        "print(t[1])"
      ],
      "execution_count": 0,
      "outputs": [
        {
          "output_type": "stream",
          "text": [
            "[1, 3]\n",
            "2\n"
          ],
          "name": "stdout"
        }
      ]
    },
    {
      "cell_type": "code",
      "metadata": {
        "id": "9imlntoZc2yF",
        "colab_type": "code",
        "outputId": "bdb1eead-9e35-4940-dbd5-93b75b98c3aa",
        "colab": {
          "base_uri": "https://localhost:8080/",
          "height": 162
        }
      },
      "source": [
        "t[1] = 3 ## This operation is not supported because tuples are immutable."
      ],
      "execution_count": 2,
      "outputs": [
        {
          "output_type": "error",
          "ename": "TypeError",
          "evalue": "ignored",
          "traceback": [
            "\u001b[0;31m---------------------------------------------------------------------------\u001b[0m",
            "\u001b[0;31mTypeError\u001b[0m                                 Traceback (most recent call last)",
            "\u001b[0;32m<ipython-input-2-fa75ea281d79>\u001b[0m in \u001b[0;36m<module>\u001b[0;34m()\u001b[0m\n\u001b[0;32m----> 1\u001b[0;31m \u001b[0mt\u001b[0m\u001b[0;34m[\u001b[0m\u001b[0;36m1\u001b[0m\u001b[0;34m]\u001b[0m \u001b[0;34m=\u001b[0m \u001b[0;36m3\u001b[0m \u001b[0;31m## This operation is not supported because tuples are immutable.\u001b[0m\u001b[0;34m\u001b[0m\u001b[0;34m\u001b[0m\u001b[0m\n\u001b[0m",
            "\u001b[0;31mTypeError\u001b[0m: 'tuple' object does not support item assignment"
          ]
        }
      ]
    },
    {
      "cell_type": "code",
      "metadata": {
        "id": "N9zSeDBLclhB",
        "colab_type": "code",
        "outputId": "3209f0b9-caeb-4a30-9218-afa96c257a39",
        "colab": {
          "base_uri": "https://localhost:8080/",
          "height": 33
        }
      },
      "source": [
        "print(len(l), len(t))"
      ],
      "execution_count": 0,
      "outputs": [
        {
          "output_type": "stream",
          "text": [
            "2 5\n"
          ],
          "name": "stdout"
        }
      ]
    },
    {
      "cell_type": "markdown",
      "metadata": {
        "id": "XjU_s67F1p8U",
        "colab_type": "text"
      },
      "source": [
        "##### ```list``` and ```tuple``` functions"
      ]
    },
    {
      "cell_type": "code",
      "metadata": {
        "id": "_rekWGlM2kUs",
        "colab_type": "code",
        "outputId": "bfebef69-a806-472b-fe8b-26bd3cd39e04",
        "colab": {
          "base_uri": "https://localhost:8080/",
          "height": 50
        }
      },
      "source": [
        "t = (1, 2, 3)\n",
        "\n",
        "l = list(t)\n",
        "\n",
        "print(l)\n",
        "\n",
        "l1 = tuple(l)\n",
        "\n",
        "print(l1)"
      ],
      "execution_count": 0,
      "outputs": [
        {
          "output_type": "stream",
          "text": [
            "[1, 2, 3]\n",
            "(1, 2, 3)\n"
          ],
          "name": "stdout"
        }
      ]
    },
    {
      "cell_type": "code",
      "metadata": {
        "id": "5qbKAGJsdO7-",
        "colab_type": "code",
        "colab": {}
      },
      "source": [
        ""
      ],
      "execution_count": 0,
      "outputs": []
    }
  ]
}