{
  "nbformat": 4,
  "nbformat_minor": 0,
  "metadata": {
    "colab": {
      "name": "Swaleha_programming_drill_7.ipynb",
      "provenance": [],
      "collapsed_sections": [],
      "include_colab_link": true
    },
    "kernelspec": {
      "name": "python3",
      "display_name": "Python 3"
    }
  },
  "cells": [
    {
      "cell_type": "markdown",
      "metadata": {
        "id": "view-in-github",
        "colab_type": "text"
      },
      "source": [
        "<a href=\"https://colab.research.google.com/github/swaleha/Python/blob/master/Swaleha_programming_drill_7.ipynb\" target=\"_parent\"><img src=\"https://colab.research.google.com/assets/colab-badge.svg\" alt=\"Open In Colab\"/></a>"
      ]
    },
    {
      "cell_type": "markdown",
      "metadata": {
        "id": "LwRm_X6wpq5L",
        "colab_type": "text"
      },
      "source": [
        "#Drill #26\n",
        "<img src=\"https://drive.google.com/uc?id=15hDyhOUDhlurykvBy4vj57IYDAkqIMBP\" width=\"700\">\n",
        "\n",
        "#Expected Output\n",
        "<img src=\"https://drive.google.com/uc?id=19Kh35vzRS1yULYEAloMwA1yI6ajfPEI7\" width=\"100\">"
      ]
    },
    {
      "cell_type": "code",
      "metadata": {
        "id": "bGaA_J_Bpapm",
        "colab_type": "code",
        "outputId": "f312ee2e-ed88-4ed1-8195-63f90e3eaef3",
        "colab": {
          "base_uri": "https://localhost:8080/",
          "height": 85
        }
      },
      "source": [
        "stuff = {'name': 'Hari', 'age': '16', 'height': 6*12. + 2}\n",
        "print(stuff['name'])\n",
        "print(stuff['age'])\n",
        "print(stuff['height'])\n",
        "\n",
        "stuff['city'] = 'Kanpur'\n",
        "print(stuff['city'])"
      ],
      "execution_count": 0,
      "outputs": [
        {
          "output_type": "stream",
          "text": [
            "Hari\n",
            "16\n",
            "74.0\n",
            "Kanpur\n"
          ],
          "name": "stdout"
        }
      ]
    },
    {
      "cell_type": "markdown",
      "metadata": {
        "id": "nk5zDtNMtJSI",
        "colab_type": "text"
      },
      "source": [
        "# Drill #27\n",
        "<img src=\"https://drive.google.com/uc?id=1eH9ep0AX9B7t6841wqWzgF5Z_3yXfolK\" width=\"700\">\n",
        "\n",
        "# Expected Output\n",
        "<img src=\"https://drive.google.com/uc?id=1s9igAQj39y7jp4u4kWQEYKy_Rh0bStH-\" width=\"400\">"
      ]
    },
    {
      "cell_type": "code",
      "metadata": {
        "id": "ZSXxlsTVOL_D",
        "colab_type": "code",
        "outputId": "8c49212c-2849-484b-8999-08a28bb76f1d",
        "colab": {
          "base_uri": "https://localhost:8080/",
          "height": 85
        }
      },
      "source": [
        "uc = 'PYTHON ROCKS'\n",
        "\n",
        "print(f'This is all uppercase - {uc}')\n",
        "print(f'Now this is lowercase - {uc.lower()}')\n",
        "\n",
        "uc_split = uc.split(' ')\n",
        "print(f'I have split the string in two - {uc_split[0]} and {uc_split[1]}')\n",
        "\n",
        "print(f'I am joining the split string again to get - {uc_split[0] + \" really \" + uc_split[1]}')"
      ],
      "execution_count": 0,
      "outputs": [
        {
          "output_type": "stream",
          "text": [
            "This is all uppercase - PYTHON ROCKS\n",
            "Now this is lowercase - python rocks\n",
            "I have split the string in two - PYTHON and ROCKS\n",
            "I am joining the split string again to get - PYTHON really ROCKS\n"
          ],
          "name": "stdout"
        }
      ]
    },
    {
      "cell_type": "markdown",
      "metadata": {
        "id": "IYxSb5vAuoQs",
        "colab_type": "text"
      },
      "source": [
        "# Drill #28\n",
        "<img src=\"https://drive.google.com/uc?id=1uchcSeNEcXeL-a5uRNAte-tQduVcds-X\" width=\"700\"> //\n",
        "<img src=\"https://drive.google.com/uc?id=16hZqIZ4GYCy-OWRVG4h1-M-_x__thrKt\" width=\"700\"> //\n",
        "<img src=\"https://drive.google.com/uc?id=1Ktb4Wf0A82_aD_L0otp74o3lyIjQuXCn\" width=\"700\"> //\n",
        "\n",
        "# Expected Output\n",
        "<img src=\"https://drive.google.com/uc?id=1_GcsstP7aMtm1vAUh4k6AaK5kaWDqO7V\" width=\"400\">"
      ]
    },
    {
      "cell_type": "code",
      "metadata": {
        "id": "6NfW4brctG9D",
        "colab_type": "code",
        "outputId": "689b6f7e-4066-43e0-f07b-a0ecf4d404e5",
        "colab": {
          "base_uri": "https://localhost:8080/",
          "height": 714
        }
      },
      "source": [
        "states = {\n",
        "         'Uttar Pradesh': 'UP',\n",
        "         'Andhra Pradesh': 'AP',\n",
        "         'Telangana': 'TL',\n",
        "         'West Bengal': 'WB',\n",
        "         'Tamil Nadu': 'TN'\n",
        "}\n",
        "\n",
        "cities = {\n",
        "         'UP': 'Kanpur',\n",
        "         'TN': 'Chennai',\n",
        "         'WB': 'Kolkata'\n",
        "}\n",
        "\n",
        "cities['AP'] = 'Visakapatnam'\n",
        "cities['TL'] = 'Hyderabad'\n",
        "\n",
        "print('-' * 10)\n",
        "print(\"UP state has: \", cities['UP'])\n",
        "print(\"AP state has: \", cities['AP'])\n",
        "\n",
        "print('-' * 10)\n",
        "print(\"West Bengal's abbreviation is \", states['West Bengal'])\n",
        "print(\"Tamil Nadu's abbreviation is \", states['Tamil Nadu'])\n",
        "\n",
        "print('-' * 10)\n",
        "print('Tamil Nadu has: ', cities[states['Tamil Nadu']])\n",
        "print('West Bengal has: ', cities[states['West Bengal']])\n",
        "\n",
        "print('-' * 10)\n",
        "for state, abbrev in list(states.items()):\n",
        "  print(f\"{state} is abbreviated {abbrev}\")\n",
        "\n",
        "print('-' * 10)\n",
        "for abbrev, city in list(cities.items()):\n",
        "  print(f\"{abbrev} has the {city}\")\n",
        "\n",
        "print('-' * 10)\n",
        "for abbrev, city in list(cities.items()):\n",
        "  print(f\"{abbrev} has the {city}\")\n",
        "\n",
        "print('-' * 10)\n",
        "for state, abbrev in list(states.items()):\n",
        "  print(f\"{state} is abbreviated {abbrev}\")\n",
        "  print(f\"{abbrev} has the {cities[abbrev]}\")\n",
        "\n",
        "print('-' * 10)\n",
        "state = states.get('Jharkhand')\n",
        "\n",
        "if not state:\n",
        "  print('Sorry, no Jharkhand')\n",
        "\n",
        "city = cities.get('HN', 'Does not exist')\n",
        "print(f'The city for the state HN: {city}')"
      ],
      "execution_count": 0,
      "outputs": [
        {
          "output_type": "stream",
          "text": [
            "----------\n",
            "UP state has:  Kanpur\n",
            "AP state has:  Visakapatnam\n",
            "----------\n",
            "West Bengal's abbreviation is  WB\n",
            "Tamil Nadu's abbreviation is  TN\n",
            "----------\n",
            "Tamil Nadu has:  Chennai\n",
            "West Bengal has:  Kolkata\n",
            "----------\n",
            "Uttar Pradesh is abbreviated UP\n",
            "Andhra Pradesh is abbreviated AP\n",
            "Telangana is abbreviated TL\n",
            "West Bengal is abbreviated WB\n",
            "Tamil Nadu is abbreviated TN\n",
            "----------\n",
            "UP has the Kanpur\n",
            "TN has the Chennai\n",
            "WB has the Kolkata\n",
            "AP has the Visakapatnam\n",
            "TL has the Hyderabad\n",
            "----------\n",
            "UP has the Kanpur\n",
            "TN has the Chennai\n",
            "WB has the Kolkata\n",
            "AP has the Visakapatnam\n",
            "TL has the Hyderabad\n",
            "----------\n",
            "Uttar Pradesh is abbreviated UP\n",
            "UP has the Kanpur\n",
            "Andhra Pradesh is abbreviated AP\n",
            "AP has the Visakapatnam\n",
            "Telangana is abbreviated TL\n",
            "TL has the Hyderabad\n",
            "West Bengal is abbreviated WB\n",
            "WB has the Kolkata\n",
            "Tamil Nadu is abbreviated TN\n",
            "TN has the Chennai\n",
            "----------\n",
            "Sorry, no Jharkhand\n",
            "The city for the state HN: Does not exist\n"
          ],
          "name": "stdout"
        }
      ]
    },
    {
      "cell_type": "code",
      "metadata": {
        "id": "qkXJ6wHdsBO9",
        "colab_type": "code",
        "colab": {}
      },
      "source": [
        ""
      ],
      "execution_count": 0,
      "outputs": []
    }
  ]
}