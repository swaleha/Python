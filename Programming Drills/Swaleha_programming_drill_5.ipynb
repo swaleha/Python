{
  "nbformat": 4,
  "nbformat_minor": 0,
  "metadata": {
    "colab": {
      "name": "Swaleha_programming_drill_5.ipynb",
      "provenance": [],
      "collapsed_sections": [],
      "include_colab_link": true
    },
    "kernelspec": {
      "name": "python3",
      "display_name": "Python 3"
    }
  },
  "cells": [
    {
      "cell_type": "markdown",
      "metadata": {
        "id": "view-in-github",
        "colab_type": "text"
      },
      "source": [
        "<a href=\"https://colab.research.google.com/github/swaleha/Python/blob/master/Swaleha_programming_drill_5.ipynb\" target=\"_parent\"><img src=\"https://colab.research.google.com/assets/colab-badge.svg\" alt=\"Open In Colab\"/></a>"
      ]
    },
    {
      "cell_type": "markdown",
      "metadata": {
        "id": "2YLk3Gv4MATN",
        "colab_type": "text"
      },
      "source": [
        "#Drill #20\n",
        "<img src=\"https://drive.google.com/uc?id=1jFZCf2fOhvOfAPmNW0mMhcCw-vs8Ukfq\" width=\"400\">\n",
        "\n",
        "####Expected Output:\n",
        "<img src=\"https://drive.google.com/uc?id=193u64JKk7kGDiYO07lZeY4_na5loaQDg\" width=\"250\">"
      ]
    },
    {
      "cell_type": "code",
      "metadata": {
        "id": "u5oZF_PtPrV1",
        "colab_type": "code",
        "outputId": "ac5f9da5-45d2-4962-a1ba-e438ff580da3",
        "colab": {
          "base_uri": "https://localhost:8080/",
          "height": 105
        }
      },
      "source": [
        "people = 20\n",
        "cats = 30\n",
        "dogs = 15\n",
        "\n",
        "if(people < cats):\n",
        "  print(\"Too many cats! The world is doomed.\")\n",
        "\n",
        "if(people > cats):\n",
        "  print(\"Not many cats! The world is saved.\")\n",
        "\n",
        "if(people < dogs):\n",
        "  print(\"The world is drooled on.\")\n",
        "\n",
        "if(people > dogs):\n",
        "  print(\"The world is dry!\")\n",
        "\n",
        "dogs += 5\n",
        "\n",
        "if(people >= dogs):\n",
        "  print(\"People are greater than or equal to dogs.\")\n",
        "\n",
        "if(people <= dogs):\n",
        "  print(\"People are less than or equal to dogs.\")\n",
        "\n",
        "if(people == dogs):\n",
        "  print(\"People are equal to dogs.\")"
      ],
      "execution_count": 0,
      "outputs": [
        {
          "output_type": "stream",
          "text": [
            "Too many cats! The world is doomed.\n",
            "The world is dry!\n",
            "People are greater than or equal to dogs.\n",
            "People are less than or equal to dogs.\n",
            "People are equal to dogs.\n"
          ],
          "name": "stdout"
        }
      ]
    },
    {
      "cell_type": "markdown",
      "metadata": {
        "id": "o5Aik8a3OBO0",
        "colab_type": "text"
      },
      "source": [
        "# Drill #21\n",
        "<img src=\"https://drive.google.com/uc?id=1W7Es2eYu7P2ge50Phx4ufCeQouQz51oZ\" width=\"400\">\n",
        "\n",
        "#### Expected Output\n",
        "<img src=\"https://drive.google.com/uc?id=1VqcfhTIPgR9OvGOEyng65Mpc6OVJhUMs\" width=\"250\">"
      ]
    },
    {
      "cell_type": "code",
      "metadata": {
        "id": "an9WWw4nL2lk",
        "colab_type": "code",
        "outputId": "b4d4e267-5100-4ce4-8340-6f7260c16538",
        "colab": {
          "base_uri": "https://localhost:8080/",
          "height": 70
        }
      },
      "source": [
        "people = 30\n",
        "cars = 40\n",
        "trucks = 15\n",
        "\n",
        "if(cars > people):\n",
        "  print(\"We should take the cars\")\n",
        "elif(cars < people):\n",
        "  print(\"We should not take the cars\")\n",
        "else:\n",
        "  print(\"We can't decide\")\n",
        "\n",
        "if(trucks > cars):\n",
        "  print(\"There are too many trucks.\")\n",
        "elif(trucks < cars):\n",
        "  print(\"Maybe we could take the trucks.\")\n",
        "else:\n",
        "  print(\"We still can't decide.\")\n",
        "\n",
        "if(people > trucks):\n",
        "  print(\"Alright, let's just take the trucks.\")\n",
        "else:\n",
        "  print(\"Fine, let's stay home then.\")"
      ],
      "execution_count": 0,
      "outputs": [
        {
          "output_type": "stream",
          "text": [
            "We should take the cars\n",
            "Maybe we could take the trucks.\n",
            "Alright, let's just take the trucks.\n"
          ],
          "name": "stdout"
        }
      ]
    },
    {
      "cell_type": "markdown",
      "metadata": {
        "id": "iZ76UVzQPt-s",
        "colab_type": "text"
      },
      "source": [
        "# Drill #22\n",
        "<img src=\"https://drive.google.com/uc?id=1cU17eW9p4Y4653A-Fb2ZnPIdo9kZHRHx\" width=\"400\"> <br>\n",
        "<img src=\"https://drive.google.com/uc?id=1nIW0lrApKQORj7L28hnnkFM3rpPHZRkq\" width=\"400\">\n",
        "#### Expected Output\n",
        "<img src=\"https://drive.google.com/uc?id=1mhrc2muk2WCTqqMIgwbsEfUYEbScLNL4\"\n",
        "width=\"250\">"
      ]
    },
    {
      "cell_type": "code",
      "metadata": {
        "id": "jABRfu_bM4s9",
        "colab_type": "code",
        "outputId": "5b05740b-477c-4944-a5a9-b81854d5882d",
        "colab": {
          "base_uri": "https://localhost:8080/",
          "height": 212
        }
      },
      "source": [
        "print(\"\"\"\n",
        "  You enter a dark room with two doors.\n",
        "  Do you go through door #1 or door #2?\n",
        "\"\"\")\n",
        "\n",
        "door = input(\"> \")\n",
        "\n",
        "if(door == \"1\"):\n",
        "  print(\"There's a giant bear here eating a cheese cake.\")\n",
        "  print(\"What do you do?\")\n",
        "  print(\"1. Take the Cake\")\n",
        "  print(\"2. Scream at the bear\")\n",
        "\n",
        "  bear = input(\"> \")\n",
        "\n",
        "  if(bear == \"1\"):\n",
        "    print(\"The bear eats your face off. Good job!\")\n",
        "  elif(bear == \"2\"):\n",
        "    print(\"The bear eats your legs off. Good job!\")\n",
        "  else: \n",
        "    print(f\"Well, doing {bear} is probably better.\")\n",
        "    print(\"Bear runs away.\")\n",
        "\n",
        "elif(door == \"2\"):\n",
        "  print(\"You stare into the endless abyss at cthulhu's retiring spot. \\\n",
        "  You are presented with the following options. What do you choose?\")\n",
        "  print(\"1. Blueberries\")\n",
        "  print(\"2. Yellow jacket clothespins\")\n",
        "  print(\"3. Green jaggery marshmallows\")\n",
        "\n",
        "  insanity = input(\"> \")\n",
        "  \n",
        "  if(insanity == \"1\" or insanity == \"2\"):\n",
        "    print(\"Your body survives by a mind of jello\")\n",
        "    print(\"Good job!\")\n",
        "\n",
        "  else:\n",
        "    print(\"You stumble around and fall on a knife and die. Good job!\")"
      ],
      "execution_count": 0,
      "outputs": [
        {
          "output_type": "stream",
          "text": [
            "\n",
            "  You enter a dark room with two doors.\n",
            "  Do you go through door #1 or door #2?\n",
            "\n",
            "> 1\n",
            "There's a giant bear here eating a cheese cake.\n",
            "What do you do?\n",
            "1. Take the Cake\n",
            "2. Scream at the bear\n",
            "> 2\n",
            "The bear eats your legs off. Good job!\n"
          ],
          "name": "stdout"
        }
      ]
    },
    {
      "cell_type": "markdown",
      "metadata": {
        "id": "_twCf-rpU4Bp",
        "colab_type": "text"
      },
      "source": [
        "#### 22.1 \n",
        "Make new parts of game and change what decisions people can make."
      ]
    },
    {
      "cell_type": "code",
      "metadata": {
        "id": "C2tiPAbQSE66",
        "colab_type": "code",
        "colab": {}
      },
      "source": [
        ""
      ],
      "execution_count": 0,
      "outputs": []
    },
    {
      "cell_type": "code",
      "metadata": {
        "colab_type": "code",
        "outputId": "f6476988-8201-470a-df81-c53aae471f8c",
        "id": "xcQ45-zUbKQG",
        "colab": {
          "base_uri": "https://localhost:8080/",
          "height": 247
        }
      },
      "source": [
        "print(\"\"\"\n",
        "  You enter a dark room with three doors.\n",
        "  Do you go through door #1, door #2 or door #3, or would you remain in the same room?\n",
        "\"\"\")\n",
        "\n",
        "door = input(\"> \")\n",
        "\n",
        "if(door == \"1\"):\n",
        "  print(\"There's a giant bear here eating a cheese cake.\")\n",
        "  print(\"What do you do?\")\n",
        "  print(\"1. Take the Cake\")\n",
        "  print(\"2. Scream at the bear\")\n",
        "\n",
        "  bear = input(\"> \")\n",
        "\n",
        "  if(bear == \"1\"):\n",
        "    print(\"The bear eats your face off. Good job!\")\n",
        "  elif(bear == \"2\"):\n",
        "    print(\"The bear eats your legs off. Good job!\")\n",
        "  else: \n",
        "    print(f\"Well, doing {bear} is probably better.\")\n",
        "    print(\"Bear runs away.\")\n",
        "\n",
        "elif(door == \"2\"):\n",
        "  print(\"You stare into the endless abyss at cthulhu's retiring spot. \\\n",
        "  You are presented with the following options. What do you choose?\")\n",
        "  print(\"1. Blueberries\")\n",
        "  print(\"2. Yellow jacket clothespins\")\n",
        "  print(\"3. Green jaggery marshmallows\")\n",
        "\n",
        "  insanity = input(\"> \")\n",
        "  \n",
        "  if(insanity == \"1\" or insanity == \"2\"):\n",
        "    print(\"Your body survives by a mind of jello\")\n",
        "    print(\"Good job!\")\n",
        "\n",
        "  else:\n",
        "    print(\"You stumble around and fall on a knife and die. Good job!\")\n",
        "\n",
        "elif(door == \"3\"):\n",
        "  print(\"\"\"\\nThere are two mysterious gates. One is to heaven and the other is to the hell.\"\"\")\n",
        "  print(\"Which one do you choose?\")\n",
        "  print(\"1. Door to hell\")\n",
        "  print(\"2. Door to heaven\")\n",
        "  \n",
        "  karma = input(\"> \")\n",
        "\n",
        "  if(karma == \"1\"):\n",
        "    print(\"\\nYou are in Hell. There is a giant monster to torture you!\")\n",
        "\n",
        "  elif(karma == \"2\"):\n",
        "    print(\"\\nYou are in heaven. There are angels to welcome you!\")\n",
        "\n",
        "  else:\n",
        "    print(\"\\nYou didn't choose gates to hell or heaven. You are in the neutral zone!\")\n",
        "\n",
        "else:\n",
        "  print(\"\\nYou can stay in the same room.\")"
      ],
      "execution_count": 0,
      "outputs": [
        {
          "output_type": "stream",
          "text": [
            "\n",
            "  You enter a dark room with three doors.\n",
            "  Do you go through door #1, door #2 or door #3, or would you remain in the same room?\n",
            "\n",
            "> 3\n",
            "\n",
            "There are two mysterious gates. One is to heaven and the other is to the hell.\n",
            "Which one do you choose?\n",
            "1. Door to hell\n",
            "2. Door to heaven\n",
            "> 3\n",
            "\n",
            "You didn't choose gates to hell or heaven. You are in the neutral zone!\n"
          ],
          "name": "stdout"
        }
      ]
    },
    {
      "cell_type": "code",
      "metadata": {
        "id": "5ygLycPAcgKK",
        "colab_type": "code",
        "colab": {}
      },
      "source": [
        ""
      ],
      "execution_count": 0,
      "outputs": []
    }
  ]
}