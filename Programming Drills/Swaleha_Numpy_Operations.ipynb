{
  "nbformat": 4,
  "nbformat_minor": 0,
  "metadata": {
    "colab": {
      "name": "Swaleha_Numpy Operations.ipynb",
      "provenance": [],
      "collapsed_sections": [],
      "include_colab_link": true
    },
    "kernelspec": {
      "name": "python3",
      "display_name": "Python 3"
    }
  },
  "cells": [
    {
      "cell_type": "markdown",
      "metadata": {
        "id": "view-in-github",
        "colab_type": "text"
      },
      "source": [
        "<a href=\"https://colab.research.google.com/github/swaleha/Python/blob/master/Swaleha_Numpy_Operations.ipynb\" target=\"_parent\"><img src=\"https://colab.research.google.com/assets/colab-badge.svg\" alt=\"Open In Colab\"/></a>"
      ]
    },
    {
      "cell_type": "markdown",
      "metadata": {
        "id": "QK5XCPR1EbY1",
        "colab_type": "text"
      },
      "source": [
        "# Numerical Operations on Numpy"
      ]
    },
    {
      "cell_type": "code",
      "metadata": {
        "id": "AmFuP4_wEehb",
        "colab_type": "code",
        "colab": {}
      },
      "source": [
        "import numpy as np"
      ],
      "execution_count": 0,
      "outputs": []
    },
    {
      "cell_type": "code",
      "metadata": {
        "id": "7Rk5io0wEmqT",
        "colab_type": "code",
        "outputId": "0bf63839-fe11-4bfe-963b-6f3503677712",
        "colab": {
          "base_uri": "https://localhost:8080/",
          "height": 34
        }
      },
      "source": [
        "# Basic Scalar Operations\n",
        "a = np.array([1, 3, 8, 9])\n",
        "a + 1"
      ],
      "execution_count": 0,
      "outputs": [
        {
          "output_type": "execute_result",
          "data": {
            "text/plain": [
              "array([ 2,  4,  9, 10])"
            ]
          },
          "metadata": {
            "tags": []
          },
          "execution_count": 3
        }
      ]
    },
    {
      "cell_type": "code",
      "metadata": {
        "id": "uHo5ti_DZnAe",
        "colab_type": "code",
        "outputId": "b9cc4484-db04-406f-8c94-36a5cf35c70f",
        "colab": {
          "base_uri": "https://localhost:8080/",
          "height": 170
        }
      },
      "source": [
        "# Matrix Multiplications\n",
        "c = np.diag([1, 3, 4, 5])\n",
        "print(c * c)\n",
        "print()\n",
        "print(c.dot(c))"
      ],
      "execution_count": 0,
      "outputs": [
        {
          "output_type": "stream",
          "text": [
            "[[ 1  0  0  0]\n",
            " [ 0  9  0  0]\n",
            " [ 0  0 16  0]\n",
            " [ 0  0  0 25]]\n",
            "\n",
            "[[ 1  0  0  0]\n",
            " [ 0  9  0  0]\n",
            " [ 0  0 16  0]\n",
            " [ 0  0  0 25]]\n"
          ],
          "name": "stdout"
        }
      ]
    },
    {
      "cell_type": "code",
      "metadata": {
        "id": "2ID_1gR0Z0tr",
        "colab_type": "code",
        "outputId": "8d31bbd0-63be-4151-f897-3974671d0272",
        "colab": {
          "base_uri": "https://localhost:8080/",
          "height": 51
        }
      },
      "source": [
        "# Comparison\n",
        "a = np.array([1, 2, 4, 3])\n",
        "b = np.array([1, 4, 2, 3])\n",
        "print(a == b)\n",
        "print(np.array_equal(a, b))\n"
      ],
      "execution_count": 0,
      "outputs": [
        {
          "output_type": "stream",
          "text": [
            "[ True False False  True]\n",
            "False\n"
          ],
          "name": "stdout"
        }
      ]
    },
    {
      "cell_type": "code",
      "metadata": {
        "id": "atM3wQfxZ-7w",
        "colab_type": "code",
        "outputId": "8dd1fce9-4cf8-4040-8861-393a16c7d28e",
        "colab": {
          "base_uri": "https://localhost:8080/",
          "height": 34
        }
      },
      "source": [
        "# Logical Operations\n",
        "a = np.array([1, 1, 0, 0], dtype = 'bool')\n",
        "b = np.array([1, 0, 1, 0], dtype = 'bool')\n",
        "\n",
        "print(np.logical_or(a, b))"
      ],
      "execution_count": 0,
      "outputs": [
        {
          "output_type": "stream",
          "text": [
            "[ True  True  True False]\n"
          ],
          "name": "stdout"
        }
      ]
    },
    {
      "cell_type": "code",
      "metadata": {
        "id": "uaXxn1GEa1zN",
        "colab_type": "code",
        "outputId": "b69a09fd-d04b-4a01-c3e1-6442864edfe2",
        "colab": {
          "base_uri": "https://localhost:8080/",
          "height": 85
        }
      },
      "source": [
        "# Transcendental Functions\n",
        "a = np.arange(1, 4)\n",
        "print(a)\n",
        "print(np.exp(a))\n",
        "print(np.log(a))\n",
        "print(np.sin(a))"
      ],
      "execution_count": 0,
      "outputs": [
        {
          "output_type": "stream",
          "text": [
            "[1 2 3]\n",
            "[ 2.71828183  7.3890561  20.08553692]\n",
            "[0.         0.69314718 1.09861229]\n",
            "[0.84147098 0.90929743 0.14112001]\n"
          ],
          "name": "stdout"
        }
      ]
    },
    {
      "cell_type": "code",
      "metadata": {
        "id": "SJfshy0vbKcb",
        "colab_type": "code",
        "outputId": "a971dc49-22f1-4199-b4af-50961ad7a7b3",
        "colab": {
          "base_uri": "https://localhost:8080/",
          "height": 68
        }
      },
      "source": [
        "a# Computing Sum\n",
        "a = np.array([2, 3, 4])\n",
        "print(np.sum(a))\n",
        "\n",
        "x = np.array([[1, 2], [3, 4]])\n",
        "print(np.sum(x, axis = 0))# Sum along column\n",
        "print(np.sum(x, axis = 1)) # Sum along rows"
      ],
      "execution_count": 0,
      "outputs": [
        {
          "output_type": "stream",
          "text": [
            "9\n",
            "[4 6]\n",
            "[3 7]\n"
          ],
          "name": "stdout"
        }
      ]
    },
    {
      "cell_type": "code",
      "metadata": {
        "id": "sHiT48dEbrjK",
        "colab_type": "code",
        "outputId": "d7e52848-0e50-4e93-90c4-c2e360e93437",
        "colab": {
          "base_uri": "https://localhost:8080/",
          "height": 85
        }
      },
      "source": [
        "# Identifying minimum and maximum element of an array\n",
        "a = np.array([1, 99, 0, 67, 688, 7])\n",
        "print(a.min())# min/max value and its index value\n",
        "print(a.max())\n",
        "print(a.argmin())\n",
        "print(a.argmax())\n"
      ],
      "execution_count": 0,
      "outputs": [
        {
          "output_type": "stream",
          "text": [
            "0\n",
            "688\n",
            "2\n",
            "4\n"
          ],
          "name": "stdout"
        }
      ]
    },
    {
      "cell_type": "code",
      "metadata": {
        "id": "c_clfZqSE03-",
        "colab_type": "code",
        "outputId": "bfd09209-5fe5-4023-8f26-4f2667948576",
        "colab": {
          "base_uri": "https://localhost:8080/",
          "height": 51
        }
      },
      "source": [
        "# Logical operations\n",
        "x = np.zeros((3, 3))\n",
        "print(np.all(x == 0))\n",
        "print(np.any(x != 0))"
      ],
      "execution_count": 0,
      "outputs": [
        {
          "output_type": "stream",
          "text": [
            "True\n",
            "False\n"
          ],
          "name": "stdout"
        }
      ]
    },
    {
      "cell_type": "code",
      "metadata": {
        "id": "pPUlXpEgKNLk",
        "colab_type": "code",
        "outputId": "980929df-4b19-4ebf-d605-c5f1b3921555",
        "colab": {
          "base_uri": "https://localhost:8080/",
          "height": 51
        }
      },
      "source": [
        "a = np.array([1, 4, 3])\n",
        "b = np.array([2, 3, 4])\n",
        "print(a<=b)\n",
        "print((a<=b).all())"
      ],
      "execution_count": 0,
      "outputs": [
        {
          "output_type": "stream",
          "text": [
            "[ True False  True]\n",
            "False\n"
          ],
          "name": "stdout"
        }
      ]
    },
    {
      "cell_type": "code",
      "metadata": {
        "id": "9AVLNBqgKpez",
        "colab_type": "code",
        "outputId": "88409394-775e-48fe-fcdd-8ad716bf2d59",
        "colab": {
          "base_uri": "https://localhost:8080/",
          "height": 136
        }
      },
      "source": [
        "# Statistics\n",
        "x = np.array([2, 1, 3, 0])\n",
        "print(x.mean())# mean\n",
        "print(np.median(x)) # median\n",
        "print(np.var(x))\n",
        "print(x.std())# standard deviation\n",
        "\n",
        "y = np.array([[1, 2, 3], [4, 5, 7]])\n",
        "print(y)\n",
        "print(np.median(y, axis = 0))"
      ],
      "execution_count": 0,
      "outputs": [
        {
          "output_type": "stream",
          "text": [
            "1.5\n",
            "1.5\n",
            "1.25\n",
            "1.118033988749895\n",
            "[[1 2 3]\n",
            " [4 5 7]]\n",
            "[2.5 3.5 5. ]\n"
          ],
          "name": "stdout"
        }
      ]
    },
    {
      "cell_type": "code",
      "metadata": {
        "id": "c2TPMtrldSJo",
        "colab_type": "code",
        "outputId": "ea880f82-e2f5-4815-c73c-d66b23034970",
        "colab": {
          "base_uri": "https://localhost:8080/",
          "height": 153
        }
      },
      "source": [
        "# Flattening\n",
        "a = np.array([[1, 2, 4], [4, 5, 6]])\n",
        "print(\"Flattening a matrix: \\n\", np.ravel(a))\n",
        "print(\"Transpose of a matirx: \\n\", a.T)\n",
        "print(\"Flattening transpose of a matrix: \\n\", a.T.ravel())"
      ],
      "execution_count": 0,
      "outputs": [
        {
          "output_type": "stream",
          "text": [
            "Flattening a matrix: \n",
            " [1 2 4 4 5 6]\n",
            "Transpose of a matirx: \n",
            " [[1 4]\n",
            " [2 5]\n",
            " [4 6]]\n",
            "Flattening transpose of a matrix: \n",
            " [1 4 2 5 4 6]\n"
          ],
          "name": "stdout"
        }
      ]
    },
    {
      "cell_type": "code",
      "metadata": {
        "id": "Fizor4HYdm8I",
        "colab_type": "code",
        "outputId": "0784ff69-e9a3-4d62-b672-6dae2297ee59",
        "colab": {
          "base_uri": "https://localhost:8080/",
          "height": 119
        }
      },
      "source": [
        "# Reshaping\n",
        "print(a)\n",
        "b = np.ravel(a)\n",
        "print(b)\n",
        "c = b.reshape((3, 2))\n",
        "print(c)\n"
      ],
      "execution_count": 0,
      "outputs": [
        {
          "output_type": "stream",
          "text": [
            "[[1 2 4]\n",
            " [4 5 6]]\n",
            "[1 2 4 4 5 6]\n",
            "[[1 2]\n",
            " [4 4]\n",
            " [5 6]]\n"
          ],
          "name": "stdout"
        }
      ]
    },
    {
      "cell_type": "code",
      "metadata": {
        "id": "NvyjObWvdzSD",
        "colab_type": "code",
        "outputId": "010589ae-0cef-4ea0-bb6c-3be798a7adbd",
        "colab": {
          "base_uri": "https://localhost:8080/",
          "height": 323
        }
      },
      "source": [
        "# Sorting Data\n",
        "a = np.array([[5, 4], [8, 6]])\n",
        "print(\"Unsorted array: \\n\", a)\n",
        "b = np.sort(a, axis = 1)\n",
        "print(\"\\nRow wise sort: \\n\", b)\n",
        "print(\"\\nThe array of indices of an unsorted array\")\n",
        "c = np.argsort(a)\n",
        "print('c\\n', c)\n",
        "\n",
        "print(\"\\nThe array of indices of a sorted array: \\n\")\n",
        "e = np.argsort(b)\n",
        "print('e\\n', e)"
      ],
      "execution_count": 0,
      "outputs": [
        {
          "output_type": "stream",
          "text": [
            "Unsorted array: \n",
            " [[5 4]\n",
            " [8 6]]\n",
            "\n",
            "Row wise sort: \n",
            " [[4 5]\n",
            " [6 8]]\n",
            "\n",
            "The array of indices of an unsorted array\n",
            "c\n",
            " [[1 0]\n",
            " [1 0]]\n",
            "\n",
            "The array of indices of a sorted array: \n",
            "\n",
            "e\n",
            " [[0 1]\n",
            " [0 1]]\n"
          ],
          "name": "stdout"
        }
      ]
    },
    {
      "cell_type": "code",
      "metadata": {
        "id": "-3iHu8ereDx1",
        "colab_type": "code",
        "outputId": "b322c052-daf6-4d5f-8227-1dec11f6c28d",
        "colab": {
          "base_uri": "https://localhost:8080/",
          "height": 170
        }
      },
      "source": [
        "x = np.array([[[1],[2],[3]], [[4],[5],[6]]])\n",
        "print(x)\n",
        "print(x.ndim)\n",
        "print(np.shape(x))\n",
        "\n",
        "\n"
      ],
      "execution_count": 0,
      "outputs": [
        {
          "output_type": "stream",
          "text": [
            "[[[1]\n",
            "  [2]\n",
            "  [3]]\n",
            "\n",
            " [[4]\n",
            "  [5]\n",
            "  [6]]]\n",
            "3\n",
            "(2, 3, 1)\n"
          ],
          "name": "stdout"
        }
      ]
    },
    {
      "cell_type": "code",
      "metadata": {
        "id": "2r8a_ZYHh7mR",
        "colab_type": "code",
        "outputId": "f0db216e-2792-4ebb-f124-ff5e2fbd2422",
        "colab": {
          "base_uri": "https://localhost:8080/",
          "height": 85
        }
      },
      "source": [
        "labels=np.array([1,3,5])\n",
        "\n",
        "print(labels)\n",
        "\n",
        "print(labels[:, None])\n"
      ],
      "execution_count": 0,
      "outputs": [
        {
          "output_type": "stream",
          "text": [
            "[1 3 5]\n",
            "[[1]\n",
            " [3]\n",
            " [5]]\n"
          ],
          "name": "stdout"
        }
      ]
    },
    {
      "cell_type": "code",
      "metadata": {
        "id": "XKfZHkbag-gS",
        "colab_type": "code",
        "outputId": "9c7d8c72-7ed4-4185-aeba-b876f7cb8a26",
        "colab": {
          "base_uri": "https://localhost:8080/",
          "height": 119
        }
      },
      "source": [
        "import numpy as np\n",
        "x = np.arange(9).reshape((3, 3))\n",
        "print(x)\n",
        "np.random.shuffle(x)\n",
        "x\n"
      ],
      "execution_count": 0,
      "outputs": [
        {
          "output_type": "stream",
          "text": [
            "[[0 1 2]\n",
            " [3 4 5]\n",
            " [6 7 8]]\n"
          ],
          "name": "stdout"
        },
        {
          "output_type": "execute_result",
          "data": {
            "text/plain": [
              "array([[6, 7, 8],\n",
              "       [0, 1, 2],\n",
              "       [3, 4, 5]])"
            ]
          },
          "metadata": {
            "tags": []
          },
          "execution_count": 9
        }
      ]
    },
    {
      "cell_type": "code",
      "metadata": {
        "id": "dlY9BfEOirc-",
        "colab_type": "code",
        "outputId": "75fda2a6-9220-412c-8944-278622b5ab7e",
        "colab": {
          "base_uri": "https://localhost:8080/",
          "height": 34
        }
      },
      "source": [
        "def match(a, b):\n",
        "  '''\n",
        "  Inputs:\n",
        "   a and b are arrays of 1 dimension\n",
        "  Outputs:\n",
        "   array of indices which has indices of matching elements from arrays a and b\n",
        "  '''\n",
        "\n",
        "  match_list = []\n",
        "  \n",
        "  for i in range(a.shape[0]):\n",
        "    if(a[i] == b[i]):\n",
        "      match_list = match_list + [i]\n",
        "\n",
        "  return match_list\n",
        "\n",
        "print(match(np.array([1,2,3,2,3,4,3,4,5,6]), np.array([7,2,10,2,7,4,9,4,9,8])))"
      ],
      "execution_count": 0,
      "outputs": [
        {
          "output_type": "stream",
          "text": [
            "[1, 3, 5, 7]\n"
          ],
          "name": "stdout"
        }
      ]
    },
    {
      "cell_type": "code",
      "metadata": {
        "id": "Gg68G1xOnngr",
        "colab_type": "code",
        "colab": {}
      },
      "source": [
        ""
      ],
      "execution_count": 0,
      "outputs": []
    }
  ]
}