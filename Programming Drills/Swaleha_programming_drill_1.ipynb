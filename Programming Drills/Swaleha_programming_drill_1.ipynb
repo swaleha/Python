{
  "nbformat": 4,
  "nbformat_minor": 0,
  "metadata": {
    "colab": {
      "name": "Swaleha_programming_drill_1.ipynb",
      "provenance": [],
      "collapsed_sections": [],
      "include_colab_link": true
    },
    "kernelspec": {
      "name": "python3",
      "display_name": "Python 3"
    }
  },
  "cells": [
    {
      "cell_type": "markdown",
      "metadata": {
        "id": "view-in-github",
        "colab_type": "text"
      },
      "source": [
        "<a href=\"https://colab.research.google.com/github/swaleha/Python/blob/master/Swaleha_programming_drill_1.ipynb\" target=\"_parent\"><img src=\"https://colab.research.google.com/assets/colab-badge.svg\" alt=\"Open In Colab\"/></a>"
      ]
    },
    {
      "cell_type": "markdown",
      "metadata": {
        "id": "GNJbDM4HV9J8",
        "colab_type": "text"
      },
      "source": [
        "1. Write exercises into this notebook. \n",
        "2. Run the exercises you wrote. Make sure they match the expected output.\n",
        "3. Fix them when they are broken. \n",
        "4. Repeat."
      ]
    },
    {
      "cell_type": "markdown",
      "metadata": {
        "id": "QoXNSVtrVgvb",
        "colab_type": "text"
      },
      "source": [
        "## Drill #1 - Intro to print<br>\n",
        "<img src=\"https://drive.google.com/uc?id=1HCwzFtQKoV3fZYK4_Eo9P-CApIL8geQi\" width=\"300\"> \n",
        "#### Expected output\n",
        "<img src=\"https://drive.google.com/uc?id=1tAXjMEO7BBHLZepK1Zgiy1G6S1NHCPKY\" width=\"200\">\n"
      ]
    },
    {
      "cell_type": "code",
      "metadata": {
        "id": "3O3pXk93BMlV",
        "colab_type": "code",
        "outputId": "6dae5321-5951-497b-96e6-a9e6c6173c05",
        "colab": {
          "base_uri": "https://localhost:8080/",
          "height": 122
        }
      },
      "source": [
        " print(\"Hello World!\")\n",
        " print(\"Hello Again\")\n",
        " print(\"This is an AI course\")\n",
        " print(\"This is fun\")\n",
        " print(\"This is 'apparently' illusory.\")\n",
        " print('He told me, \"You got this!\" ')"
      ],
      "execution_count": 0,
      "outputs": [
        {
          "output_type": "stream",
          "text": [
            "Hello World!\n",
            "Hello Again\n",
            "This is an AI course\n",
            "This is fun\n",
            "This is 'apparently' illusory.\n",
            "He told me, \"You got this!\" \n"
          ],
          "name": "stdout"
        }
      ]
    },
    {
      "cell_type": "markdown",
      "metadata": {
        "id": "1dq3VrP8Xil8",
        "colab_type": "text"
      },
      "source": [
        "#### 1.2 Make your script print another line"
      ]
    },
    {
      "cell_type": "code",
      "metadata": {
        "id": "558jwU0CCHYG",
        "colab_type": "code",
        "colab": {}
      },
      "source": [
        "## Write your code here"
      ],
      "execution_count": 0,
      "outputs": []
    },
    {
      "cell_type": "markdown",
      "metadata": {
        "id": "MCra17UCXslF",
        "colab_type": "text"
      },
      "source": [
        "# Drill #2 - Comments <br>\n",
        "<img src=\"https://drive.google.com/uc?id=1SUDq-JoqLdajc03i9Ag76GIpTUeJliW1\" width=\"500\">\n",
        "\n",
        "#### Expected Output\n",
        "<img src=\"https://drive.google.com/uc?id=1ym7NnsNgRJJ6gKsM0IIu1mA7PC63Kb9T\" width=\"250\">"
      ]
    },
    {
      "cell_type": "code",
      "metadata": {
        "id": "19pWn_d0Xrad",
        "colab_type": "code",
        "outputId": "6cc03de7-c004-42d3-834f-a57fd5124d2f",
        "colab": {
          "base_uri": "https://localhost:8080/",
          "height": 52
        }
      },
      "source": [
        "# A comment, this is so you can read your program later.\n",
        "# Anything after the # is ignored by python.\n",
        "\n",
        "print(\"I could have code like this.\") # and comment after this is ignored\n",
        "\n",
        "# You can also use a comment to \"disable\" or comment out code:\n",
        "# print(\"This won't run.\")\n",
        "\n",
        "print(\"This will run.\")"
      ],
      "execution_count": 0,
      "outputs": [
        {
          "output_type": "stream",
          "text": [
            "I could have code like this.\n",
            "This will run.\n"
          ],
          "name": "stdout"
        }
      ]
    },
    {
      "cell_type": "markdown",
      "metadata": {
        "id": "gvjj1NTNaFeN",
        "colab_type": "text"
      },
      "source": [
        "### 2.1 \n",
        "Start at the last line, and check each word in reverse against what you should have typed. If you find more mistakes, fix them. (This is a trick to make sure you do not attach meaning to any part of code and are able to look at each piece exactly. It is a handy trick to catch errors)"
      ]
    },
    {
      "cell_type": "code",
      "metadata": {
        "id": "aCNK7PxIXzDX",
        "colab_type": "code",
        "colab": {}
      },
      "source": [
        "## Write your code here\n",
        "#Checked each word in reverse. No mistakes found.\n"
      ],
      "execution_count": 0,
      "outputs": []
    },
    {
      "cell_type": "markdown",
      "metadata": {
        "id": "myAZjSq4awLj",
        "colab_type": "text"
      },
      "source": [
        "### 2.2 \n",
        "Read what you typed above out loud, including saying each character by its name. If you find more mistakes, fix them."
      ]
    },
    {
      "cell_type": "code",
      "metadata": {
        "id": "fKX_ltdFZhgu",
        "colab_type": "code",
        "colab": {}
      },
      "source": [
        "## Write your code here\n",
        "#Checked each word in reverse. No mistakes found."
      ],
      "execution_count": 0,
      "outputs": []
    },
    {
      "cell_type": "markdown",
      "metadata": {
        "id": "SVIoH6EE1ZoH",
        "colab_type": "text"
      },
      "source": [
        "\n",
        "# Drill #3 - Mathematical operations\n",
        "Type in the following code exactly before you run it. <br><br>\n",
        "<img src=\"https://drive.google.com/uc?id=1FvLTSNJ84Da_KHSczhxg0Q0Wgf7Z3DDa\" width=\"400\"><br>\n",
        "#### Expected Output\n",
        "<img src=\"https://drive.google.com/uc?id=1NulYhDSBqL3-7EzbYwSl5RaHHaZIvB73\" width=\"200\">"
      ]
    },
    {
      "cell_type": "code",
      "metadata": {
        "id": "4mGB9iw_1cP5",
        "colab_type": "code",
        "outputId": "25b471fe-1759-4d07-a325-2ea6434bd726",
        "colab": {
          "base_uri": "https://localhost:8080/",
          "height": 228
        }
      },
      "source": [
        "print(\"I will count the number of fruits:\")\n",
        "print(\"Apples\", 34 + 26/2)\n",
        "print(\"Mangoes\", 100 - 25 * 3 % 4)\n",
        "print(\"Now I will count the vegetables:\")\n",
        "print(3 + 2 + 1 - 5 + 4 % 2 - 1 / 4 + 6)\n",
        "print(\"Is it true that 3 + 2 < 5 -7?\")\n",
        "print(3 + 2 < 5 - 7)\n",
        "print(\"What is 3*2?\", 3 * 2)\n",
        "print(\"What is 5 -7?\", 5 - 7)\n",
        "print(\"Is it greater?\", 5 > -2)\n",
        "print(\"Is it greater or equal?\", 5 >= -2) \n",
        "print(\"Is it less or equal?\", 5 <= -2)"
      ],
      "execution_count": 0,
      "outputs": [
        {
          "output_type": "stream",
          "text": [
            "I will count the number of fruits:\n",
            "Apples 47.0\n",
            "Mangoes 97\n",
            "Now I will count the vegetables:\n",
            "6.75\n",
            "Is it true that 3 + 2 < 5 -7?\n",
            "False\n",
            "What is 3*2? 6\n",
            "What is 5 -7? -2\n",
            "Is it greater? True\n",
            "Is it greater or equal? True\n",
            "Is it less or equal? False\n"
          ],
          "name": "stdout"
        }
      ]
    },
    {
      "cell_type": "markdown",
      "metadata": {
        "id": "70z8KFY84v7K",
        "colab_type": "text"
      },
      "source": [
        "### 3.1 \n",
        "Find something you need to calculate and write the code that does it."
      ]
    },
    {
      "cell_type": "code",
      "metadata": {
        "id": "bSWEB1vV3JvF",
        "colab_type": "code",
        "outputId": "31682074-dd4f-4e57-bf33-8769ef33401d",
        "colab": {
          "base_uri": "https://localhost:8080/",
          "height": 34
        }
      },
      "source": [
        "print(\"Area of a rectangle of length '4' and breadth '6.5' is\",  4 * 6.5)"
      ],
      "execution_count": 0,
      "outputs": [
        {
          "output_type": "stream",
          "text": [
            "Area of a rectangle of length '4' and breadth '6.5' is 26.0\n"
          ],
          "name": "stdout"
        }
      ]
    },
    {
      "cell_type": "markdown",
      "metadata": {
        "id": "TE_URpDk5IZg",
        "colab_type": "text"
      },
      "source": [
        "### 3.2 \n",
        "You can use parentheses to change the order of operations. For eg., 2 + (3 * 5) is different from (2 + 3)*5. <br> Play with parentheses to see how the results change."
      ]
    },
    {
      "cell_type": "code",
      "metadata": {
        "id": "-H6gAYG55qBj",
        "colab_type": "code",
        "outputId": "b07794dc-3813-4f49-f0c1-52b630ca2d29",
        "colab": {
          "base_uri": "https://localhost:8080/",
          "height": 52
        }
      },
      "source": [
        "print(\"Use of parentheses 1 : 2 + (3 * 5) = \", 2 + (3 * 5))\n",
        "print(\"Use of parentheses 2 : (2 + 3) * 5 = \", (2 + 3) * 5)"
      ],
      "execution_count": 0,
      "outputs": [
        {
          "output_type": "stream",
          "text": [
            "Use of parentheses 1 : 2 + (3 * 5) =  17\n",
            "Use of parentheses 2 : (2 + 3) * 5 =  25\n"
          ],
          "name": "stdout"
        }
      ]
    },
    {
      "cell_type": "markdown",
      "metadata": {
        "id": "AMRJ75_JY8Ep",
        "colab_type": "text"
      },
      "source": [
        "#Drill #4 - Variables\n",
        "<img src=\"https://drive.google.com/uc?id=1k2pTmgJ6pwKqC8xY9GQg83qfKry8TUci\" width=\"400\">\n",
        "\n",
        "### Expected Output\n",
        "<img src=\"https://drive.google.com/uc?id=1GjRjri4bjr7rEgq8hKwZ2fWDH6ld3EOU\" width=\"300\">"
      ]
    },
    {
      "cell_type": "markdown",
      "metadata": {
        "id": "A5j13VELdoV9",
        "colab_type": "text"
      },
      "source": [
        "###4.1 \n",
        "Check what happens if you use 50.0 instead of 50 for capacity_classroom. (Decimal numbers such as 50.0 are called floating point numbers)\n"
      ]
    },
    {
      "cell_type": "code",
      "metadata": {
        "id": "1x0QH2NecBEc",
        "colab_type": "code",
        "outputId": "264e2853-48fc-46a4-da58-cf0147fe1ff3",
        "colab": {
          "base_uri": "https://localhost:8080/",
          "height": 105
        }
      },
      "source": [
        "classrooms = 20\n",
        "capacity_classroom = 50\n",
        "students = 250\n",
        "teachers = 30\n",
        "max_students = classrooms*capacity_classroom\n",
        "classrooms_not_used = classrooms - students/capacity_classroom\n",
        "average_students_per_teacher = students/teachers\n",
        "\n",
        "print(\"There are \",classrooms,\" classrooms available\")\n",
        "print(\"There are only \",students,\" students available\")\n",
        "print(\"A maximum of \",max_students,\" students can be accomodated in the school\")\n",
        "print(\"There are \",teachers,\" teachers available to teach\")\n",
        "print(\"Every teacher takes care of about\",average_students_per_teacher, \"students\")\n",
        "\n"
      ],
      "execution_count": 0,
      "outputs": [
        {
          "output_type": "stream",
          "text": [
            "There are  20  classrooms available\n",
            "There are only  250  students available\n",
            "A maximum of  1000  students can be accomodated in the school\n",
            "There are  30  teachers available to teach\n",
            "Every teacher takes care of about 8.333333333333334 students\n"
          ],
          "name": "stdout"
        }
      ]
    },
    {
      "cell_type": "markdown",
      "metadata": {
        "id": "Lf5cNYOBh1dz",
        "colab_type": "text"
      },
      "source": [
        "###4.2\n",
        "Add a comment before each line in the code to describe what that line of code is doing in plain english."
      ]
    },
    {
      "cell_type": "code",
      "metadata": {
        "id": "AYE9BvA5cTxC",
        "colab_type": "code",
        "outputId": "a7de341e-619e-4629-aaaa-6b7878612895",
        "colab": {
          "base_uri": "https://localhost:8080/",
          "height": 105
        }
      },
      "source": [
        "# Number of classrooms\n",
        "print(\"There are \",classrooms,\" classrooms available\")\n",
        "\n",
        "# Number of students\n",
        "print(\"There are \",students,\" students available\")\n",
        "\n",
        "# Total number of students that can be accomodated\n",
        "print(\"A maximum of \",max_students,\" students can be accomodated in the school\")\n",
        "\n",
        "# Number of teachers\n",
        "print(\"There are \",teachers,\" teachers avaialble to teach\")\n",
        "\n",
        "# Number of students for each teacher\n",
        "print(\"Every teacher takes care of about \",average_students_per_teacher,\"students\")"
      ],
      "execution_count": 0,
      "outputs": [
        {
          "output_type": "stream",
          "text": [
            "There are  20  classrooms available\n",
            "There are  250  students available\n",
            "A maximum of  1000  students can be accomodated in the school\n",
            "There are  30  teachers avaialble to teach\n",
            "Every teacher takes care of about  8.333333333333334 students\n"
          ],
          "name": "stdout"
        }
      ]
    },
    {
      "cell_type": "code",
      "metadata": {
        "id": "oPDpdgB6UbXY",
        "colab_type": "code",
        "colab": {}
      },
      "source": [
        ""
      ],
      "execution_count": 0,
      "outputs": []
    }
  ]
}