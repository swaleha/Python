{
  "nbformat": 4,
  "nbformat_minor": 0,
  "metadata": {
    "colab": {
      "name": "Swaleha_programming_drill_2.ipynb",
      "provenance": [],
      "collapsed_sections": [],
      "include_colab_link": true
    },
    "kernelspec": {
      "name": "python3",
      "display_name": "Python 3"
    }
  },
  "cells": [
    {
      "cell_type": "markdown",
      "metadata": {
        "id": "view-in-github",
        "colab_type": "text"
      },
      "source": [
        "<a href=\"https://colab.research.google.com/github/swaleha/Python/blob/master/Swaleha_programming_drill_2.ipynb\" target=\"_parent\"><img src=\"https://colab.research.google.com/assets/colab-badge.svg\" alt=\"Open In Colab\"/></a>"
      ]
    },
    {
      "cell_type": "markdown",
      "metadata": {
        "id": "_7XILk0twanK",
        "colab_type": "text"
      },
      "source": [
        "# Drill #5 - More variables and printing\n",
        "- In this drill, you will use f-strings feature of python. <br> They make formatting strings a lot easier than other methods.\n",
        "\n",
        "<img src=\"https://drive.google.com/uc?id=1Z1p8oma05HbgPG47fRwj_qL-Ge6CVeQO\" width = \"400\">\n",
        "\n",
        "#### Expected Output\n",
        "<img src=\"https://drive.google.com/uc?id=1sa_T4RAEdtQg2c31j-_XMq5zcQc3Tii9\" width = \"250\">"
      ]
    },
    {
      "cell_type": "code",
      "metadata": {
        "id": "6CwvAxCL61Oq",
        "colab_type": "code",
        "outputId": "546eb03b-7130-41ce-a15f-3904d295c8f0",
        "colab": {
          "base_uri": "https://localhost:8080/",
          "height": 119
        }
      },
      "source": [
        "my_name = 'Hari'\n",
        "my_age = 16\n",
        "my_height = 74 # inches\n",
        "my_weight = 70 # kilograms\n",
        "my_complexion = 'Black'\n",
        "my_eyes = 'Blue'\n",
        "\n",
        "print(f\"Let's talk about {my_name}\")\n",
        "print(f\"He's {my_height} inches tall.\")\n",
        "print(f\"He's {my_weight} kgs heavy.\")\n",
        "print(\"Isn't he too heavy?\")\n",
        "print(f\"He's got {eyes} eyes and {complexion} complexion\")\n",
        "\n",
        "# This is a trciky line. Try to get it exactly right\n",
        "total = age + height + weight\n",
        "print(f\"If you add {age}, {height} and {weight}, you get {total}\")"
      ],
      "execution_count": 0,
      "outputs": [
        {
          "output_type": "stream",
          "text": [
            "Let's talk about Hari\n",
            "He's 74 inches tall.\n",
            "He's 70 kgs heavy.\n",
            "Isn't he too heavy?\n",
            "He's got Blue eyes and Black complexion\n",
            "If you add 16, 74 and 70, you get 160\n"
          ],
          "name": "stdout"
        }
      ]
    },
    {
      "cell_type": "markdown",
      "metadata": {
        "id": "ZkX4arpN0HRW",
        "colab_type": "text"
      },
      "source": [
        "### 5.1\n",
        "Change the names of the variables to remove my from each of them. Try to make the code run again with the new names."
      ]
    },
    {
      "cell_type": "code",
      "metadata": {
        "id": "QUIAf66fyRO1",
        "colab_type": "code",
        "outputId": "1d51991b-58ff-4412-b434-7eeddc50c111",
        "colab": {
          "base_uri": "https://localhost:8080/",
          "height": 119
        }
      },
      "source": [
        "name = 'Hari'\n",
        "age = 16\n",
        "height = 74   # inches\n",
        "weight = 70   # kilograms\n",
        "complexion = 'Black' \n",
        "eyes = 'Blue'\n",
        "\n",
        "print(f\"Let's talk about {name}\")\n",
        "print(f\"He's {height} inches tall.\")\n",
        "print(f\"He's {weight} kgs heavy.\")\n",
        "print(\"Isn't that too heavy?\")\n",
        "print(f\"He's got {eyes} eyes and {complexion} complexion\")\n",
        "\n",
        "# This line is tricky. Try to get it exactly right\n",
        "total = age + height + weight\n",
        "print(f\"If you add {age}, {height} and {weight}, you get {total}\")\n"
      ],
      "execution_count": 0,
      "outputs": [
        {
          "output_type": "stream",
          "text": [
            "Let's talk about Hari\n",
            "He's 74 inches tall.\n",
            "He's 70 kgs heavy.\n",
            "Isn't that too heavy?\n",
            "He's got Blue eyes and Black complexion\n",
            "If you add 16, 74 and 70, you get 160\n"
          ],
          "name": "stdout"
        }
      ]
    },
    {
      "cell_type": "markdown",
      "metadata": {
        "id": "nwKp6MvJ0Zpz",
        "colab_type": "text"
      },
      "source": [
        "### 5.2\n",
        "Write some variables to convert weight from kilograms to pounds and height from inches to centimeters. Do not just type in the measurements. Use math formulas to convert."
      ]
    },
    {
      "cell_type": "code",
      "metadata": {
        "id": "t0HLo_O10Sg5",
        "colab_type": "code",
        "outputId": "e9aed980-b6ce-4699-9d30-cb7c3a9b764f",
        "colab": {
          "base_uri": "https://localhost:8080/",
          "height": 119
        }
      },
      "source": [
        "name = 'Hari'\n",
        "age = 16\n",
        "weight_kg = 70              # kilograms\n",
        "weight_lb = 2.2 * weight_kg # pounds\n",
        "height_in = 74                   # inches\n",
        "height_cm = (1/2.54) * height_in # centimeters\n",
        "complexion = 'Black'\n",
        "eyes = 'Blue'\n",
        "\n",
        "print(f\"Let's talk about {name}\")\n",
        "print(f\"He's {height_in} inches tall.\")\n",
        "print(f\"He's {weight_kg} kgs heavy.\")\n",
        "print(\"Isn't he too heavy?\")\n",
        "print(f\"He's got {eyes} eyes and {complexion} complexion\")\n",
        "\n",
        "# This is a tricky line. Try to get it exactly right\n",
        "\n",
        "total = age + height_in + weight_kg\n",
        "print(f\"If you add {age}, {height_in} and {weight_kg}, you get {total}\")\n",
        "\n"
      ],
      "execution_count": 0,
      "outputs": [
        {
          "output_type": "stream",
          "text": [
            "Let's talk about Hari\n",
            "He's 74 inches tall.\n",
            "He's 70 kgs heavy.\n",
            "Isn't he too heavy?\n",
            "He's got Blue eyes and Black complexion\n",
            "If you add 16, 74 and 70, you get 160\n"
          ],
          "name": "stdout"
        }
      ]
    },
    {
      "cell_type": "markdown",
      "metadata": {
        "id": "bbVtD6KU42zA",
        "colab_type": "text"
      },
      "source": [
        "# Drill #6\n",
        "Observe and learn about a new way of formatting strings using ```format``` <br>\n",
        "<img src=\"https://drive.google.com/uc?id=12cTwehguVS2-hE3ID0VHKKxdkr5WcBho\" width=\"400\">\n",
        "\n",
        "##### Expected Output\n",
        "<img src=\"https://drive.google.com/uc?id=1Ood5DWeL7FBp6R9xr6wbqFvq0rnDEzo-\" width=\"250\">"
      ]
    },
    {
      "cell_type": "code",
      "metadata": {
        "id": "GgkcKOrD88mc",
        "colab_type": "code",
        "outputId": "c52bfd2d-5782-4fe6-f6e6-a411ccc00098",
        "colab": {
          "base_uri": "https://localhost:8080/",
          "height": 119
        }
      },
      "source": [
        "types_of_people = 10\n",
        "x = f\"There are {types_of_people} types of people\"\n",
        "\n",
        "binary = \"binary\"\n",
        "do_not = \"don't\"\n",
        "y = f\"Thos who know {binary} and those who {do_not}.\"\n",
        "\n",
        "print(x)\n",
        "print(y)\n",
        "\n",
        "print(f\"I said: {x}\")\n",
        "print(f\"I also said: {y}\")\n",
        "\n",
        "hilarious = False\n",
        "joke_evaluation = \"Isn't that joke funny!{}\"\n",
        "\n",
        "print(joke_evaluation.format(hilarious))\n",
        "\n",
        "w = \"This is left side of..\"\n",
        "e = \"a string with a right side.\"\n",
        "\n",
        "print(w+e)\n"
      ],
      "execution_count": 0,
      "outputs": [
        {
          "output_type": "stream",
          "text": [
            "There are 10 types of people\n",
            "Thos who know binary and those who don't.\n",
            "I said: There are 10 types of people\n",
            "I also said: Thos who know binary and those who don't.\n",
            "Isn't that joke funny!False\n",
            "This is left side of..a string with a right side.\n"
          ],
          "name": "stdout"
        }
      ]
    },
    {
      "cell_type": "markdown",
      "metadata": {
        "id": "vd-aLAbB-R4p",
        "colab_type": "text"
      },
      "source": [
        "#### 6.1\n",
        "When something is enclosed in single-quotes (') or double quotes (\"\"), python considers it a string. <br>\n",
        "At how many places in the code is there a string inside another string?"
      ]
    },
    {
      "cell_type": "code",
      "metadata": {
        "id": "DznSUeV79q0U",
        "colab_type": "code",
        "outputId": "a31f8f09-d842-40b3-d5fb-aca01ee93037",
        "colab": {
          "base_uri": "https://localhost:8080/",
          "height": 34
        }
      },
      "source": [
        "4"
      ],
      "execution_count": 0,
      "outputs": [
        {
          "output_type": "execute_result",
          "data": {
            "text/plain": [
              "4"
            ]
          },
          "metadata": {
            "tags": []
          },
          "execution_count": 14
        }
      ]
    },
    {
      "cell_type": "markdown",
      "metadata": {
        "id": "LEODBvxD-vU6",
        "colab_type": "text"
      },
      "source": [
        "#### 6.2\n",
        "Observe how adding strings ```w``` and ```e``` using a ```+``` makes them longer. <br>Create two strings of your own and print the result of adding them using a ```+``` "
      ]
    },
    {
      "cell_type": "code",
      "metadata": {
        "id": "4LXkvkEf_FH4",
        "colab_type": "code",
        "outputId": "0d62c267-160a-406b-b35b-5d064c542cca",
        "colab": {
          "base_uri": "https://localhost:8080/",
          "height": 34
        }
      },
      "source": [
        "str1 = \"The movie was very interesting,\"\n",
        "str2 = \" as I expected.\"\n",
        "\n",
        "print(str1 + str2)"
      ],
      "execution_count": 0,
      "outputs": [
        {
          "output_type": "stream",
          "text": [
            "The movie was very interesting, as I expected.\n"
          ],
          "name": "stdout"
        }
      ]
    },
    {
      "cell_type": "markdown",
      "metadata": {
        "id": "-zOVla2RAgeu",
        "colab_type": "text"
      },
      "source": [
        "# Breaking Code\n",
        "Moving forward, try to break the code that you have written so that it throws an error. <br>\n",
        "Try to experiment and see the different ways in which you can break the code and the different kinds of errors that you can make it throw. <br>\n",
        "Do this for all the drills going forward. This will help you develop your expertise in debugging."
      ]
    },
    {
      "cell_type": "code",
      "metadata": {
        "id": "ciuSV3SjA1HO",
        "colab_type": "code",
        "outputId": "4ef5fb45-bdd9-4437-d6b9-c6e0c3206614",
        "colab": {
          "base_uri": "https://localhost:8080/",
          "height": 130
        }
      },
      "source": [
        "str.1 = The movie was interesting,\n",
        "2str = \"as I expected.\n",
        "print(str1)+f \"str\""
      ],
      "execution_count": 0,
      "outputs": [
        {
          "output_type": "error",
          "ename": "SyntaxError",
          "evalue": "ignored",
          "traceback": [
            "\u001b[0;36m  File \u001b[0;32m\"<ipython-input-35-417401c8a714>\"\u001b[0;36m, line \u001b[0;32m1\u001b[0m\n\u001b[0;31m    str.1 = The movie was interesting,\u001b[0m\n\u001b[0m        ^\u001b[0m\n\u001b[0;31mSyntaxError\u001b[0m\u001b[0;31m:\u001b[0m invalid syntax\n"
          ]
        }
      ]
    },
    {
      "cell_type": "markdown",
      "metadata": {
        "id": "AEnwRvb3BL0O",
        "colab_type": "text"
      },
      "source": [
        "#Drill #7\n",
        "<img src=\"https://drive.google.com/uc?id=1siwGm9a5ZnTsjBEUjLwxkK1d_DS6hwOB\" width=\"400\">\n",
        "\n",
        "##### Expected Output\n",
        "<img src=\"https://drive.google.com/uc?id=1mZyMsyJcI27AIFiE4OZrJQR9Cqb0LLdq\" width=\"250\">\n"
      ]
    },
    {
      "cell_type": "code",
      "metadata": {
        "id": "8kdNp3ogDr6A",
        "colab_type": "code",
        "outputId": "07967e86-8ebf-45da-955e-da7aca5d025f",
        "colab": {
          "base_uri": "https://localhost:8080/",
          "height": 102
        }
      },
      "source": [
        "print(\"Twinkle Twinkle little star\")\n",
        "print(\"How I {} what you are\".format('wonder'))\n",
        "print(\"Up above the world so high\")\n",
        "print(\".\"*27)\n",
        "\n",
        "end1 = \"A\"\n",
        "end2 = \"r\"\n",
        "end3 = \"t\"\n",
        "end4 = \"i\"\n",
        "end5 = \"f\"\n",
        "end6 = \"i\"\n",
        "end7 = \"c\"\n",
        "end8 = \"i\"\n",
        "end9 = \"a\"\n",
        "end10 = \"l\"\n",
        "end11 = \"Intelligence\"\n",
        "\n",
        "print(end1 + end2 + end3 + end4 + end5 + end6 + end7 + end8 + end9 + end10, end = ' ')\n",
        "print(end11)\n"
      ],
      "execution_count": 0,
      "outputs": [
        {
          "output_type": "stream",
          "text": [
            "Twinkle Twinkle little star\n",
            "How I wonder what you are\n",
            "Up above the world so high\n",
            "...........................\n",
            "Artificial Intelligence\n"
          ],
          "name": "stdout"
        }
      ]
    },
    {
      "cell_type": "markdown",
      "metadata": {
        "id": "bmlXA2j6DW0G",
        "colab_type": "text"
      },
      "source": [
        "# Drill #8\n",
        "- ```\\n``` (backslash n) inserts a _new line character_ at that point in the string. This lets us create strings that span multiple lines.\n",
        "\n",
        "<img src=\"https://drive.google.com/uc?id=1WuIZPNCGTJ7JvXV0lx1qzgjYBoNKr-Qm\" width=\"400\">\n",
        "\n",
        "#### Expected Output\n",
        "<img src=\"https://drive.google.com/uc?id=12xmND2VZSNFiZloKwtWY3Nn3NMmMCQtv\"\n",
        "width=\"250\"> <br>\n"
      ]
    },
    {
      "cell_type": "code",
      "metadata": {
        "id": "5ttp7Ls-Q9rc",
        "colab_type": "code",
        "outputId": "f247c0b5-d58a-4b61-bbf6-cd9fc36501d5",
        "colab": {
          "base_uri": "https://localhost:8080/",
          "height": 272
        }
      },
      "source": [
        "days = \"Mon Tue Wed Thu Fri Sat Sun\"\n",
        "months = \"Jan\\nFeb\\nMar\\nApr\\nMay\\nJun\\nJul\\nAug\"\n",
        "\n",
        "print(\"Here are the days: \", days)\n",
        "print(\"Here are the months: \", months)\n",
        "\n",
        "print(\"\"\"\n",
        "There's something going on here.\n",
        "With the three double-quotes.\n",
        "We'll be able to type as much as we like.\n",
        "Even 4 lines if we want, or 5, or 6.\n",
        "\"\"\"\n",
        ")\n",
        "\n"
      ],
      "execution_count": 0,
      "outputs": [
        {
          "output_type": "stream",
          "text": [
            "Here are the days:  Mon Tue Wed Thu Fri Sat Sun\n",
            "Here are the months:  Jan\n",
            "Feb\n",
            "Mar\n",
            "Apr\n",
            "May\n",
            "Jun\n",
            "Jul\n",
            "Aug\n",
            "\n",
            "There's something going on here.\n",
            "With the three double-quotes.\n",
            "We'll be able to type as much as we like.\n",
            "Even 4 lines if we want, or 5, or 6.\n",
            "\n"
          ],
          "name": "stdout"
        }
      ]
    },
    {
      "cell_type": "markdown",
      "metadata": {
        "id": "7QJuv7BwcJ-T",
        "colab_type": "text"
      },
      "source": [
        "# Drill #9 - Taking Data from users\n",
        "<img src=\"https://drive.google.com/uc?id=1q8MCFxBlcpUMhpf1pWeihYA_zXDU-Ve0\" width=\"400\">\n",
        "\n",
        "##### Expected Output\n",
        "<img src=\"https://drive.google.com/uc?id=1SV9Fj5L1yt5z6sKXWGZEq1WRr5kFMplt\" width=\"250\">"
      ]
    },
    {
      "cell_type": "code",
      "metadata": {
        "id": "pTiVIY07Rkdb",
        "colab_type": "code",
        "outputId": "e2867821-b3eb-4583-9d38-5bd5e0af8a6c",
        "colab": {
          "base_uri": "https://localhost:8080/",
          "height": 85
        }
      },
      "source": [
        "print(\"How old are you?\", end=' ')\n",
        "age = input()\n",
        "print(\"How tall are you?\", end=' ')\n",
        "height =  input()\n",
        "print(\"How much do you weigh?\", end=' ')\n",
        "weight = input()\n",
        "\n",
        "print(f\"So, you are {age} years old, {height} tall and {weight} heavy\")"
      ],
      "execution_count": 0,
      "outputs": [
        {
          "output_type": "stream",
          "text": [
            "How old are you? 28\n",
            "How tall are you? 5'4\"\n",
            "How much do you weigh? 122lbs\n",
            "So, you are 28 years old, 5'4\" tall and 122lbs heavy\n"
          ],
          "name": "stdout"
        }
      ]
    },
    {
      "cell_type": "markdown",
      "metadata": {
        "id": "gga_fUr1IYOm",
        "colab_type": "text"
      },
      "source": [
        "#### 9.1\n",
        "Write another “form” like this to ask some other questions."
      ]
    },
    {
      "cell_type": "code",
      "metadata": {
        "id": "v6JWSAHeRpeT",
        "colab_type": "code",
        "outputId": "a08c759d-a158-4c55-d8b5-a4fa4ae928b6",
        "colab": {
          "base_uri": "https://localhost:8080/",
          "height": 85
        }
      },
      "source": [
        "print(\"What is your gender?\", end=' ')\n",
        "gender = input()\n",
        "print(\"What is your ethnicity?\", end=' ')\n",
        "ethnicity = input()\n",
        "print(\"Do you require any special needs?\", end=' ')\n",
        "special_needs = input()\n",
        "\n",
        "print(f\"So, you have submitted your gender as '{gender}', ethnicity as '{ethnicity}' and special needs as '{special_needs}'\")\n"
      ],
      "execution_count": 0,
      "outputs": [
        {
          "output_type": "stream",
          "text": [
            "What is your gender? Female\n",
            "What is your ethnicity? Asian\n",
            "Do you require any special needs? None\n",
            "So, you have submitted your gender as 'Female', ethnicity as 'Asian' and special needs as 'None'\n"
          ],
          "name": "stdout"
        }
      ]
    },
    {
      "cell_type": "markdown",
      "metadata": {
        "id": "_woE1VsCLEz3",
        "colab_type": "text"
      },
      "source": [
        "#Drill #10 - Taking input with prompts\n",
        "<img src=\"https://drive.google.com/uc?id=1CudaeeHzmT22bPqgtvnPUcPnzF_0tqVY\" width=\"400\">\n",
        "\n",
        "##### Expected Output <br>\n",
        "<img src=\"https://drive.google.com/uc?id=1oNKn5PsPDOlVmvKN5WZU8NgJwErrPHT_\" width=\"300\">\n",
        "\n"
      ]
    },
    {
      "cell_type": "code",
      "metadata": {
        "id": "gGc9vU6qM17w",
        "colab_type": "code",
        "outputId": "78a86feb-af11-4fd5-f506-ed22d5df77e6",
        "colab": {
          "base_uri": "https://localhost:8080/",
          "height": 85
        }
      },
      "source": [
        "age = input(\"How old are you?\")\n",
        "height = input(\"How tall are you?\")\n",
        "weight = input(\"How much do you weigh?\")\n",
        "\n",
        "print(f\"So you're {age} years old, {height} tall and {weight} heavy\")"
      ],
      "execution_count": 0,
      "outputs": [
        {
          "output_type": "stream",
          "text": [
            "How old are you?28\n",
            "How tall are you?5'4\"\n",
            "How much do you weigh?122Lbs\n",
            "So you're 28 years old, 5'4\" tall and 122Lbs heavy\n"
          ],
          "name": "stdout"
        }
      ]
    }
  ]
}