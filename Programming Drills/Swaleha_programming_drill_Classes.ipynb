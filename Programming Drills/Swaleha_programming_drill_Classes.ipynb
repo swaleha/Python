{
  "nbformat": 4,
  "nbformat_minor": 0,
  "metadata": {
    "colab": {
      "name": "Swaleha_programming_drill_Classes.ipynb",
      "provenance": [],
      "collapsed_sections": [],
      "include_colab_link": true
    },
    "kernelspec": {
      "name": "python3",
      "display_name": "Python 3"
    }
  },
  "cells": [
    {
      "cell_type": "markdown",
      "metadata": {
        "id": "view-in-github",
        "colab_type": "text"
      },
      "source": [
        "<a href=\"https://colab.research.google.com/github/swaleha/Python/blob/master/Swaleha_programming_drill_Classes.ipynb\" target=\"_parent\"><img src=\"https://colab.research.google.com/assets/colab-badge.svg\" alt=\"Open In Colab\"/></a>"
      ]
    },
    {
      "cell_type": "markdown",
      "metadata": {
        "id": "8noiUxzmrYXj",
        "colab_type": "text"
      },
      "source": [
        "Classes are used to define User-Defined types. That means you can define your own types such as ```List``` or ```Dictionary``` but with different methods and for different purposes. <br><br>\n",
        "As an example let us define a type called ```Point``` to define points in 2d space. <br><br>\n",
        "There are several ways we might represent points in Python:\n",
        "  - We could store the coordinates separately in two variables, x and y.\n",
        "  - We could store the coordinates as elements in a list or tuple\n",
        "  - We could create a new type to represent points as objects.\n",
        "  <br>\n",
        "<img src = \"https://drive.google.com/uc?id=1ZIOM2UXvwFJxueSjspWQbVC9OmsflQ_q\">\n",
        "\n",
        "\n",
        "####Expected Output\n",
        "<img src=\"https://drive.google.com/uc?id=1VBNEMl-E5wrnGnVrOKVHBkc_N14lzr9B\">"
      ]
    },
    {
      "cell_type": "code",
      "metadata": {
        "id": "826QNFWiq26v",
        "colab_type": "code",
        "outputId": "b4f78822-58d6-418d-ad95-72446a0996a5",
        "colab": {
          "base_uri": "https://localhost:8080/",
          "height": 85
        }
      },
      "source": [
        "class Point(object):\n",
        " '''\n",
        " Represents  a point in 2D space\n",
        " '''\n",
        " \n",
        "print(Point)\n",
        "\n",
        "print('-'*70)\n",
        "  \n",
        "blank = Point()\n",
        "\n",
        "print(blank)\n",
        "\n",
        "print('-'*70)"
      ],
      "execution_count": 0,
      "outputs": [
        {
          "output_type": "stream",
          "text": [
            "<class '__main__.Point'>\n",
            "----------------------------------------------------------------------\n",
            "<__main__.Point object at 0x7fdeee9077b8>\n",
            "----------------------------------------------------------------------\n"
          ],
          "name": "stdout"
        }
      ]
    },
    {
      "cell_type": "markdown",
      "metadata": {
        "id": "JGqaZo-nt1_8",
        "colab_type": "text"
      },
      "source": [
        "### Attributes\n",
        "\n",
        "<img src=\"https://drive.google.com/uc?id=1YIhMXlP730r8wpX7gjztG1Asy5dI1X_T\">\n",
        "\n",
        "#### Expected Output\n",
        "<img src=\"https://drive.google.com/uc?id=1ECrkgHvXNcI-31K6RjQ0ihxc5WEBv04W\">"
      ]
    },
    {
      "cell_type": "code",
      "metadata": {
        "id": "xguZiCussswo",
        "colab_type": "code",
        "outputId": "1a8c3aff-9b1a-4c21-c834-6b3bd989dde4",
        "colab": {
          "base_uri": "https://localhost:8080/",
          "height": 85
        }
      },
      "source": [
        "blank.x = 3.0\n",
        "blank.y = 4.0\n",
        "\n",
        "print(f'Value of attribute of x is {blank.x}')\n",
        "y = blank.y\n",
        "print(f'Value of attribute of y is {y}')\n",
        "\n",
        "print('-'*70)\n",
        "\n",
        "distance = ((blank.x**2) + (blank.y**2)) ** (0.5)\n",
        "print(distance)"
      ],
      "execution_count": 0,
      "outputs": [
        {
          "output_type": "stream",
          "text": [
            "Value of attribute of x is 3.0\n",
            "Value of attribute of y is 4.0\n",
            "----------------------------------------------------------------------\n",
            "5.0\n"
          ],
          "name": "stdout"
        }
      ]
    },
    {
      "cell_type": "markdown",
      "metadata": {
        "id": "07WaK7q12nml",
        "colab_type": "text"
      },
      "source": [
        "### Rectangles\n",
        "Sometimes it is obvious what the attributes of an object should be. But other times it is not so. <br>\n",
        "For eg., suppose we have to create a class to represent Rectangles. What attributes would you use to specify the location and size of a rectangle? <br>Ignore angle for simplicity, assume rectangle is either horizontal or vertical.\n",
        "\n",
        "There are two possible representations we can use :\n",
        "- You could specify one corner of the rectangle (or the center), the width, and the height\n",
        "- You could specify two opposing corners\n",
        "\n",
        "It is not obvious which representation is better. So let us use the first one.\n",
        "\n",
        "<img src=\"https://drive.google.com/uc?id=1toy-zCkN5WWVVwdZ9Zji1VbSO9yr63jI\">\n",
        "\n",
        "<br>\n",
        "\n",
        "<img src=\"https://drive.google.com/uc?id=1emAtDb60jsjfQYXMQbZsz2SkBYE0CtaJ\">\n",
        "\n",
        "#### Expected Output\n",
        "<img src=\"https://drive.google.com/uc?id=1N88as4AOJDO5O6zsfKwNU08s3a-zVm0g\">\n",
        "\n"
      ]
    },
    {
      "cell_type": "code",
      "metadata": {
        "id": "1qkp-TiptGN3",
        "colab_type": "code",
        "outputId": "ae9d4ed3-c83f-47d6-e05c-ed9e6821de8d",
        "colab": {
          "base_uri": "https://localhost:8080/",
          "height": 34
        }
      },
      "source": [
        "class Rectangle(object):\n",
        "\n",
        "  '''\n",
        "  Represents a rectangle\n",
        "\n",
        "  Attributes: Width, Height and corner\n",
        "  '''\n",
        "\n",
        "box = Rectangle()\n",
        "box.width = 100.0\n",
        "box.height = 200.0\n",
        "box.corner = Point()\n",
        "box.corner.x = 0.0\n",
        "box.corner.y = 0.0\n",
        "\n",
        "print(box.width, box.height)"
      ],
      "execution_count": 0,
      "outputs": [
        {
          "output_type": "stream",
          "text": [
            "100.0 200.0\n"
          ],
          "name": "stdout"
        }
      ]
    },
    {
      "cell_type": "markdown",
      "metadata": {
        "id": "HKhTtm4FEvIb",
        "colab_type": "text"
      },
      "source": [
        "### Methods\n",
        "Methods are functions with which you can interact with the object. <br>\n",
        "\n",
        "```__init__``` is a special method used to initialize data attributes <br>\n",
        "Python automatically calls this method each time a new object of a class is created. <br>\n",
        "\n",
        "<img src=\"https://drive.google.com/uc?id=1uuTw_Vsx96c5LQd7E2we8ioiDdKTxv12\">\n",
        "\n",
        "<br>\n",
        "\n",
        "#### Expected Output\n",
        "<img src=\"https://drive.google.com/uc?id=1xJEjoruPt59zYZrOu0wWyn_eKgk23_6X\">"
      ]
    },
    {
      "cell_type": "code",
      "metadata": {
        "id": "G5yYtL6I-noY",
        "colab_type": "code",
        "outputId": "8bd0ac56-ce03-4b8d-f6f2-732a38f6735b",
        "colab": {
          "base_uri": "https://localhost:8080/",
          "height": 51
        }
      },
      "source": [
        "class Point(object):\n",
        "  def __init__(self, x, y):\n",
        "    self.x = x\n",
        "    self.y = y\n",
        "  \n",
        "p = Point(3, 4)\n",
        "print(p.x)\n",
        "origin = Point(0, 0)\n",
        "print(origin.y)"
      ],
      "execution_count": 0,
      "outputs": [
        {
          "output_type": "stream",
          "text": [
            "3\n",
            "0\n"
          ],
          "name": "stdout"
        }
      ]
    },
    {
      "cell_type": "markdown",
      "metadata": {
        "id": "yCGh5q32SGlN",
        "colab_type": "text"
      },
      "source": [
        "<img src=\"https://drive.google.com/uc?id=1AVdWZXl0cCVao8CbQbw-rviL_4CLa4H5\">\n",
        "\n",
        "<br>\n",
        "\n",
        "#### Expected Output:\n",
        "<img src=\"https://drive.google.com/uc?id=1eozKCGTXkmX75bF1Qyuk2BzhjakehiDF\">\n",
        "\n"
      ]
    },
    {
      "cell_type": "code",
      "metadata": {
        "id": "uejNE3hXHW6J",
        "colab_type": "code",
        "outputId": "88682346-07c7-4f03-9656-249dfdf7f9e4",
        "colab": {
          "base_uri": "https://localhost:8080/",
          "height": 68
        }
      },
      "source": [
        "class Point(object):\n",
        "   def __init__(self, x, y):\n",
        "     self.x = x\n",
        "     self.y = y\n",
        "\n",
        "   def distance(self, other):\n",
        "     return (((self.x - other.x)**2 + (self.y - other.y)**2)**(0.5))\n",
        "\n",
        "p = Point(3, 4)\n",
        "origin = Point(0, 0)\n",
        "\n",
        "print(p.distance(origin))\n",
        "\n",
        "print('-'*70)\n",
        "\n",
        "print(Point.distance(p, origin))"
      ],
      "execution_count": 0,
      "outputs": [
        {
          "output_type": "stream",
          "text": [
            "5.0\n",
            "----------------------------------------------------------------------\n",
            "5.0\n"
          ],
          "name": "stdout"
        }
      ]
    },
    {
      "cell_type": "markdown",
      "metadata": {
        "id": "fDmnamWmSeDn",
        "colab_type": "text"
      },
      "source": [
        "### Printing objects\n",
        "<img src = \"https://drive.google.com/uc?id=16t6JXwAsr4yOnnhlUE5t_AvtMTzzuAwj\">\n",
        "\n",
        "#### Expected Output\n",
        "<img src = \"https://drive.google.com/uc?id=1pPwWRSlI1G3bDpRuH4ln9mJALauwUye4\">"
      ]
    },
    {
      "cell_type": "code",
      "metadata": {
        "id": "MRNQbfMLHYwk",
        "colab_type": "code",
        "outputId": "e939357b-1963-4192-f957-8edfe1fbe0c6",
        "colab": {
          "base_uri": "https://localhost:8080/",
          "height": 34
        }
      },
      "source": [
        "print(p)"
      ],
      "execution_count": 0,
      "outputs": [
        {
          "output_type": "stream",
          "text": [
            "<__main__.Point object at 0x7fdeee7b16d8>\n"
          ],
          "name": "stdout"
        }
      ]
    },
    {
      "cell_type": "markdown",
      "metadata": {
        "id": "bulvCBOpS8NR",
        "colab_type": "text"
      },
      "source": [
        "<img src=\"https://drive.google.com/uc?id=1FQjC5LAj0YSO-RyRhE3A5FmPF3jVO_Tw\">\n",
        "\n",
        "### Expected Output:\n",
        "<img src=\"https://drive.google.com/uc?id=1JC62RYWl9EvpdQaOR0UrMM2CW3mZZSh6\">"
      ]
    },
    {
      "cell_type": "code",
      "metadata": {
        "id": "KsdcDv3nKGWn",
        "colab_type": "code",
        "outputId": "7f13827d-6892-4bce-895c-98d80ea5edcd",
        "colab": {
          "base_uri": "https://localhost:8080/",
          "height": 34
        }
      },
      "source": [
        "class Point(object):\n",
        "  def __init__(self, x, y):\n",
        "    self.x = x\n",
        "    self.y = y\n",
        "\n",
        "  def distance(self, other):\n",
        "    return (((self.x - other.x)**2 + (self.y- other.y)**2)**0.5)\n",
        "\n",
        "  def __str__(self):\n",
        "    return f'<{self.x}, {self.y}>'\n",
        "\n",
        "p = Point(3, 4)\n",
        "print(p)"
      ],
      "execution_count": 0,
      "outputs": [
        {
          "output_type": "stream",
          "text": [
            "<3, 4>\n"
          ],
          "name": "stdout"
        }
      ]
    },
    {
      "cell_type": "code",
      "metadata": {
        "id": "WZReay36Q51T",
        "colab_type": "code",
        "colab": {}
      },
      "source": [
        ""
      ],
      "execution_count": 0,
      "outputs": []
    }
  ]
}