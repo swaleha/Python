{
  "nbformat": 4,
  "nbformat_minor": 0,
  "metadata": {
    "colab": {
      "name": "Swaleha_programming_drill_4.ipynb",
      "provenance": [],
      "collapsed_sections": [],
      "include_colab_link": true
    },
    "kernelspec": {
      "name": "python3",
      "display_name": "Python 3"
    }
  },
  "cells": [
    {
      "cell_type": "markdown",
      "metadata": {
        "id": "view-in-github",
        "colab_type": "text"
      },
      "source": [
        "<a href=\"https://colab.research.google.com/github/swaleha/Python/blob/master/Swaleha_programming_drill_4.ipynb\" target=\"_parent\"><img src=\"https://colab.research.google.com/assets/colab-badge.svg\" alt=\"Open In Colab\"/></a>"
      ]
    },
    {
      "cell_type": "markdown",
      "metadata": {
        "id": "BhucSdmiEH3C",
        "colab_type": "text"
      },
      "source": [
        "# Drill #15\n",
        "<img src=\"https://drive.google.com/uc?id=1Vwskl6-_ETS_WPuvCn7fegQ-Hpv1SD5B\" width=\"500\">\n",
        "\n",
        "#### Expected Output\n",
        "<img src=\"https://drive.google.com/uc?id=1bmGzGlbhhrZdA9D23EPls9KcOjXXp1uG\" width=\"250\">"
      ]
    },
    {
      "cell_type": "code",
      "metadata": {
        "id": "L0LavgHPDyn6",
        "colab_type": "code",
        "outputId": "c259fa4b-c613-4ee1-d2c9-99a6e886c4c5",
        "colab": {
          "base_uri": "https://localhost:8080/",
          "height": 52
        }
      },
      "source": [
        "def print_sum_two(x, y):\n",
        "  sum_ = x + y\n",
        "  print(f'Sum of {x} and {y} is {sum_}')\n",
        "\n",
        "def print_prod_two(x, y):\n",
        "  product_ = x * y\n",
        "  print(f'Product of {x} and {y} is {product_}')\n",
        "\n",
        "print_sum_two(2, 4)\n",
        "print_prod_two(2, 4)    "
      ],
      "execution_count": 0,
      "outputs": [
        {
          "output_type": "stream",
          "text": [
            "Sum of 2 and 4 is 6\n",
            "Product of 2 and 4 is 8\n"
          ],
          "name": "stdout"
        }
      ]
    },
    {
      "cell_type": "markdown",
      "metadata": {
        "id": "u3hl7sRKPVKQ",
        "colab_type": "text"
      },
      "source": [
        "# Drill #16\n",
        "<img src=\"https://drive.google.com/uc?id=1mSC8jIGJbuIxwNteHxtvPR4mYSWUOSN7\" width=\"500\">\n",
        "\n",
        "# Expected Output\n",
        "<img src=\"https://drive.google.com/uc?id=1y4_327qCXAinHKl4DoJGbycg4qD2Gyr5\" width=\"350\">"
      ]
    },
    {
      "cell_type": "code",
      "metadata": {
        "id": "VIxRMdz5Nvc-",
        "colab_type": "code",
        "outputId": "4b743897-7f20-4dd6-d6a0-409fd41bd7d3",
        "colab": {
          "base_uri": "https://localhost:8080/",
          "height": 124
        }
      },
      "source": [
        "print('Two numbers can be added to get', 2 + 3)\n",
        "\n",
        "print('Two  strings can be concatenated to get', '20'+'30')\n",
        "\n",
        "#print('But you can\\'t add a string and a number', '200' + 300)\n",
        "\n",
        "print('You can convert a string to a number and add it to another number like this', int('2000') + 3000)\n",
        "\n",
        "print('You can convert number to a string and concatenate it to another string like this', '₹' + str(20000))\n",
        "\n",
        "print(f'When you convert int such as {20} to a float, it becomes {float(20)}')"
      ],
      "execution_count": 0,
      "outputs": [
        {
          "output_type": "stream",
          "text": [
            "Two numbers can be added to get 5\n",
            "Two  strings can be concatenated to get 2030\n",
            "You can convert a string and add it to another number like this 5000\n",
            "You can convert number to a string and concatenate it to another string like this ₹20000\n",
            "When you convert int such as 20 to a float, it becomes 20.0\n"
          ],
          "name": "stdout"
        }
      ]
    },
    {
      "cell_type": "markdown",
      "metadata": {
        "id": "ewNxbmOYFlXV",
        "colab_type": "text"
      },
      "source": [
        "#Drill #17\n",
        "<img src=\"https://drive.google.com/uc?id=1t6dJQmKlm4df5NQ5fnsuZgoVRH1HLcC9\" width=\"500\">\n",
        "\n",
        "### Expected Output\n",
        "<img src=\"https://drive.google.com/uc?id=1riilusrqyYw5H7hw4E8cydt79n3voNQ9\" width=\"300\">"
      ]
    },
    {
      "cell_type": "code",
      "metadata": {
        "id": "niQOYJQyE0pS",
        "colab_type": "code",
        "outputId": "c1390c1f-e6cf-473f-942a-6795c38c7d4a",
        "colab": {
          "base_uri": "https://localhost:8080/",
          "height": 69
        }
      },
      "source": [
        "import math\n",
        "\n",
        "def print_length_hypotenuse_1(a, b):\n",
        "  '''\n",
        "  prints the length of the hypotenuse of a right triangle, given the other two sides\n",
        "  '''\n",
        "  print(f'Length of the hypotenuse is {math.sqrt(a**2 + b**2)}')\n",
        "\n",
        "\n",
        "def print_length_hypotenuse_2(a, b):\n",
        "\n",
        "  print(f'Length of the hypotenuse is {math.pow(math.pow(a, 2) + math.pow(b, 2), 0.5)}')\n",
        "\n",
        "\n",
        "def print_length_hypotenuse_3(a, b):\n",
        "  '''\n",
        "  Computes length of hypotenuse by finding the angle opposite of side a and then computing \n",
        "  a / sin(angle_a)\n",
        "  '''\n",
        "  tan_a = a/b ## tan of angle opposite to side a\n",
        "  angle_a = math.atan(tan_a)  ## angle opposite to side a\n",
        "  hypotenuse = a/math.sin(angle_a)\n",
        "  print(f'Length of hypotenuse is {hypotenuse}')\n",
        "\n",
        "print_length_hypotenuse_1(3, 4)\n",
        "print_length_hypotenuse_2(6, 8)\n",
        "print_length_hypotenuse_3(24, 7)\n",
        "\n",
        "  "
      ],
      "execution_count": 0,
      "outputs": [
        {
          "output_type": "stream",
          "text": [
            "Length of the hypotenuse is 5.0\n",
            "Length of the hypotenuse is 10.0\n",
            "Length of hypotenuse is 25.0\n"
          ],
          "name": "stdout"
        }
      ]
    },
    {
      "cell_type": "markdown",
      "metadata": {
        "id": "4j9pe1BJV9DE",
        "colab_type": "text"
      },
      "source": [
        "# Drill #18\n",
        "<img src=\"https://drive.google.com/uc?id=1X_-RceCPkuhOhSqmGbIZy2ZPRUMNyB_C\" width=\"500\">\n",
        "\n",
        "### Expected Output\n",
        "<img src=\"https://drive.google.com/uc?id=1cVEefhJen7DtHq7UUcYoM2QJaI45lWZB\"\n",
        "width=\"300\">\n"
      ]
    },
    {
      "cell_type": "code",
      "metadata": {
        "id": "i-uYdDhARuvF",
        "colab_type": "code",
        "outputId": "2b217c43-51a7-45a8-d53d-1f96966b984f",
        "colab": {
          "base_uri": "https://localhost:8080/",
          "height": 69
        }
      },
      "source": [
        "from math import pi \n",
        "from math import pow\n",
        "\n",
        "def print_circle_area(radius):\n",
        "  area = pi * pow(radius, 2)   ## pow raises radius to the power 2\n",
        "  print(f'Area of circle is {area}')\n",
        "\n",
        "area = print_circle_area(5)\n",
        "## This variable is different from the paramter inside function print_circle_area \n",
        "## because function variables are local\n",
        "\n",
        "print('This is the value returned by the function', area) ## Because this is a void function\n",
        "print('Type of value returned by function is', type(area))\n",
        "\n"
      ],
      "execution_count": 0,
      "outputs": [
        {
          "output_type": "stream",
          "text": [
            "Area of circle is 78.53981633974483\n",
            "This is the value returned by the function None\n",
            "Type of value returned by function is <class 'NoneType'>\n"
          ],
          "name": "stdout"
        }
      ]
    },
    {
      "cell_type": "markdown",
      "metadata": {
        "id": "8YaaOk-0eedA",
        "colab_type": "text"
      },
      "source": [
        "#Drill #19\n",
        "A function object is a value you can assign to a variable or pass as an argument. <br>\n",
        "<img src=\"https://drive.google.com/uc?id=1lxzwS1zLfv_ZRWLlnZhWxhfsPSutLHMi\" width=\"400\">\n",
        "\n",
        "\n",
        "### Expected Output:\n",
        "<img src=\"https://drive.google.com/uc?id=1Z_Jl4HnMxR_jCmA7-j8Q2wSugYdfxL3e\" width=\"100\">"
      ]
    },
    {
      "cell_type": "code",
      "metadata": {
        "id": "o5Gy_oITYZuu",
        "colab_type": "code",
        "outputId": "646f1f91-14e7-489f-ff86-30433e3b07c8",
        "colab": {
          "base_uri": "https://localhost:8080/",
          "height": 52
        }
      },
      "source": [
        "def do_twice (f):\n",
        "\n",
        "  '''\n",
        "  This function calls any function object passed to it twice\n",
        "  '''\n",
        "  f()\n",
        "  f()\n",
        "\n",
        "def print_spam():\n",
        "  print('spam')\n",
        "\n",
        "do_twice(print_spam)"
      ],
      "execution_count": 0,
      "outputs": [
        {
          "output_type": "stream",
          "text": [
            "spam\n",
            "spam\n"
          ],
          "name": "stdout"
        }
      ]
    }
  ]
}