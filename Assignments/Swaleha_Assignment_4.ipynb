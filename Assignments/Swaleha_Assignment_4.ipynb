{
  "nbformat": 4,
  "nbformat_minor": 0,
  "metadata": {
    "colab": {
      "name": "Swaleha_Assignment4.ipynb",
      "provenance": [],
      "collapsed_sections": [],
      "authorship_tag": "ABX9TyMmo6r5Odhvy0njXJtfSf7g",
      "include_colab_link": true
    },
    "kernelspec": {
      "name": "python3",
      "display_name": "Python 3"
    }
  },
  "cells": [
    {
      "cell_type": "markdown",
      "metadata": {
        "id": "view-in-github",
        "colab_type": "text"
      },
      "source": [
        "<a href=\"https://colab.research.google.com/github/swaleha/Python/blob/master/Swaleha_Assignment4.ipynb\" target=\"_parent\"><img src=\"https://colab.research.google.com/assets/colab-badge.svg\" alt=\"Open In Colab\"/></a>"
      ]
    },
    {
      "cell_type": "code",
      "metadata": {
        "id": "UyFxRUc3Zrl1",
        "colab_type": "code",
        "outputId": "388148a9-0cb6-4a2f-f747-a59cf0f5254b",
        "colab": {
          "base_uri": "https://localhost:8080/",
          "height": 85
        }
      },
      "source": [
        "portion_down_payment = 0.25\n",
        "current_savings = 0.0\n",
        "r = 0.04\n",
        "\n",
        "# taking the user input\n",
        "annual_salary = float(input(\"Enter your annual salary: \"))\n",
        "portion_saved = float(input(\"Enter the percent of salary you want to save, as a decimal: \"))\n",
        "total_cost = float(input(\"Enter the total cost of your dream house: \"))\n",
        "\n",
        "monthly_salary = annual_salary / 12\n",
        "down_payment = portion_down_payment * total_cost\n",
        "\n",
        "\n",
        "months = 0\n",
        "\n",
        "# calculate the current savings and displaying the number of months required to save money for down payment\n",
        "while(current_savings < down_payment):\n",
        "\n",
        "    savings = (current_savings * r / 12) + (monthly_salary * portion_saved)\n",
        "    current_savings = current_savings + savings\n",
        "    months = months + 1\n",
        "\n",
        "print(\"Number of months: \", months)\n"
      ],
      "execution_count": 0,
      "outputs": [
        {
          "output_type": "stream",
          "text": [
            "Enter your annual salary: 80000\n",
            "Enter the percent of salary you want to save, as a decimal: .15\n",
            "Enter the total cost of your dream house: 500000\n",
            "Number of months:  105\n"
          ],
          "name": "stdout"
        }
      ]
    },
    {
      "cell_type": "code",
      "metadata": {
        "id": "eMYH63b6OevG",
        "colab_type": "code",
        "outputId": "8e77d95d-f1c2-403f-f5af-e372596ca27c",
        "colab": {
          "base_uri": "https://localhost:8080/",
          "height": 102
        }
      },
      "source": [
        "portion_down_payment = 0.25\n",
        "current_savings = 0.0\n",
        "r = 0.04\n",
        "\n",
        "# taking the user input\n",
        "annual_salary = float(input(\"Enter your annual salary: \"))\n",
        "portion_saved = float(input(\"Enter the percent of salary you want to save, as a decimal: \"))\n",
        "total_cost = float(input(\"Enter the total cost of your dream house: \"))\n",
        "semi_annual_raise = float(input(\"Enter the semiannual raise, as a decimal: \"))\n",
        "\n",
        "monthly_salary = annual_salary / 12\n",
        "down_payment = portion_down_payment * total_cost\n",
        "\n",
        "\n",
        "months = 0\n",
        "\n",
        "# calculate the current savings and displaying the number of months required to save money for down payment\n",
        "while(current_savings < down_payment):\n",
        "\n",
        "    savings = (current_savings * r / 12) + (monthly_salary * portion_saved)\n",
        "    current_savings = current_savings + savings\n",
        "    months = months + 1\n",
        "    \n",
        "    if(months % 6 == 0):\n",
        "      monthly_salary += monthly_salary * semi_annual_raise\n",
        " \n",
        "print(\"Number of months: \", months)\n"
      ],
      "execution_count": 0,
      "outputs": [
        {
          "output_type": "stream",
          "text": [
            "Enter your annual salary: 75000\n",
            "Enter the percent of salary you want to save, as a decimal: 0.05\n",
            "Enter the total cost of your dream house: 1500000\n",
            "Enter the semiannual raise, as a decimal: 0.05\n",
            "Number of months:  261\n"
          ],
          "name": "stdout"
        }
      ]
    },
    {
      "cell_type": "code",
      "metadata": {
        "id": "CaDhGXNXWRXJ",
        "colab_type": "code",
        "outputId": "b43d4bdd-f02e-457d-a5dd-cf613b26d990",
        "colab": {
          "base_uri": "https://localhost:8080/",
          "height": 68
        }
      },
      "source": [
        "semi_annual_raise = 0.07\n",
        "annual_return = 0.04\n",
        "portion_saved = 0.0\n",
        "total_cost = 1000000.0\n",
        "current_savings = 0.0\n",
        "down_payment = portion_down_payment * total_cost\n",
        "months = 36\n",
        "starting_salary = float(input(\"Enter the starting salary: \"))\n",
        "low = 0\n",
        "high = 10000\n",
        "res = 0\n",
        "no_of_guess = 0\n",
        "\n",
        "while((current_savings - down_payment) <= 100):\n",
        "  current_savings = current_savings + (current_savings * annual_return / 12) + ((starting_salary / 12) * portion_saved)\n",
        "  no_of_guess +=1\n",
        "\n",
        "  if(current_savings < down_payment):\n",
        "      low = res\n",
        "  else:\n",
        "      high = res\n",
        "\n",
        "  res = (low + high)/2\n",
        "  portion_saved = res/10000\n",
        "  portion_saved = round(portion_saved, 2)\n",
        "\n",
        "  if(no_of_guess > 100):\n",
        "        print(\"It is not possible to pay the down payment in three years.\")\n",
        "        break\n",
        "        \n",
        "  for i in range(months + 1):\n",
        "      if (i % 6 == 0 and i != 0):\n",
        "          starting_salary += starting_salary * semi_annual_raise\n",
        "\n",
        "print(\"Best savings rate: \", portion_saved)  \n",
        "print(\"Steps in bisection search: \", no_of_guess)\n"
      ],
      "execution_count": 0,
      "outputs": [
        {
          "output_type": "stream",
          "text": [
            "Enter the starting salary: 300000\n",
            "Best savings rate:  0.91\n",
            "Steps in bisection search:  5\n"
          ],
          "name": "stdout"
        }
      ]
    },
    {
      "cell_type": "code",
      "metadata": {
        "id": "H8MF7hbhk7Ps",
        "colab_type": "code",
        "colab": {}
      },
      "source": [
        "\n"
      ],
      "execution_count": 0,
      "outputs": []
    }
  ]
}
