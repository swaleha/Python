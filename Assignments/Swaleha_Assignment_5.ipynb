{
  "nbformat": 4,
  "nbformat_minor": 0,
  "metadata": {
    "colab": {
      "name": "Swaleha_Assignment 5.ipynb",
      "provenance": [],
      "collapsed_sections": [],
      "include_colab_link": true
    },
    "kernelspec": {
      "name": "python3",
      "display_name": "Python 3"
    }
  },
  "cells": [
    {
      "cell_type": "markdown",
      "metadata": {
        "id": "view-in-github",
        "colab_type": "text"
      },
      "source": [
        "<a href=\"https://colab.research.google.com/github/swaleha/Python/blob/master/Swaleha_Assignment_5.ipynb\" target=\"_parent\"><img src=\"https://colab.research.google.com/assets/colab-badge.svg\" alt=\"Open In Colab\"/></a>"
      ]
    },
    {
      "cell_type": "markdown",
      "metadata": {
        "id": "OEF5yWrV_h41",
        "colab_type": "text"
      },
      "source": [
        "Use recursion to solve the problems."
      ]
    },
    {
      "cell_type": "markdown",
      "metadata": {
        "id": "Dk2q7qJt_lYY",
        "colab_type": "text"
      },
      "source": [
        "# Q. Natural Sum\n",
        "Write a function that takes an arguemnt n and computes the sum $1 + 2 + 3 + \\ldots +n$ recursively."
      ]
    },
    {
      "cell_type": "code",
      "metadata": {
        "id": "Ky77jttY_c9A",
        "colab_type": "code",
        "colab": {}
      },
      "source": [
        "def natural_sum(n):\n",
        "  if n == 1:\n",
        "    return 1\n",
        "  else:\n",
        "    sum_of_natural = n + natural_sum(n - 1)\n",
        "    return sum_of_natural"
      ],
      "execution_count": 0,
      "outputs": []
    },
    {
      "cell_type": "code",
      "metadata": {
        "id": "OFPqTvHgAFGF",
        "colab_type": "code",
        "outputId": "74c5060f-4a02-4221-f97a-bc76cc5aa265",
        "colab": {
          "base_uri": "https://localhost:8080/",
          "height": 34
        }
      },
      "source": [
        "\"\"\"Test Cases\"\"\"\n",
        "assert natural_sum(1) == 1\n",
        "assert natural_sum(10) == 55\n",
        "print(f\"Test cases passed! {chr(0x1F44D)}\")"
      ],
      "execution_count": 0,
      "outputs": [
        {
          "output_type": "stream",
          "text": [
            "Test cases passed! 👍\n"
          ],
          "name": "stdout"
        }
      ]
    },
    {
      "cell_type": "markdown",
      "metadata": {
        "id": "AdmSPaq-_5HJ",
        "colab_type": "text"
      },
      "source": [
        "#Q. Recursively Min\n",
        "Write a recursive function that finds and returns the minimum element in an array.\n"
      ]
    },
    {
      "cell_type": "code",
      "metadata": {
        "id": "VFHBLosvABK7",
        "colab_type": "code",
        "colab": {}
      },
      "source": [
        "def findmin(arr):\n",
        "  if(len(arr) == 1):\n",
        "    return arr[0] \n",
        "  else:\n",
        "    min = findmin(arr[1:])\n",
        "    if(arr[0] < min):\n",
        "      return arr[0]\n",
        "    else:\n",
        "      return min"
      ],
      "execution_count": 0,
      "outputs": []
    },
    {
      "cell_type": "code",
      "metadata": {
        "id": "8spUYp8oAc9b",
        "colab_type": "code",
        "colab": {}
      },
      "source": [
        "\"\"\"Test Cases\"\"\"\n",
        "assert findmin([2, 3, 2, 4, 7, 8, 9]) == 2\n",
        "assert findmin([1]) == 1\n",
        "print(f\"Test cases passed! {chr(0x1F44D)}\")"
      ],
      "execution_count": 0,
      "outputs": []
    },
    {
      "cell_type": "markdown",
      "metadata": {
        "id": "wf1-NubMEUkW",
        "colab_type": "text"
      },
      "source": [
        "# Q.Recursive Palindrome\n",
        "Write a recursive function that takes a string and returns whether the string is a palindrome or not. (Function should return a bool ```True``` or ```False```)"
      ]
    },
    {
      "cell_type": "code",
      "metadata": {
        "id": "vSfaF9sRBPC-",
        "colab_type": "code",
        "colab": {}
      },
      "source": [
        "def isPalindrome(s):\n",
        "  if ' ' in s:\n",
        "     s = s.split(' ')\n",
        "     s = \"\".join(s)\n",
        "     s = s.lower()\n",
        "     print(s)\n",
        "\n",
        "  if(len(s) <= 2):\n",
        "    if(s[0] == s[-1]):\n",
        "      return True\n",
        "  else:\n",
        "    if(s[0] == s[-1] and isPalindrome(s[1: -1])):\n",
        "       return True\n",
        "    else:\n",
        "      return False"
      ],
      "execution_count": 0,
      "outputs": []
    },
    {
      "cell_type": "code",
      "metadata": {
        "id": "xiiG88UfBPad",
        "colab_type": "code",
        "outputId": "19a69fc1-2491-49da-9908-c5edc9f82a01",
        "colab": {
          "base_uri": "https://localhost:8080/",
          "height": 34
        }
      },
      "source": [
        "\"\"\"Test Cases\"\"\"\n",
        "assert isPalindrome(\"abbaa\") == False\n",
        "assert isPalindrome(\"Was it A Rat I saw\") == True"
      ],
      "execution_count": 0,
      "outputs": [
        {
          "output_type": "stream",
          "text": [
            "wasitaratisaw\n"
          ],
          "name": "stdout"
        }
      ]
    },
    {
      "cell_type": "markdown",
      "metadata": {
        "id": "JadE5TmTGNe9",
        "colab_type": "text"
      },
      "source": [
        "#Q. Change Pi\n",
        "Write a function that takes a string and replaces all occurences of pi with 3.14. This should be done using recursion instead of loops (iteration). "
      ]
    },
    {
      "cell_type": "code",
      "metadata": {
        "id": "dXU0fjjBF2ve",
        "colab_type": "code",
        "colab": {}
      },
      "source": [
        "def changePi(s):\n",
        "  if(len(s) <= 1):\n",
        "    return s\n",
        "  else:\n",
        "    if(s[0:2] == 'pi'):\n",
        "       return \"3.14\" + changePi(s[2:])\n",
        "    else:\n",
        "      return s[0] + changePi(s[1:])\n"
      ],
      "execution_count": 0,
      "outputs": []
    },
    {
      "cell_type": "code",
      "metadata": {
        "id": "7DRvjjklGmpz",
        "colab_type": "code",
        "colab": {}
      },
      "source": [
        "\"\"\"Test Cases\"\"\"\n",
        "assert changePi(\"pixyzpi\") == \"3.14xyz3.14\"\n",
        "assert changePi(\"pixypiabpi\") == \"3.14xy3.14ab3.14\""
      ],
      "execution_count": 0,
      "outputs": []
    },
    {
      "cell_type": "markdown",
      "metadata": {
        "id": "GLwJxlAcH9WM",
        "colab_type": "text"
      },
      "source": [
        "#Q. "
      ]
    }
  ]
}