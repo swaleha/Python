{
  "nbformat": 4,
  "nbformat_minor": 0,
  "metadata": {
    "colab": {
      "name": "Swaleha_Assignment 2.ipynb",
      "provenance": [],
      "collapsed_sections": [],
      "include_colab_link": true
    },
    "kernelspec": {
      "name": "python3",
      "display_name": "Python 3"
    }
  },
  "cells": [
    {
      "cell_type": "markdown",
      "metadata": {
        "id": "view-in-github",
        "colab_type": "text"
      },
      "source": [
        "<a href=\"https://colab.research.google.com/github/swaleha/Python/blob/master/Swaleha_Assignment_2.ipynb\" target=\"_parent\"><img src=\"https://colab.research.google.com/assets/colab-badge.svg\" alt=\"Open In Colab\"/></a>"
      ]
    },
    {
      "cell_type": "markdown",
      "metadata": {
        "id": "85Po9342eFZZ",
        "colab_type": "text"
      },
      "source": [
        "##Q. Min Min Min\n",
        "Write a program that does the following\n",
        "- Takes 3 numbers as input from the user\n",
        "- Finds minimum of the 3 numbers and prints it"
      ]
    },
    {
      "cell_type": "code",
      "metadata": {
        "id": "wPjz3AvIeYPG",
        "colab_type": "code",
        "outputId": "fb25c0a0-9fc9-442c-b816-8b258be38f41",
        "colab": {
          "base_uri": "https://localhost:8080/",
          "height": 87
        }
      },
      "source": [
        "def min_number(n1, n2, n3):\n",
        "'''\n",
        "This function calculates minimum of the three numbers\n",
        "'''\n",
        "\n",
        "  if(n1 <= n2):\n",
        "    if(n1 < n3):\n",
        "      return n1\n",
        "    else:\n",
        "      return n3\n",
        "  elif(n2 <= n1):\n",
        "    if(n2 < n3):\n",
        "      return n2\n",
        "    else:\n",
        "      return n3\n",
        "         \n",
        "num1 = float(input(\"Enter the first number: \"))\n",
        "num2 = float(input(\"Enter the second number: \"))\n",
        "num3 = float(input(\"Enter the third number: \"))\n",
        "\n",
        "print(\"Minimum of three numbers is\", min_number(num1, num2 , num3))"
      ],
      "execution_count": 0,
      "outputs": [
        {
          "output_type": "stream",
          "text": [
            "Enter the first number: 3\n",
            "Enter the second number: -3\n",
            "Enter the third number: 0\n",
            "Minimum of three numbers is -3.0\n"
          ],
          "name": "stdout"
        }
      ]
    },
    {
      "cell_type": "markdown",
      "metadata": {
        "id": "7GZnA2DVZnfg",
        "colab_type": "text"
      },
      "source": [
        "\n",
        "\n",
        "\n",
        "\n",
        "\n",
        "#Q. Proving Fermat\n",
        "Fermat's last theorem says that there are no positive integers $a, b, c$ such that \n",
        "$$\n",
        "a^n + b^n = c^n\n",
        "$$\n",
        "for any values of $n > 2$\n",
        "- Write a function named ```check_fermat``` that takes four parameters - ```a, b, c``` and ```n``` and checks to see if fermat's theorem holds. If ```n > 2``` and it turns out to be true that \n",
        "$$\n",
        "a^n + b^n = c^n\n",
        "$$ the function should print, \"Oh No! Fermat was wrong!\". Otherwise the function should print, \"No that doesn't work\"\n",
        "- Write a program that takes four inputs from the users - ```a, b, c``` and ```n``` and converts them to integers and uses check_fermat to check whether they violate Fermat's theorem."
      ]
    },
    {
      "cell_type": "code",
      "metadata": {
        "id": "5ca0eTDbZZG4",
        "colab_type": "code",
        "outputId": "d11789c3-44d5-47ff-bbc0-96193b03b6dc",
        "colab": {
          "base_uri": "https://localhost:8080/",
          "height": 119
        }
      },
      "source": [
        "def check_fermat(a, b ,c, n):\n",
        "\n",
        " if(n > 2):\n",
        "  if ((math.pow(a, n) + math. pow(b, n)) == math.pow(c, n)):\n",
        "    print(\"\\nOh No! Fermat was wrong!\")\n",
        "  else:\n",
        "     print(\"\\nNo that doesn't work\") \n",
        " else:\n",
        "    print(\"The value of n should be greater than 2 to check Fermat's theorem\")   \n",
        "\n",
        "import math\n",
        "num1 = int(input(\"Enter the value of a: \")) \n",
        "num2 = int(input(\"Enter the value of b: \"))\n",
        "num3 = int(input(\"Enter the value of c: \"))\n",
        "num4 = int(input(\"Enter the value of n: \"))\n",
        "\n",
        "check_fermat(num1, num2, num3, num4)\n"
      ],
      "execution_count": 0,
      "outputs": [
        {
          "output_type": "stream",
          "text": [
            "Enter the value of a: 8\n",
            "Enter the value of b: 9\n",
            "Enter the value of c: 10\n",
            "Enter the value of n: 5\n",
            "\n",
            "No that doesn't work\n"
          ],
          "name": "stdout"
        }
      ]
    },
    {
      "cell_type": "markdown",
      "metadata": {
        "id": "htwKREd7bD_g",
        "colab_type": "text"
      },
      "source": [
        " #Q. Potential triangularity\n",
        "If you are given three sticks, you may or may not be able to arrange them in a triangle. For example,if one of the sticks is 12inches long and the other two are  1inch long, it is clear that you will not be able to get the short sticks to meet in the middle. For any three lengths, there is a simple test to see if it is possible to form a triangle. \n",
        "\n",
        "_If any of the three lengths is greater than the sum of the other two, then you cannot form a triangle. Otherwise, you can. (If the sum of two lengths equals the third, they form what is called a “degenerate” triangle or a straight line segment.)_\n",
        "\n",
        "- Write a function named ```is_triangle``` that takes three integers as arguments, and that prints either \"Yes\" or \"No\", depending on whether you can or cannot form a triangle using sticks of given lengths.\n",
        "- Write a function that prompts the user to input three stick lengths, converts them to integers, and uses is_triangle to check whether sitcks with the given lengths can form a triangle. "
      ]
    },
    {
      "cell_type": "code",
      "metadata": {
        "id": "QI1ZvUzLcWSS",
        "colab_type": "code",
        "outputId": "4433dddb-6073-4527-f534-424ba8cf3fe9",
        "colab": {
          "base_uri": "https://localhost:8080/",
          "height": 102
        }
      },
      "source": [
        "def is_triangle(s1, s2, s3):\n",
        "  if((s1 < (s2 + s3)) or (s2 < (s1 + s2)) or (s3 < (s1 + s2))):\n",
        "    print(\"\\nYes\")\n",
        "  else:\n",
        "    print(\"\\nNo\")\n",
        "\n",
        "s1 = int(input(\"Enter the length of 1st side of a triangle: \"))\n",
        "s2 = int(input(\"Enter the length of 2nd side of a triangle: \"))\n",
        "s3 = int(input(\"Enter the length of 3rd side of a triangle: \"))\n",
        "\n",
        "is_triangle(s1, s2, s3)"
      ],
      "execution_count": 0,
      "outputs": [
        {
          "output_type": "stream",
          "text": [
            "Enter the length of 1st side of a triangle: 4\n",
            "Enter the length of 2nd side of a triangle: 6\n",
            "Enter the length of 3rd side of a triangle: 7\n",
            "\n",
            "Yes\n"
          ],
          "name": "stdout"
        }
      ]
    },
    {
      "cell_type": "markdown",
      "metadata": {
        "id": "KOR45AN7hL4e",
        "colab_type": "text"
      },
      "source": [
        "#Q. Basic Calculator\n",
        "- Write a function that takes three arguments - ```op1, op2``` and ```operator``` and prints the result ```op1 operator op2```. <br>\n",
        "Eg., for ```op1 = 1```, ```op2 = 2``` and ```operator = '+' ```, the function prints ```3``` as the result (```1 + 2```). <br>\n",
        "Assume that the operator can be one of the following : ```+, -, *, /, %``` <br>\n",
        "- Write a program that takes 3 inputs from the user - two numbers and an operator and uses the calculator function to print the result."
      ]
    },
    {
      "cell_type": "code",
      "metadata": {
        "id": "65ifLibhhM3c",
        "colab_type": "code",
        "outputId": "ec1a545f-5be7-4316-8e14-58ab51f4344c",
        "colab": {
          "base_uri": "https://localhost:8080/",
          "height": 318
        }
      },
      "source": [
        "def calculator(op1, op2, operator):\n",
        "  if(operator == '+'):\n",
        "    print(f'({op1} + {op2})')\n",
        "  elif(operator == '-'):\n",
        "    print(f'({op1} - {op2})')\n",
        "  elif(operator == '*'):\n",
        "    print(f'({op1} * {op2})')\n",
        "  elif(operator == '/'):\n",
        "    print(f'({op1} / {op2})') \n",
        "  elif(operator == '%'):\n",
        "    print(f'({op1} % {op2})')  \n",
        "  else:\n",
        "    print(\"Please choose the correct operator.\")\n",
        "\n",
        "op1 = float(input(\"Enter the first number: \"))    \n",
        "op2 = float(input(\"Enter the second number: \"))\n",
        "print(\"\\nBasic Calculator:\")\n",
        "print(\"\"\"\\n 1. Addition (+)\n",
        "\\n 2. Subtraction (-)\n",
        "\\n 3. Multiplication (*)\n",
        "\\n 4. Division (/)\n",
        "\\n 5. Modulo operation (%)\n",
        "\"\"\")\n",
        "operator = input(\"Choose the operator (eg. +):\")\n",
        "\n",
        "calculator(op1, op2, operator)"
      ],
      "execution_count": 0,
      "outputs": [
        {
          "output_type": "stream",
          "text": [
            "Enter the first number: 7\n",
            "Enter the second number: 9\n",
            "\n",
            "Basic Calculator:\n",
            "\n",
            " 1. Addition (+)\n",
            "\n",
            " 2. Subtraction (-)\n",
            "\n",
            " 3. Multiplication (*)\n",
            "\n",
            " 4. Division (/)\n",
            "\n",
            " 5. Modulo operation (%)\n",
            "\n",
            "Choose the operator (eg. +):*\n",
            "(7.0 * 9.0)\n"
          ],
          "name": "stdout"
        }
      ]
    }
  ]
}