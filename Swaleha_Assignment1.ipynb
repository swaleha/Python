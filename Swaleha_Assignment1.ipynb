{
  "nbformat": 4,
  "nbformat_minor": 0,
  "metadata": {
    "colab": {
      "name": "Swaleha_Assignment1.ipynb",
      "provenance": [],
      "collapsed_sections": [],
      "include_colab_link": true
    },
    "kernelspec": {
      "name": "python3",
      "display_name": "Python 3"
    }
  },
  "cells": [
    {
      "cell_type": "markdown",
      "metadata": {
        "id": "view-in-github",
        "colab_type": "text"
      },
      "source": [
        "<a href=\"https://colab.research.google.com/github/swaleha/Python/blob/master/Swaleha_Assignment1.ipynb\" target=\"_parent\"><img src=\"https://colab.research.google.com/assets/colab-badge.svg\" alt=\"Open In Colab\"/></a>"
      ]
    },
    {
      "cell_type": "markdown",
      "metadata": {
        "id": "xgPa5ZQFiQar",
        "colab_type": "text"
      },
      "source": [
        "#Q. Interest Compounded\n",
        "The Formula for computing compound interest is as follows - \n",
        "\\begin{equation}\n",
        "A = P(1 + \\frac{r}{n})^{nt}\n",
        "\\end{equation}\n",
        "Write a function that takes as inputs $P, r, n, t$ and prints the total amount that has to be paid."
      ]
    },
    {
      "cell_type": "code",
      "metadata": {
        "colab_type": "code",
        "id": "-nUYyV1NiuC6",
        "colab": {}
      },
      "source": [
        "def compound_interest(p, r, n, t):\n",
        "  amount = p * math.pow(1 + (r/n), n * t)\n",
        "  print(\"The new prinicpal sum i.e amount to be paid is\", amount)\n",
        "  total_ci = amount - p\n",
        "  print(\"The total compound interest generated is\", total_ci)"
      ],
      "execution_count": 0,
      "outputs": []
    },
    {
      "cell_type": "code",
      "metadata": {
        "id": "Z4CjrFloivnh",
        "colab_type": "code",
        "outputId": "78896311-a925-4c8e-d84e-d625c43395e6",
        "colab": {
          "base_uri": "https://localhost:8080/",
          "height": 52
        }
      },
      "source": [
        "import math\n",
        "compound_interest(2000, 0.065, 10, 3)"
      ],
      "execution_count": 0,
      "outputs": [
        {
          "output_type": "stream",
          "text": [
            "The new prinicpal sum i.e amount to be paid is 2429.088692840733\n",
            "The total compound interest generated is 429.0886928407331\n"
          ],
          "name": "stdout"
        }
      ]
    },
    {
      "cell_type": "markdown",
      "metadata": {
        "id": "1ZnXZJJQjK-q",
        "colab_type": "text"
      },
      "source": [
        "#Q. User power\n",
        "Write a program that takes two inputs from the user $a$ and $b$ and prints the value $a^b$"
      ]
    },
    {
      "cell_type": "code",
      "metadata": {
        "id": "4gSGzXICjY4X",
        "colab_type": "code",
        "outputId": "87c91e13-d510-4445-abfd-9eed64e4eb02",
        "colab": {
          "base_uri": "https://localhost:8080/",
          "height": 70
        }
      },
      "source": [
        " a = int(input('Enter the value of \\'a\\':'))\n",
        " b = int(input('Enter the value of \\'b\\':'))\n",
        "\n",
        " print('The value of \\'a\\' raise to \\'b\\' is',a**b)"
      ],
      "execution_count": 0,
      "outputs": [
        {
          "output_type": "stream",
          "text": [
            "Enter the value of 'a':3\n",
            "Enter the value of 'b':5\n",
            "The value of 'a' raise to 'b' is 243\n"
          ],
          "name": "stdout"
        }
      ]
    },
    {
      "cell_type": "markdown",
      "metadata": {
        "id": "ktdZ7wmG_CQc",
        "colab_type": "text"
      },
      "source": [
        "#Q. GCD and LCM\n",
        "Write a program that takes two inputs from the user $a$ and $b$ and prints their gcd and lcm. (Use functions from math library)\n"
      ]
    },
    {
      "cell_type": "code",
      "metadata": {
        "id": "ANzcJahd_vcL",
        "colab_type": "code",
        "outputId": "3f8b1b81-19b1-4dfc-d707-ebd1e3cefb35",
        "colab": {
          "base_uri": "https://localhost:8080/",
          "height": 86
        }
      },
      "source": [
        "from math import gcd\n",
        "\n",
        "a = int(input(\"Enter the value of a: \"))\n",
        "b = int(input(\"Enter the value of b: \"))\n",
        "\n",
        "print(f'The GCD of two numbers {a} and {b} is', gcd(a, b))\n",
        "print(f'The LCM of two numbers {a} and {b} is', a * b / gcd(a, b)) \n",
        "\n"
      ],
      "execution_count": 0,
      "outputs": [
        {
          "output_type": "stream",
          "text": [
            "Enter the value of a: 24\n",
            "Enter the value of b: 60\n",
            "The GCD of two numbers 24 and 60 is 12\n",
            "The LCM of two numbers 24 and 60 is 120.0\n"
          ],
          "name": "stdout"
        }
      ]
    },
    {
      "cell_type": "markdown",
      "metadata": {
        "id": "bVDRuUDqNVRb",
        "colab_type": "text"
      },
      "source": [
        "##Q. Right Justify\n",
        "Python has a function called ```len``` that returns the _length of a string_. <br>\n",
        "Write a function that takes a string ```s``` as a parameter and prints the string with enough leading spaces so that the last letter of the string is in column 70 of the display. <br>\n",
        "```\n",
        "right_justify('Hari')\n",
        "```\n",
        "Expected Output: <br>\n",
        "<img src=\"https://drive.google.com/uc?id=1DaifS8HV5PE7HbUvSbdj_N2Q-t88Wr8Q\" width=\"400\">\n",
        "\n",
        "\n"
      ]
    },
    {
      "cell_type": "code",
      "metadata": {
        "id": "ZXLMeoiuZhL9",
        "colab_type": "code",
        "colab": {}
      },
      "source": [
        "def right_justify(s):\n",
        " print(\" \" * (70 - len(s)) + s)\n"
      ],
      "execution_count": 0,
      "outputs": []
    },
    {
      "cell_type": "code",
      "metadata": {
        "id": "5GGu7KB7i27E",
        "colab_type": "code",
        "outputId": "99c7953f-ace8-4404-e9f9-4936b370ae21",
        "colab": {
          "base_uri": "https://localhost:8080/",
          "height": 52
        }
      },
      "source": [
        "s = input(\"Enter any input string: \")\n",
        "right_justify(s)"
      ],
      "execution_count": 0,
      "outputs": [
        {
          "output_type": "stream",
          "text": [
            "Enter any input string: Hari\n",
            "                                                                  Hari\n"
          ],
          "name": "stdout"
        }
      ]
    },
    {
      "cell_type": "markdown",
      "metadata": {
        "id": "KsC-3mHZa8Zh",
        "colab_type": "text"
      },
      "source": [
        "#Q. Do Anything Twice\n",
        "Refer to Drill 19(programming drill - 4) for this question. <br>\n",
        "- Modify ```do_twice``` so that it takes two arguments - a function object and a value, and calls the function twice, passing value as argument.\n",
        "- Define a new function ```do_four``` that takes a function object and a value and calls the function four times. There should only be two statements in the body of the function.\n"
      ]
    },
    {
      "cell_type": "code",
      "metadata": {
        "id": "3NMeZgbfZt6E",
        "colab_type": "code",
        "colab": {}
      },
      "source": [
        "def do_twice(f, v):\n",
        "  \"\"\"\n",
        "  This function calls any function object that is passed to it twice passing v as the argument\n",
        "\n",
        "  Input:\n",
        "    f: function object\n",
        "    v: value\n",
        "  \"\"\"\n",
        "  f(v * 2)\n",
        "\n",
        "def print_twice(v):\n",
        "  print(v)\n",
        "  "
      ],
      "execution_count": 0,
      "outputs": []
    },
    {
      "cell_type": "code",
      "metadata": {
        "id": "TzNdGRxSdi4V",
        "colab_type": "code",
        "colab": {}
      },
      "source": [
        " def do_four(f, v):\n",
        "  \"\"\"\n",
        "  This function calls any function object that is passed to it four times passing v as the argument\n",
        "\n",
        "  Input:\n",
        "    f: function object\n",
        "    v: value\n",
        "  \"\"\"\n",
        "  f(v * 4)\n",
        "\n",
        "def print_fourTimes(v):\n",
        "  print(v)\n",
        "   \n",
        "\n"
      ],
      "execution_count": 0,
      "outputs": []
    },
    {
      "cell_type": "code",
      "metadata": {
        "id": "hbtZYLPqhTJh",
        "colab_type": "code",
        "outputId": "323ee2b6-e80f-4c31-b21f-fb9bff602996",
        "colab": {
          "base_uri": "https://localhost:8080/",
          "height": 212
        }
      },
      "source": [
        "import string\n",
        "v1 = input(\"Enter the value of v:\")\n",
        "do_twice(print_twice,v1+\"\\n\")  \n",
        "\n",
        "v2 = input(\"Enter the value of v:\") \n",
        "do_four(print_fourTimes,v2+\"\\n\")"
      ],
      "execution_count": 0,
      "outputs": [
        {
          "output_type": "stream",
          "text": [
            "ERROR! Session/line number was not unique in database. History logging moved to new session 116\n",
            "Enter the value of v:hello\n",
            "hello\n",
            "hello\n",
            "\n",
            "Enter the value of v:world!\n",
            "world!\n",
            "world!\n",
            "world!\n",
            "world!\n",
            "\n"
          ],
          "name": "stdout"
        }
      ]
    },
    {
      "cell_type": "markdown",
      "metadata": {
        "id": "dnK2S6Y6MUnL",
        "colab_type": "text"
      },
      "source": [
        "#Q. Grid art\n",
        "Write a function that draws a grid like the following: <br>\n",
        "<img src=\"https://drive.google.com/uc?id=1a4-dj7bd4f8aYATscJiMgAkZi087n8Ie\" width=\"200\">"
      ]
    },
    {
      "cell_type": "code",
      "metadata": {
        "id": "muJBmDEdMML0",
        "colab_type": "code",
        "outputId": "2bec06f8-c25a-4bfa-c193-6e355ad73b27",
        "colab": {
          "base_uri": "https://localhost:8080/",
          "height": 212
        }
      },
      "source": [
        "def draw_grid_art(f):  # To draw a grid\n",
        " f(res * 2)\n",
        " f(rows)\n",
        "\n",
        "def data_grid(r):\n",
        "  print(r, end='')\n",
        "   \n",
        "rows = ('+ ' + '- '*4)*2 + '+' + '\\n'\n",
        "cols = (('| ' + '  '*4)*3 + '\\n')*4 \n",
        "res = rows + cols \n",
        "\n",
        "draw_grid_art(data_grid)"
      ],
      "execution_count": 0,
      "outputs": [
        {
          "output_type": "stream",
          "text": [
            "+ - - - - + - - - - +\n",
            "|         |         |         \n",
            "|         |         |         \n",
            "|         |         |         \n",
            "|         |         |         \n",
            "+ - - - - + - - - - +\n",
            "|         |         |         \n",
            "|         |         |         \n",
            "|         |         |         \n",
            "|         |         |         \n",
            "+ - - - - + - - - - +\n"
          ],
          "name": "stdout"
        }
      ]
    },
    {
      "cell_type": "markdown",
      "metadata": {
        "id": "W2Gq1-znmCWh",
        "colab_type": "text"
      },
      "source": [
        "Write a function that prints a similar grid but with four rows and four columns."
      ]
    },
    {
      "cell_type": "code",
      "metadata": {
        "id": "DFyd554ljoif",
        "colab_type": "code",
        "outputId": "ad7e8796-52a5-4dd2-985d-57885bb11a8e",
        "colab": {
          "base_uri": "https://localhost:8080/",
          "height": 390
        }
      },
      "source": [
        "def draw_grid_art_four(f):\n",
        " f(res * 4)\n",
        " f(rows)\n",
        "\n",
        "def draw_grid(r):\n",
        " print(r, end='')\n",
        "\n",
        "rows = ('+ ' + '- '*4)*4 + '+' + '\\n'\n",
        "cols = (('| ' + '  '*4)*5 + '\\n')*4\n",
        "res = rows + cols\n",
        "\n",
        "draw_grid_art_four(draw_grid)"
      ],
      "execution_count": 0,
      "outputs": [
        {
          "output_type": "stream",
          "text": [
            "+ - - - - + - - - - + - - - - + - - - - +\n",
            "|         |         |         |         |         \n",
            "|         |         |         |         |         \n",
            "|         |         |         |         |         \n",
            "|         |         |         |         |         \n",
            "+ - - - - + - - - - + - - - - + - - - - +\n",
            "|         |         |         |         |         \n",
            "|         |         |         |         |         \n",
            "|         |         |         |         |         \n",
            "|         |         |         |         |         \n",
            "+ - - - - + - - - - + - - - - + - - - - +\n",
            "|         |         |         |         |         \n",
            "|         |         |         |         |         \n",
            "|         |         |         |         |         \n",
            "|         |         |         |         |         \n",
            "+ - - - - + - - - - + - - - - + - - - - +\n",
            "|         |         |         |         |         \n",
            "|         |         |         |         |         \n",
            "|         |         |         |         |         \n",
            "|         |         |         |         |         \n",
            "+ - - - - + - - - - + - - - - + - - - - +\n"
          ],
          "name": "stdout"
        }
      ]
    }
  ]
}