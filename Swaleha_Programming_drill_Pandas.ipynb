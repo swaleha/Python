{
  "nbformat": 4,
  "nbformat_minor": 0,
  "metadata": {
    "colab": {
      "name": "Swaleha_Programming drill Pandas.ipynb",
      "provenance": [],
      "collapsed_sections": [],
      "include_colab_link": true
    },
    "kernelspec": {
      "name": "python3",
      "display_name": "Python 3"
    }
  },
  "cells": [
    {
      "cell_type": "markdown",
      "metadata": {
        "id": "view-in-github",
        "colab_type": "text"
      },
      "source": [
        "<a href=\"https://colab.research.google.com/github/swaleha/Python/blob/master/Swaleha_Programming_drill_Pandas.ipynb\" target=\"_parent\"><img src=\"https://colab.research.google.com/assets/colab-badge.svg\" alt=\"Open In Colab\"/></a>"
      ]
    },
    {
      "cell_type": "markdown",
      "metadata": {
        "id": "xEOHTJmnMvMq",
        "colab_type": "text"
      },
      "source": [
        "# Pandas Drill\n",
        "\n",
        "#### Dataset used here contains a subset of information, pertaining to the weather patterns for 4 specific days in the city of New York, Mumbai and Paris. \n",
        "#### Content: City, temperature, windspeed and event along with dates. "
      ]
    },
    {
      "cell_type": "code",
      "metadata": {
        "id": "XpPHUUhRDFbC",
        "colab_type": "code",
        "colab": {
          "base_uri": "https://localhost:8080/",
          "height": 195
        },
        "outputId": "8d6fa305-1c54-4ef0-bc1c-7ae5a81fc7f8"
      },
      "source": [
        "# IMPORTING DATASETS\n",
        "\n",
        "import io\n",
        "import pandas as pd\n",
        "url ='https://raw.githubusercontent.com/swaleha/Python/master/weather_data_cities.csv'\n",
        "df = pd.read_csv(url)\n",
        "df.head() # first five rows of the data\n",
        "\n",
        "# df.tail() for last five rows of the days"
      ],
      "execution_count": 21,
      "outputs": [
        {
          "output_type": "execute_result",
          "data": {
            "text/html": [
              "<div>\n",
              "<style scoped>\n",
              "    .dataframe tbody tr th:only-of-type {\n",
              "        vertical-align: middle;\n",
              "    }\n",
              "\n",
              "    .dataframe tbody tr th {\n",
              "        vertical-align: top;\n",
              "    }\n",
              "\n",
              "    .dataframe thead th {\n",
              "        text-align: right;\n",
              "    }\n",
              "</style>\n",
              "<table border=\"1\" class=\"dataframe\">\n",
              "  <thead>\n",
              "    <tr style=\"text-align: right;\">\n",
              "      <th></th>\n",
              "      <th>day</th>\n",
              "      <th>city</th>\n",
              "      <th>temperature</th>\n",
              "      <th>windspeed</th>\n",
              "      <th>event</th>\n",
              "    </tr>\n",
              "  </thead>\n",
              "  <tbody>\n",
              "    <tr>\n",
              "      <th>0</th>\n",
              "      <td>1/1/2017</td>\n",
              "      <td>new york</td>\n",
              "      <td>32</td>\n",
              "      <td>6</td>\n",
              "      <td>Rain</td>\n",
              "    </tr>\n",
              "    <tr>\n",
              "      <th>1</th>\n",
              "      <td>1/2/2017</td>\n",
              "      <td>new york</td>\n",
              "      <td>36</td>\n",
              "      <td>7</td>\n",
              "      <td>Sunny</td>\n",
              "    </tr>\n",
              "    <tr>\n",
              "      <th>2</th>\n",
              "      <td>1/3/2017</td>\n",
              "      <td>new york</td>\n",
              "      <td>28</td>\n",
              "      <td>12</td>\n",
              "      <td>Snow</td>\n",
              "    </tr>\n",
              "    <tr>\n",
              "      <th>3</th>\n",
              "      <td>1/4/2017</td>\n",
              "      <td>new york</td>\n",
              "      <td>33</td>\n",
              "      <td>7</td>\n",
              "      <td>Sunny</td>\n",
              "    </tr>\n",
              "    <tr>\n",
              "      <th>4</th>\n",
              "      <td>1/1/2017</td>\n",
              "      <td>mumbai</td>\n",
              "      <td>90</td>\n",
              "      <td>5</td>\n",
              "      <td>Sunny</td>\n",
              "    </tr>\n",
              "  </tbody>\n",
              "</table>\n",
              "</div>"
            ],
            "text/plain": [
              "        day      city  temperature  windspeed  event\n",
              "0  1/1/2017  new york           32          6   Rain\n",
              "1  1/2/2017  new york           36          7  Sunny\n",
              "2  1/3/2017  new york           28         12   Snow\n",
              "3  1/4/2017  new york           33          7  Sunny\n",
              "4  1/1/2017    mumbai           90          5  Sunny"
            ]
          },
          "metadata": {
            "tags": []
          },
          "execution_count": 21
        }
      ]
    },
    {
      "cell_type": "markdown",
      "metadata": {
        "id": "CpUovKSSHhLy",
        "colab_type": "text"
      },
      "source": [
        "# #DRILL 1\n",
        "\n",
        "Basic Operations to Understand the Data"
      ]
    },
    {
      "cell_type": "markdown",
      "metadata": {
        "id": "m63E8yHJXqO5",
        "colab_type": "text"
      },
      "source": [
        "\n",
        "<img src=\"https://drive.google.com/uc?id=1n6Ui4m0lqhhQsCZSgIjyvUIt2exIxPC_\" width=\"700\">\n",
        "\n",
        "### Expected Output\n",
        "<img src=\"https://drive.google.com/uc?id=1pCU6V01YPszJ4jgK-tcGrQg9h4L9z287\" width=\"700\">"
      ]
    },
    {
      "cell_type": "code",
      "metadata": {
        "id": "l6bc-bjTaTgI",
        "colab_type": "code",
        "colab": {
          "base_uri": "https://localhost:8080/",
          "height": 530
        },
        "outputId": "938bd863-db4a-4705-c217-d8d26e03b2be"
      },
      "source": [
        "print(df.shape)\n",
        "\n",
        "print('-'*80)\n",
        "\n",
        "print(df[3:8])\n",
        "\n",
        "print('-'*80)\n",
        "\n",
        "print(df.columns)\n",
        "\n",
        "print('-'*80)\n",
        "\n",
        "print(df[['day', 'event']])\n",
        "\n",
        "print('-'*80)\n",
        "\n",
        "print(df['temperature'].max())\n",
        "\n",
        "print('-'*80)\n",
        "\n",
        "df[df['temperature'] == df['temperature'].max()]\n"
      ],
      "execution_count": 16,
      "outputs": [
        {
          "output_type": "stream",
          "text": [
            "(12, 5)\n",
            "--------------------------------------------------------------------------------\n",
            "        day      city  temperature  windspeed  event\n",
            "3  1/4/2017  new york           33          7  Sunny\n",
            "4  1/1/2017    mumbai           90          5  Sunny\n",
            "5  1/2/2017    mumbai           85         12    Fog\n",
            "6  1/3/2017    mumbai           87         15    Fog\n",
            "7  1/4/2017    mumbai           92          5   Rain\n",
            "--------------------------------------------------------------------------------\n",
            "Index(['day', 'city', 'temperature', 'windspeed', 'event'], dtype='object')\n",
            "--------------------------------------------------------------------------------\n",
            "         day   event\n",
            "0   1/1/2017    Rain\n",
            "1   1/2/2017   Sunny\n",
            "2   1/3/2017    Snow\n",
            "3   1/4/2017   Sunny\n",
            "4   1/1/2017   Sunny\n",
            "5   1/2/2017     Fog\n",
            "6   1/3/2017     Fog\n",
            "7   1/4/2017    Rain\n",
            "8   1/1/2017   Sunny\n",
            "9   1/2/2017  Cloudy\n",
            "10  1/3/2017  Cloudy\n",
            "11  1/4/2017  Cloudy\n",
            "--------------------------------------------------------------------------------\n",
            "92\n",
            "--------------------------------------------------------------------------------\n"
          ],
          "name": "stdout"
        },
        {
          "output_type": "execute_result",
          "data": {
            "text/html": [
              "<div>\n",
              "<style scoped>\n",
              "    .dataframe tbody tr th:only-of-type {\n",
              "        vertical-align: middle;\n",
              "    }\n",
              "\n",
              "    .dataframe tbody tr th {\n",
              "        vertical-align: top;\n",
              "    }\n",
              "\n",
              "    .dataframe thead th {\n",
              "        text-align: right;\n",
              "    }\n",
              "</style>\n",
              "<table border=\"1\" class=\"dataframe\">\n",
              "  <thead>\n",
              "    <tr style=\"text-align: right;\">\n",
              "      <th></th>\n",
              "      <th>day</th>\n",
              "      <th>city</th>\n",
              "      <th>temperature</th>\n",
              "      <th>windspeed</th>\n",
              "      <th>event</th>\n",
              "    </tr>\n",
              "  </thead>\n",
              "  <tbody>\n",
              "    <tr>\n",
              "      <th>7</th>\n",
              "      <td>1/4/2017</td>\n",
              "      <td>mumbai</td>\n",
              "      <td>92</td>\n",
              "      <td>5</td>\n",
              "      <td>Rain</td>\n",
              "    </tr>\n",
              "  </tbody>\n",
              "</table>\n",
              "</div>"
            ],
            "text/plain": [
              "        day    city  temperature  windspeed event\n",
              "7  1/4/2017  mumbai           92          5  Rain"
            ]
          },
          "metadata": {
            "tags": []
          },
          "execution_count": 16
        }
      ]
    },
    {
      "cell_type": "markdown",
      "metadata": {
        "id": "TqmB-BwfL0az",
        "colab_type": "text"
      },
      "source": [
        "# #DRILL 2\n",
        "\n",
        "Using GROUP-BY"
      ]
    },
    {
      "cell_type": "markdown",
      "metadata": {
        "id": "1qStOVIcZYiZ",
        "colab_type": "text"
      },
      "source": [
        "\n",
        "<img src=\"https://drive.google.com/uc?id=1evGK9rsU2Kb5fF1ELOa71p5X9GlW8l14\" width=\"700\">\n",
        "\n",
        "### Expected Output\n",
        "<img src=\"https://drive.google.com/uc?id=1ZQFODLlURAN4IV2oCxjxlkNmqdBzAVaz\" width=\"700\">"
      ]
    },
    {
      "cell_type": "code",
      "metadata": {
        "id": "uCYde_e9aR6c",
        "colab_type": "code",
        "colab": {
          "base_uri": "https://localhost:8080/",
          "height": 521
        },
        "outputId": "af058ffd-8cd9-434a-e0e2-0bd1856e29b8"
      },
      "source": [
        "g = df.groupby('city')\n",
        "\n",
        "for city, city_df in g:\n",
        "  print(city)\n",
        "  print(city_df)\n",
        "\n",
        "print('-'*80)\n",
        "\n",
        "print(g.get_group('new york'))\n",
        "\n",
        "print('-'*80)\n",
        "\n",
        "print(g.max())"
      ],
      "execution_count": 19,
      "outputs": [
        {
          "output_type": "stream",
          "text": [
            "mumbai\n",
            "        day    city  temperature  windspeed  event\n",
            "4  1/1/2017  mumbai           90          5  Sunny\n",
            "5  1/2/2017  mumbai           85         12    Fog\n",
            "6  1/3/2017  mumbai           87         15    Fog\n",
            "7  1/4/2017  mumbai           92          5   Rain\n",
            "new york\n",
            "        day      city  temperature  windspeed  event\n",
            "0  1/1/2017  new york           32          6   Rain\n",
            "1  1/2/2017  new york           36          7  Sunny\n",
            "2  1/3/2017  new york           28         12   Snow\n",
            "3  1/4/2017  new york           33          7  Sunny\n",
            "paris\n",
            "         day   city  temperature  windspeed   event\n",
            "8   1/1/2017  paris           45         20   Sunny\n",
            "9   1/2/2017  paris           50         13  Cloudy\n",
            "10  1/3/2017  paris           54          8  Cloudy\n",
            "11  1/4/2017  paris           42         10  Cloudy\n",
            "--------------------------------------------------------------------------------\n",
            "        day      city  temperature  windspeed  event\n",
            "0  1/1/2017  new york           32          6   Rain\n",
            "1  1/2/2017  new york           36          7  Sunny\n",
            "2  1/3/2017  new york           28         12   Snow\n",
            "3  1/4/2017  new york           33          7  Sunny\n",
            "--------------------------------------------------------------------------------\n",
            "               day  temperature  windspeed  event\n",
            "city                                             \n",
            "mumbai    1/4/2017           92         15  Sunny\n",
            "new york  1/4/2017           36         12  Sunny\n",
            "paris     1/4/2017           54         20  Sunny\n"
          ],
          "name": "stdout"
        }
      ]
    },
    {
      "cell_type": "markdown",
      "metadata": {
        "id": "gjM9N0StN47O",
        "colab_type": "text"
      },
      "source": [
        "# #DRILL 3\n",
        "\n",
        "Concatenate Data Frames\n"
      ]
    },
    {
      "cell_type": "markdown",
      "metadata": {
        "id": "oqajX6TiZnWu",
        "colab_type": "text"
      },
      "source": [
        "\n",
        "\n",
        "\n",
        "<img src=\"https://drive.google.com/uc?id=1NbVL2FPmFztREzrDl5lWho3ietuhDH4u\" width=\"700\">\n",
        "\n",
        "### Expected Output\n",
        "<img src=\"https://drive.google.com/uc?id=10zDsD9v17rc-9b1nqcyiZ_sRcTH8bB8D\" width=\"700\">"
      ]
    },
    {
      "cell_type": "code",
      "metadata": {
        "id": "31TZ7fyfaPu0",
        "colab_type": "code",
        "colab": {
          "base_uri": "https://localhost:8080/",
          "height": 386
        },
        "outputId": "eb6cc853-c7a8-45b8-a908-e8e7219abaee"
      },
      "source": [
        "india_weather = pd.DataFrame({\n",
        "    \"city\": [\"mumbai\", \"delhi\", \"bangalore\"],\n",
        "    \"temperature\": [32, 45, 30],\n",
        "    \"humidity\": [80, 60, 78]\n",
        "})\n",
        "\n",
        "print(india_weather)\n",
        "\n",
        "print('-'*80)\n",
        "\n",
        "us_weather = pd.DataFrame({\n",
        "    \"city\": [\"new york\", \"chicago\", \"orlando\"],\n",
        "    \"temperature\": [21, 14, 35] ,\n",
        "    \"humidity\": [68, 65, 75]\n",
        "})\n",
        "\n",
        "print(us_weather)\n",
        "\n",
        "print('-'*80)\n",
        "df = pd.concat([india_weather, us_weather], ignore_index = True)\n",
        "print(df)\n",
        "\n",
        "print('-'*80)\n",
        "df = pd.concat([india_weather, us_weather], axis = 1)\n",
        "print(df)"
      ],
      "execution_count": 26,
      "outputs": [
        {
          "output_type": "stream",
          "text": [
            "        city  temperature  humidity\n",
            "0     mumbai           32        80\n",
            "1      delhi           45        60\n",
            "2  bangalore           30        78\n",
            "--------------------------------------------------------------------------------\n",
            "       city  temperature  humidity\n",
            "0  new york           21        68\n",
            "1   chicago           14        65\n",
            "2   orlando           35        75\n",
            "--------------------------------------------------------------------------------\n",
            "        city  temperature  humidity\n",
            "0     mumbai           32        80\n",
            "1      delhi           45        60\n",
            "2  bangalore           30        78\n",
            "3   new york           21        68\n",
            "4    chicago           14        65\n",
            "5    orlando           35        75\n",
            "--------------------------------------------------------------------------------\n",
            "        city  temperature  humidity      city  temperature  humidity\n",
            "0     mumbai           32        80  new york           21        68\n",
            "1      delhi           45        60   chicago           14        65\n",
            "2  bangalore           30        78   orlando           35        75\n"
          ],
          "name": "stdout"
        }
      ]
    },
    {
      "cell_type": "markdown",
      "metadata": {
        "id": "rp25kP_FQVjg",
        "colab_type": "text"
      },
      "source": [
        "# #DRILL 4\n",
        "\n",
        "Numerical Indexing (.loc, iloc)"
      ]
    },
    {
      "cell_type": "markdown",
      "metadata": {
        "id": "67Est6cTZ84L",
        "colab_type": "text"
      },
      "source": [
        "\n",
        "<img src=\"https://drive.google.com/uc?id=1WmLg9tSbJCRhRI7JJFO-YNdzO7rMWUeq\" width=\"700\">\n",
        "\n",
        "### Expected Output\n",
        "<img src=\"https://drive.google.com/uc?id=1SwklAOwoFO-rsSHyDR291bA2HnHB2GTS\" width=\"700\">"
      ]
    },
    {
      "cell_type": "code",
      "metadata": {
        "id": "Mz_2_voTaMTk",
        "colab_type": "code",
        "colab": {
          "base_uri": "https://localhost:8080/",
          "height": 370
        },
        "outputId": "1dba7b5d-bfec-48f1-9cfb-a60a0f97fe24"
      },
      "source": [
        "df = pd.DataFrame([3, 4, 5, 6, 7, 8], index = [47, 46, 45, 1, 2, 3])\n",
        "print(df)\n",
        "\n",
        "print('-'*80)\n",
        "print(df.loc[:2])\n",
        "\n",
        "print('-'*80)\n",
        "print(df.iloc[:2])\n",
        "\n",
        "print('-'*80)\n",
        "print(df.loc[45])"
      ],
      "execution_count": 29,
      "outputs": [
        {
          "output_type": "stream",
          "text": [
            "    0\n",
            "47  3\n",
            "46  4\n",
            "45  5\n",
            "1   6\n",
            "2   7\n",
            "3   8\n",
            "--------------------------------------------------------------------------------\n",
            "    0\n",
            "47  3\n",
            "46  4\n",
            "45  5\n",
            "1   6\n",
            "2   7\n",
            "--------------------------------------------------------------------------------\n",
            "    0\n",
            "47  3\n",
            "46  4\n",
            "--------------------------------------------------------------------------------\n",
            "0    5\n",
            "Name: 45, dtype: int64\n"
          ],
          "name": "stdout"
        }
      ]
    },
    {
      "cell_type": "code",
      "metadata": {
        "id": "nt2wokTAaOAl",
        "colab_type": "code",
        "colab": {}
      },
      "source": [
        ""
      ],
      "execution_count": null,
      "outputs": []
    }
  ]
}