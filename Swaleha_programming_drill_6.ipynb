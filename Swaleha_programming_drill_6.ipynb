{
  "nbformat": 4,
  "nbformat_minor": 0,
  "metadata": {
    "colab": {
      "name": "Swaleha_programming_drill_6.ipynb",
      "provenance": [],
      "collapsed_sections": [],
      "include_colab_link": true
    },
    "kernelspec": {
      "name": "python3",
      "display_name": "Python 3"
    }
  },
  "cells": [
    {
      "cell_type": "markdown",
      "metadata": {
        "id": "view-in-github",
        "colab_type": "text"
      },
      "source": [
        "<a href=\"https://colab.research.google.com/github/swaleha/Python/blob/master/Swaleha_programming_drill_6.ipynb\" target=\"_parent\"><img src=\"https://colab.research.google.com/assets/colab-badge.svg\" alt=\"Open In Colab\"/></a>"
      ]
    },
    {
      "cell_type": "markdown",
      "metadata": {
        "id": "rHKozONN38LF",
        "colab_type": "text"
      },
      "source": [
        "#Drill #23\n",
        "<img src=\"https://drive.google.com/uc?id=169lw1cIPwYqUbpY9SxUwUHJhTKSbJid7\" width=\"700\">\n",
        "\n",
        "#### Expected Output\n",
        "<img src=\"https://drive.google.com/uc?id=1sbTsUAvgn-GEgimm_IEvv_58rLbUxovy\" width=\"400\">"
      ]
    },
    {
      "cell_type": "code",
      "metadata": {
        "id": "NStJlgl62Kp8",
        "colab_type": "code",
        "outputId": "fcf3fb63-3a37-43c9-dc56-d30a86c80374",
        "colab": {
          "base_uri": "https://localhost:8080/",
          "height": 466
        }
      },
      "source": [
        "the_count = [1, 2, 3, 4, 5]\n",
        "fruits = ['apples', 'oranges', 'pears', 'apricots']\n",
        "change = [1, 'pennies', 2, 'dimes', 3, 'quarters']\n",
        "\n",
        "# this first kind of for-loop goes through the list\n",
        "\n",
        "for number in the_count:\n",
        "  print(f\"This is count {number}\")\n",
        "\n",
        "# same as above\n",
        "for fruit in fruits:\n",
        "  print(f'This type of {fruits}')\n",
        "\n",
        "# also we can go through mixed lists too\n",
        "# notice we have to use {} because we don't know what's in it\n",
        "for i in change:\n",
        "  print(f'I got {i}')\n",
        "\n",
        "# we can also build lists. Start with the empty one\n",
        "elements = []\n",
        "\n",
        "# then use the range function to do 0 to 5  counts\n",
        "for i in range(0, 6):\n",
        "  print(f\"Adding {i} to the list\")\n",
        "  elements.append(i)\n",
        "\n",
        "# now we can print them too\n",
        "for i in elements:\n",
        "  print(i)\n"
      ],
      "execution_count": 0,
      "outputs": [
        {
          "output_type": "stream",
          "text": [
            "This is count 1\n",
            "This is count 2\n",
            "This is count 3\n",
            "This is count 4\n",
            "This is count 5\n",
            "This type of ['apples', 'oranges', 'pears', 'apricots']\n",
            "This type of ['apples', 'oranges', 'pears', 'apricots']\n",
            "This type of ['apples', 'oranges', 'pears', 'apricots']\n",
            "This type of ['apples', 'oranges', 'pears', 'apricots']\n",
            "I got 1\n",
            "I got pennies\n",
            "I got 2\n",
            "I got dime\n",
            "I got 3\n",
            "I got quarters\n",
            "Adding 0 to the list\n",
            "Adding 1 to the list\n",
            "Adding 2 to the list\n",
            "Adding 3 to the list\n",
            "Adding 4 to the list\n",
            "Adding 5 to the list\n",
            "0\n",
            "1\n",
            "2\n",
            "3\n",
            "4\n",
            "5\n"
          ],
          "name": "stdout"
        }
      ]
    },
    {
      "cell_type": "markdown",
      "metadata": {
        "id": "3-zjNUyf5lUG",
        "colab_type": "text"
      },
      "source": [
        "# Drill #24\n",
        "<img src=\"https://drive.google.com/uc?id=18MUCU7iPd68Kyb5tnv1ZlzzYROhNWnqp\" width=\"700\">\n",
        "\n",
        "## Expected Output\n",
        "<img src=\"https://drive.google.com/uc?id=1XnXzP-G-TtmKaynurnwb2F77Biigfh58\" width=\"500\">"
      ]
    },
    {
      "cell_type": "code",
      "metadata": {
        "id": "7qW-3fwv3i7i",
        "colab_type": "code",
        "outputId": "7201ee2f-6dcf-40db-bb74-cd9d37b2b800",
        "colab": {
          "base_uri": "https://localhost:8080/",
          "height": 433
        }
      },
      "source": [
        "i = 0\n",
        "numbers = []\n",
        "\n",
        "while (i < 6):\n",
        "  print(f\"At the top i is {i}\")\n",
        "  numbers.append(i)\n",
        "\n",
        "  i = i + 1\n",
        "  print(\"Numbers now:\", numbers)\n",
        "  print(f\"At the bottom i is {i}\")\n",
        "\n",
        "print(\"The numbers:\")\n",
        "\n",
        "for num in numbers:\n",
        "  print(num)"
      ],
      "execution_count": 0,
      "outputs": [
        {
          "output_type": "stream",
          "text": [
            "At the top i is 0\n",
            "Numbers now: [0]\n",
            "At the bottom i is 1\n",
            "At the top i is 1\n",
            "Numbers now: [0, 1]\n",
            "At the bottom i is 2\n",
            "At the top i is 2\n",
            "Numbers now: [0, 1, 2]\n",
            "At the bottom i is 3\n",
            "At the top i is 3\n",
            "Numbers now: [0, 1, 2, 3]\n",
            "At the bottom i is 4\n",
            "At the top i is 4\n",
            "Numbers now: [0, 1, 2, 3, 4]\n",
            "At the bottom i is 5\n",
            "At the top i is 5\n",
            "Numbers now: [0, 1, 2, 3, 4, 5]\n",
            "At the bottom i is 6\n",
            "The numbers:\n",
            "0\n",
            "1\n",
            "2\n",
            "3\n",
            "4\n",
            "5\n"
          ],
          "name": "stdout"
        }
      ]
    },
    {
      "cell_type": "markdown",
      "metadata": {
        "id": "Qt5uGr2udp3y",
        "colab_type": "text"
      },
      "source": [
        "#Drill #25\n",
        "<img src=\"https://drive.google.com/uc?id=1hKejI4MsqhSWAvrsQvCwiND9KeROQl_E\" width=\"700\">\n",
        "\n",
        "#### Expected Output\n",
        "<img src=\"https://drive.google.com/uc?id=1yZ-wjCv0ao1NIk5TYSupqOMjbxjoVq7K\" width=\"600\">"
      ]
    },
    {
      "cell_type": "code",
      "metadata": {
        "id": "jpcSDENB6T8B",
        "colab_type": "code",
        "outputId": "cbde5be3-f094-4c53-e496-ab81402420b2",
        "colab": {
          "base_uri": "https://localhost:8080/",
          "height": 283
        }
      },
      "source": [
        "ten_things = \"Apples Oranges Crows Telephone Light Sugar\"\n",
        "\n",
        "print(\"Wait there are not 10 things in the list. Lets fix that\")\n",
        "\n",
        "stuff = ten_things.split(' ')\n",
        "\n",
        "more_stuff = ['Day', 'Night', 'Song', 'Frisbee', 'Corn', 'Banana', 'Girl', 'Boy']\n",
        "\n",
        "while(len(stuff) != 10):\n",
        "  next_one = more_stuff.pop()\n",
        "  print(\"Adding:\",next_one)\n",
        "  stuff.append(next_one)\n",
        "\n",
        "  print(f\"There are {len(stuff)} items now\")\n",
        "\n",
        "print(\"There we go:\", stuff)\n",
        "\n",
        "print(\"Let's do something with stuff\")\n",
        "\n",
        "print(stuff[1])\n",
        "print(stuff[-1])\n",
        "print(stuff.pop())\n",
        "print(' '.join(stuff))\n",
        "print('#'.join(stuff[3:5]))\n"
      ],
      "execution_count": 0,
      "outputs": [
        {
          "output_type": "stream",
          "text": [
            "Wait there are not 10 things in the list. Lets fix that\n",
            "Adding: Boy\n",
            "There are 7 items now\n",
            "Adding: Girl\n",
            "There are 8 items now\n",
            "Adding: Banana\n",
            "There are 9 items now\n",
            "Adding: Corn\n",
            "There are 10 items now\n",
            "There we go: ['Apples', 'Oranges', 'Crows', 'Telephone', 'Light', 'Sugar', 'Boy', 'Girl', 'Banana', 'Corn']\n",
            "Let's do something with stuff\n",
            "Oranges\n",
            "Corn\n",
            "Corn\n",
            "Apples Oranges Crows Telephone Light Sugar Boy Girl Banana\n",
            "Telephone#Light\n"
          ],
          "name": "stdout"
        }
      ]
    },
    {
      "cell_type": "code",
      "metadata": {
        "id": "cEJY7wZNOEbK",
        "colab_type": "code",
        "colab": {}
      },
      "source": [
        ""
      ],
      "execution_count": 0,
      "outputs": []
    }
  ]
}