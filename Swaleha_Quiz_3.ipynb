{
  "nbformat": 4,
  "nbformat_minor": 0,
  "metadata": {
    "kernelspec": {
      "display_name": "Python 3",
      "language": "python",
      "name": "python3"
    },
    "language_info": {
      "codemirror_mode": {
        "name": "ipython",
        "version": 3
      },
      "file_extension": ".py",
      "mimetype": "text/x-python",
      "name": "python",
      "nbconvert_exporter": "python",
      "pygments_lexer": "ipython3",
      "version": "3.6.8"
    },
    "colab": {
      "name": "Swaleha_Quiz 3.ipynb",
      "provenance": [],
      "collapsed_sections": [],
      "include_colab_link": true
    }
  },
  "cells": [
    {
      "cell_type": "markdown",
      "metadata": {
        "id": "view-in-github",
        "colab_type": "text"
      },
      "source": [
        "<a href=\"https://colab.research.google.com/github/swaleha/Python/blob/master/Swaleha_Quiz_3.ipynb\" target=\"_parent\"><img src=\"https://colab.research.google.com/assets/colab-badge.svg\" alt=\"Open In Colab\"/></a>"
      ]
    },
    {
      "cell_type": "markdown",
      "metadata": {
        "id": "0U-in5NXlAyr",
        "colab_type": "text"
      },
      "source": [
        "General Instructions:\n",
        "- By array, I mean numpy array\n",
        "- By matrix, I mean a numpy array of 2 dimensions"
      ]
    },
    {
      "cell_type": "markdown",
      "metadata": {
        "id": "37hSpnsCkFAO",
        "colab_type": "text"
      },
      "source": [
        "### 1\n",
        "Write a function to create and return an integer array of shape (5, 2) from a range between 100 to 200 (including 100, excluding 200) such that the difference between consecutive elements is 10."
      ]
    },
    {
      "cell_type": "code",
      "metadata": {
        "id": "YL23bzkVkFAP",
        "colab_type": "code",
        "colab": {}
      },
      "source": [
        "def create_integer_array():\n",
        "  '''\n",
        "  Input(s):\n",
        "   None\n",
        "\n",
        "  Output(s):\n",
        "   res is the array elements in range between 100 and 200 with consecutive elements that differ by 10 and res array is in shape (5,2)\n",
        "  '''\n",
        "  res = np.arange(100, 200, 10, dtype = int)\n",
        "  return res.reshape(5,2)\n"
      ],
      "execution_count": 0,
      "outputs": []
    },
    {
      "cell_type": "markdown",
      "metadata": {
        "id": "zYjrAoJBkFAV",
        "colab_type": "text"
      },
      "source": [
        "### 2\n",
        "Given a numpy array ```a```, of shape ```(m, n)``` m>=3, n>=3. Write a function to return an array consisting of the elements in 3rd column of ```a``` <br>\n",
        "Eg., Suppose\n",
        "``` \n",
        "a = [[1 2 3]\n",
        "     [4 5 6]\n",
        "     [7 8 9]]    \n",
        "```\n",
        "Then \n",
        "```\n",
        "column_3(a) -> [3 6 9]\n",
        "```"
      ]
    },
    {
      "cell_type": "code",
      "metadata": {
        "id": "qGBr5qQckFAX",
        "colab_type": "code",
        "colab": {}
      },
      "source": [
        "def column_3(a):\n",
        " '''\n",
        " Input(s):\n",
        "  a is the array of elements having shape (m, n) such that m >= 3 and n >= 3\n",
        "\n",
        " Output(s):\n",
        "  res is the array elements from 3rd column of array a\n",
        " '''\n",
        "\n",
        " return a[:, 2]\n"
      ],
      "execution_count": 0,
      "outputs": []
    },
    {
      "cell_type": "markdown",
      "metadata": {
        "id": "DikElEA9kFAb",
        "colab_type": "text"
      },
      "source": [
        "### 3\n",
        "Write a function which does the following. Given a numpy array $a$ of shape (m, n), index $i$ and an array $b$ of shape (m, ). Replace the $i_{th}$ column of $a$ with the array $b$  \n",
        "Eg., Suppose\n",
        "```\n",
        "a = [[1 2 3]\n",
        "     [4 5 6]\n",
        "     [7 8 9]]\n",
        "b = [30, 60, 90]\n",
        "\n",
        "```    \n",
        "Then,\n",
        "```\n",
        "replace_col(a, 2, b) -> [[1 2 30]\n",
        "                         [4 5 60]\n",
        "                         [7 8 90]]\n",
        "```"
      ]
    },
    {
      "cell_type": "code",
      "metadata": {
        "id": "0uKhiFAHkFAd",
        "colab_type": "code",
        "outputId": "a869616e-9a57-4462-fe91-792e43764bec",
        "colab": {
          "base_uri": "https://localhost:8080/",
          "height": 68
        }
      },
      "source": [
        "def replace_col(a, i, b):\n",
        "  '''\n",
        "  Input(s):\n",
        "   a is the array of elements of shape (m, n)\n",
        "   i is the column index \n",
        "   b is the second array of shape (m,)\n",
        "\n",
        "  Output(s):\n",
        "   a is the array elements in which column of index i in array a is replaced by array b\n",
        "  '''\n",
        "  a[:, i] = b\n",
        "  return a\n",
        "\n",
        "print(replace_col(np.array([[1, 2, 3], [4, 5, 6], [7, 8, 9]]), 2, np.array([30, 60, 90])))"
      ],
      "execution_count": 0,
      "outputs": [
        {
          "output_type": "stream",
          "text": [
            "[[ 1  2 30]\n",
            " [ 4  5 60]\n",
            " [ 7  8 90]]\n"
          ],
          "name": "stdout"
        }
      ]
    },
    {
      "cell_type": "markdown",
      "metadata": {
        "id": "kiBrW4BekFAs",
        "colab_type": "text"
      },
      "source": [
        "### 4\n",
        "Write a function which does the following. Given a numpy array $a$ of shape (m, n) and indices $i$, $j$. Return a numpy array which swaps the columns $i$ and $j$ of $a$\n",
        "Eg., Suppose\n",
        "```\n",
        "a = [[1 2 3]\n",
        "     [4 5 6]\n",
        "     [7 8 9]]\n",
        "\n",
        "swap_cols(a, 0, 2) -> [[3 2 1]\n",
        "                       [6 5 4]\n",
        "                       [9 8 7]]\n",
        "```"
      ]
    },
    {
      "cell_type": "code",
      "metadata": {
        "id": "SHreztV0kFAt",
        "colab_type": "code",
        "outputId": "e21d33cb-0a94-4a99-c900-e0723e13e7bf",
        "colab": {
          "base_uri": "https://localhost:8080/",
          "height": 68
        }
      },
      "source": [
        "def swap_cols(a, i, j):\n",
        " '''\n",
        " Input(s):\n",
        "  a is the array of elements of shape (m, n)\n",
        "  i and j are the column indices\n",
        "  \n",
        " Output(s):\n",
        "  a is the array elements in which elements in column i are swapped with the elements in column j\n",
        " '''\n",
        " a[:,[i, j]] = a[:, [j, i]]\n",
        "\n",
        " return a\n"
      ],
      "execution_count": 0,
      "outputs": [
        {
          "output_type": "stream",
          "text": [
            "[[3 2 1]\n",
            " [6 5 4]\n",
            " [9 8 7]]\n"
          ],
          "name": "stdout"
        }
      ]
    },
    {
      "cell_type": "markdown",
      "metadata": {
        "id": "zcmziMV3ol55",
        "colab_type": "text"
      },
      "source": [
        "## 5"
      ]
    },
    {
      "cell_type": "markdown",
      "metadata": {
        "id": "jMeJeFXzosUu",
        "colab_type": "text"
      },
      "source": [
        "There are various equivalent ways to define the determinant of a square matrix A, i.e. one with the same number of rows and columns. Perhaps the simplest way to express the determinant is by considering the elements in the top row and the respective minors; starting at the left, multiply the element by the minor, then subtract the product of the next element and its minor, and alternate adding and subtracting such products until all elements in the top row have been exhausted. For example, here is the result for a 4 × 4 matrix: <br>\n",
        "\n",
        "<img src = \"https://drive.google.com/uc?id=1TTljfFZAnOvqgAOiOrv6r4DDRROD-Vph\"> <br>\n",
        "\n",
        "Also, for a 2x2 matrix, this is the formula - <br>\n",
        "<img src = \"https://drive.google.com/uc?id=1H3aFpr1guevWjz4F-XRUQ9eP5TfjVLwu\"> <br>"
      ]
    },
    {
      "cell_type": "markdown",
      "metadata": {
        "id": "kHt2BOQpo5k3",
        "colab_type": "text"
      },
      "source": [
        "###5.1 Minor\n",
        "Write a function that does the following. \n",
        "Given a square matrix $A$ and an index $i$, find and return the sub-matrix that is the minor corresponding to element at index $i$ of the first row of $A$"
      ]
    },
    {
      "cell_type": "code",
      "metadata": {
        "id": "cgDuw57DowWl",
        "colab_type": "code",
        "colab": {}
      },
      "source": [
        "def minor(A, i):\n",
        "  '''\n",
        "  Input(s):\n",
        "     A is the array of elements of a square matrix\n",
        "     i is the column index\n",
        "  \n",
        "  Output(s):\n",
        "     minor_matrix is the sub-matrix of A which contains minor of elements at index i of first row in A\n",
        "  '''\n",
        "\n",
        "  minor_matrix = np.hstack([A[1:, :i], A[1: , i+1:]])\n",
        "\n",
        "  return minor_matrix"
      ],
      "execution_count": 0,
      "outputs": []
    },
    {
      "cell_type": "markdown",
      "metadata": {
        "id": "iD0m17LHpMF6",
        "colab_type": "text"
      },
      "source": [
        "###5.2\n",
        "Given a square matrix $A$, write a function that computes and return the determinant using the formula given above and the helper function that you have defined called ```minor```. <br>\n",
        "(Do not use the functions to compute determinant which numpy provides built in)"
      ]
    },
    {
      "cell_type": "code",
      "metadata": {
        "id": "9Pd5AIYHpY7K",
        "colab_type": "code",
        "colab": {}
      },
      "source": [
        "def determinant(A):\n",
        "\n",
        "    if(A.shape[0] == 2):\n",
        "\n",
        "        return((A[0, 0] * A[1, 1]) - (A[0, 1] * A[1, 0]))\n",
        "    \n",
        "    else:\n",
        "\n",
        "      determinant_A = 0\n",
        "\n",
        "      for i in range(A.shape[0]):\n",
        "\n",
        "        determinant_A += (-1)**(i) * A[0, i] * determinant(minor(A, i))\n",
        "\n",
        "    return determinant_A\n"
      ],
      "execution_count": 0,
      "outputs": []
    }
  ]
}